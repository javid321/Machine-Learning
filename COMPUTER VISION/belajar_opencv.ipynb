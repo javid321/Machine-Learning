{
 "cells": [
  {
   "cell_type": "code",
   "execution_count": 36,
   "metadata": {},
   "outputs": [],
   "source": [
    "import cv2\n",
    "import numpy as np"
   ]
  },
  {
   "cell_type": "markdown",
   "metadata": {},
   "source": [
    "# Resize Rotate"
   ]
  },
  {
   "cell_type": "code",
   "execution_count": 14,
   "metadata": {},
   "outputs": [
    {
     "name": "stdout",
     "output_type": "stream",
     "text": [
      "(200, 200, 3)\n",
      "[[[255 255 255]\n",
      "  [255 255 255]\n",
      "  [255 255 255]\n",
      "  ...\n",
      "  [255 255 255]\n",
      "  [255 255 255]\n",
      "  [255 255 255]]\n",
      "\n",
      " [[255 255 255]\n",
      "  [255 255 255]\n",
      "  [255 255 255]\n",
      "  ...\n",
      "  [255 255 255]\n",
      "  [255 255 255]\n",
      "  [255 255 255]]\n",
      "\n",
      " [[255 255 255]\n",
      "  [255 255 255]\n",
      "  [255 255 255]\n",
      "  ...\n",
      "  [255 255 255]\n",
      "  [255 255 255]\n",
      "  [255 255 255]]\n",
      "\n",
      " ...\n",
      "\n",
      " [[255 255 255]\n",
      "  [255 255 255]\n",
      "  [255 255 255]\n",
      "  ...\n",
      "  [255 255 255]\n",
      "  [255 255 255]\n",
      "  [255 255 255]]\n",
      "\n",
      " [[255 255 255]\n",
      "  [255 255 255]\n",
      "  [255 255 255]\n",
      "  ...\n",
      "  [255 255 255]\n",
      "  [255 255 255]\n",
      "  [255 255 255]]\n",
      "\n",
      " [[255 255 255]\n",
      "  [255 255 255]\n",
      "  [255 255 255]\n",
      "  ...\n",
      "  [255 255 255]\n",
      "  [255 255 255]\n",
      "  [255 255 255]]]\n"
     ]
    }
   ],
   "source": [
    "# img = cv2.imread('brand.png')\n",
    "# img = cv2.resize(img, (400, 400))\n",
    "# img = cv2.resize(img, (0, 0), fx=0.5, fy=0.5)\n",
    "# img = cv2.rotate(img, cv2.ROTATE_90_CLOCKWISE)\n",
    "# cv2.imshow('Brand', img)\n",
    "# cv2.waitKey(0)\n",
    "# cv2.destroyAllWindows()\n",
    "# print(img.shape)\n",
    "# print(img)"
   ]
  },
  {
   "cell_type": "markdown",
   "metadata": {},
   "source": [
    "# Video"
   ]
  },
  {
   "cell_type": "code",
   "execution_count": 15,
   "metadata": {},
   "outputs": [
    {
     "name": "stdout",
     "output_type": "stream",
     "text": [
      "fps : 29.97002997002997\n"
     ]
    }
   ],
   "source": [
    "cap = cv2.VideoCapture('DonaldBeanDeepfake.mp4')\n",
    "fps = cap.get(cv2.CAP_PROP_FPS)\n",
    "print(f'fps : {fps}')\n",
    "\n",
    "while True:\n",
    "    succes, frame = cap.read()\n",
    "    if succes == False:\n",
    "        cap.release()\n",
    "        break\n",
    "    width = int(cap.get(3))\n",
    "    height = int(cap.get(4))\n",
    "    \n",
    "    image = np.zeros(frame.shape, np.uint8)\n",
    "    smaller_frame = cv2.resize(frame, (0, 0), fx=0.5, fy=0.5)\n",
    "    image[:height//2, :width//2] = smaller_frame\n",
    "    image[height//2:, :width//2] = smaller_frame\n",
    "    image[:height//2, width//2:] = smaller_frame\n",
    "    image[height//2:, width//2:] = smaller_frame\n",
    "    \n",
    "    # image = cv2.line(image, (0, 0), (width, height), (255, 0, 0), 10)\n",
    "    # image = cv2.line(image, (0, 0), (width, 0), (255, 0, 0), 10)\n",
    "    # image = cv2.line(image, (0, 0), (0, height), (255, 0, 0), 10)\n",
    "    # image = cv2.line(image, (0, height), (width, height), (255, 0, 0), 10)\n",
    "    # image = cv2.line(image, (width, 0), (width, height), (255, 0, 0), 10)\n",
    "    # image = cv2.line(image, (0, height//2), (width, height//2), (0, 255, 0), 10)\n",
    "    # image = cv2.line(image, (width//2, 0), (width//2, height), (0, 255, 0), 10)\n",
    "    image = cv2.rectangle(image, (0, 0), (width//2, height), (0, 255, 0), 10)\n",
    "    image = cv2.circle(image, (width//2, height//2), 50, (0, 255, 0), -1)\n",
    "\n",
    "    \n",
    "    cv2.imshow('frame', image)\n",
    "    if cv2.waitKey(int(fps)) == ord('m'):\n",
    "        break\n",
    "\n",
    "cap.release()\n",
    "cv2.destroyAllWindows()"
   ]
  },
  {
   "cell_type": "markdown",
   "metadata": {},
   "source": [
    "# putText"
   ]
  },
  {
   "cell_type": "code",
   "execution_count": 37,
   "metadata": {},
   "outputs": [
    {
     "name": "stdout",
     "output_type": "stream",
     "text": [
      "(336, 600, 3)\n",
      "336\n",
      "600\n",
      "27\n",
      "208\n",
      "196\n",
      "181\n"
     ]
    }
   ],
   "source": [
    "car_img = cv2.imread('car.jpg')\n",
    "car_img = cv2.resize(car_img, (0, 0), fx=2, fy=2)\n",
    "h, w, _ = car_img.shape\n",
    "print(car_img.shape)\n",
    "print(h)\n",
    "print(w)\n",
    "\n",
    "text = 'Coba Text'\n",
    "font = cv2.FONT_HERSHEY_COMPLEX\n",
    "font_sclale = 1.2\n",
    "thickness = 3\n",
    "text_size = cv2.getTextSize(text, font, font_sclale, thickness)[0]\n",
    "\n",
    "w_text, h_text = text_size\n",
    "print(h_text)\n",
    "print(w_text)\n",
    "\n",
    "text_X = int((w-w_text)/2)\n",
    "text_Y = int((h+h_text)/2)\n",
    "\n",
    "print(text_X)\n",
    "print(text_Y)\n",
    "\n",
    "text_img = cv2.putText(car_img, text, (text_X, text_Y), font, font_sclale, (0, 225, 0), thickness)\n",
    "\n",
    "cv2.imshow('text_img', text_img)\n",
    "if cv2.waitKey(0) == ord('m'):\n",
    "    cv2.destroyAllWindows()"
   ]
  },
  {
   "cell_type": "markdown",
   "metadata": {},
   "source": [
    "# Bitwise"
   ]
  },
  {
   "cell_type": "code",
   "execution_count": 39,
   "metadata": {},
   "outputs": [
    {
     "name": "stdout",
     "output_type": "stream",
     "text": [
      "(386, 524)\n",
      "(386, 524, 3)\n",
      "(386, 524, 3)\n"
     ]
    }
   ],
   "source": [
    "img_bit = cv2.imread('bitwise.png')\n",
    "img_bit = cv2.resize(img_bit, (0, 0), fx=2, fy=2)\n",
    "print(img_bit.shape[:2])\n",
    "\n",
    "\n",
    "# img_back = np.zeros(img_bit.shape, np.uint8)\n",
    "img_back = cv2.imread('1bit1.png')\n",
    "img_back = cv2.resize(img_back, (img_bit.shape[1], img_bit.shape[0]))\n",
    "print(img_bit.shape)\n",
    "print(img_back.shape)\n",
    "\n",
    "bit_wise = cv2.bitwise_xor(img_bit, img_back, mask=None)\n",
    "cv2.imshow('bitwise.png', bit_wise)\n",
    "if cv2.waitKey(0) == ord('m'):\n",
    "    cv2.destroyAllWindows()"
   ]
  },
  {
   "cell_type": "markdown",
   "metadata": {},
   "source": [
    "# Mask"
   ]
  },
  {
   "cell_type": "code",
   "execution_count": 35,
   "metadata": {},
   "outputs": [
    {
     "name": "stdout",
     "output_type": "stream",
     "text": [
      "blue : [[[120 255 255]]]\n",
      "green : [[[ 60 255 255]]]\n",
      "red : [[[  0 255 255]]]\n"
     ]
    }
   ],
   "source": [
    "# cek color from bgr in hsv\n",
    "blue = np.uint8([[[255, 0,  0]]])\n",
    "green = np.uint8([[[0, 255, 0]]])\n",
    "red = np.uint8([[[0, 0, 255]]])\n",
    "\n",
    "hsv_blue = cv2.cvtColor(blue, cv2.COLOR_BGR2HSV)\n",
    "hsv_green = cv2.cvtColor(green, cv2.COLOR_BGR2HSV)\n",
    "hsv_red = cv2.cvtColor(red, cv2.COLOR_BGR2HSV)\n",
    "\n",
    "print(f'blue : {hsv_blue}')\n",
    "print(f'green : {hsv_green}')\n",
    "print(f'red : {hsv_red}')"
   ]
  },
  {
   "cell_type": "code",
   "execution_count": null,
   "metadata": {},
   "outputs": [],
   "source": [
    "img_car = cv2.imread('car.jpg')\n",
    "img_car = cv2.resize(img_car, (0, 0), fx=2, fy=2)\n",
    "\n",
    "hsv_car = cv2.cvtColor(img_car, cv2.COLOR_BGR2HSV)\n",
    "\n",
    "# pakai range antara ke bawah 10, ke atas 10 =>hue dicoba2\n",
    "lowerb  = np.array([90, 0, 0])\n",
    "upperb  = np.array([130, 255, 255])\n",
    "masknya = cv2.inRange(hsv_car, lowerb, upperb)\n",
    "\n",
    "bitwise_car = cv2.bitwise_and(img_car, img_car, mask= masknya)\n",
    "\n",
    "# cv2.imshow('car', img_car)\n",
    "# cv2.imshow('hsv_car', hsv_car)\n",
    "cv2.imshow('bitwise_car', bitwise_car)\n",
    "\n",
    "\n",
    "if cv2.waitKey(0) == ord('m'):\n",
    "    cv2.destroyAllWindows()"
   ]
  },
  {
   "cell_type": "code",
   "execution_count": null,
   "metadata": {},
   "outputs": [],
   "source": []
  },
  {
   "cell_type": "markdown",
   "metadata": {},
   "source": [
    "# Edge detection"
   ]
  },
  {
   "cell_type": "code",
   "execution_count": 3,
   "metadata": {},
   "outputs": [],
   "source": [
    "car = cv2.imread('car.jpg')\n",
    "car_gray = cv2.cvtColor(car, cv2.COLOR_BGR2GRAY)\n",
    "blurred_car = cv2.GaussianBlur(car, ksize=(3,5), sigmaX=0.5)\n",
    "edge_car = cv2.Canny(blurred_car, 70, 135)\n",
    "cv2.imshow('edge_car', edge_car)\n",
    "cv2.waitKey(0)\n",
    "cv2.destroyAllWindows()"
   ]
  },
  {
   "cell_type": "markdown",
   "metadata": {},
   "source": [
    "# Template Matching"
   ]
  },
  {
   "cell_type": "code",
   "execution_count": 46,
   "metadata": {},
   "outputs": [
    {
     "name": "stdout",
     "output_type": "stream",
     "text": [
      "(array([447, 447, 447], dtype=int64), array([671, 672, 673], dtype=int64))\n",
      "(561, 1067, 3)\n",
      "pcc:(447, 671)\n",
      "pcc++:(510, 822)\n",
      "pcc:(447, 672)\n",
      "pcc++:(510, 823)\n",
      "pcc:(447, 673)\n",
      "pcc++:(510, 824)\n"
     ]
    }
   ],
   "source": [
    "brand = cv2.imread('brand.png')\n",
    "brand_gray = cv2.cvtColor(brand, cv2.COLOR_BGR2GRAY)\n",
    "ktm = cv2.imread('ktm.png', cv2.IMREAD_GRAYSCALE)\n",
    "# ktm_gray = cv2.cvtColor(ktm, cv2.COLOR_BGR2GRAY)\n",
    "match = cv2.matchTemplate(brand_gray, ktm, cv2.TM_CCOEFF_NORMED)\n",
    "\n",
    "h, w = ktm.shape\n",
    "loc = np.where(match>=0.95)#numpy where return tuple(row, column) == (y,x)\n",
    "print(loc)\n",
    "print(brand.shape)\n",
    "\n",
    "for pcc in zip(*loc):\n",
    "    print(f'pcc:{pcc}')\n",
    "    print(f'pcc++:{(h+pcc[0], w+pcc[1])}')\n",
    "    # cv2 rectangle use (x,y)\n",
    "    cv2.rectangle(brand, pcc[::-1], (w+pcc[1]+5, h+pcc[0]+5), (0,0, 255), 4)\n",
    "    # cv2.rectangle(brand, (9, 500), (2, 2), (0,0, 255), 4) \n",
    "\n",
    "\n",
    "cv2.imshow('brand', brand)\n",
    "# # cv2.imshow('ktm', ktm)\n",
    "# cv2.imshow('match', match)\n",
    "cv2.waitKey(0)\n",
    "cv2.destroyAllWindows()"
   ]
  },
  {
   "cell_type": "code",
   "execution_count": 45,
   "metadata": {},
   "outputs": [
    {
     "name": "stdout",
     "output_type": "stream",
     "text": [
      "[2, 3, 4, 5, 6, 7]\n",
      "8\n"
     ]
    }
   ],
   "source": [
    "l = [2, 3, 4, 5, 6, 7, 8]\n",
    "s = slice(-1)\n",
    "print(l[s])\n",
    "print(l[-1])"
   ]
  },
  {
   "cell_type": "code",
   "execution_count": null,
   "metadata": {},
   "outputs": [],
   "source": []
  }
 ],
 "metadata": {
  "kernelspec": {
   "display_name": "Python 3 (ipykernel)",
   "language": "python",
   "name": "python3"
  },
  "language_info": {
   "codemirror_mode": {
    "name": "ipython",
    "version": 3
   },
   "file_extension": ".py",
   "mimetype": "text/x-python",
   "name": "python",
   "nbconvert_exporter": "python",
   "pygments_lexer": "ipython3",
   "version": "3.11.7"
  }
 },
 "nbformat": 4,
 "nbformat_minor": 4
}
