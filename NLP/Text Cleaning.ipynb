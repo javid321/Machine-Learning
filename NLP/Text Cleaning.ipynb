{
 "cells": [
  {
   "cell_type": "code",
   "execution_count": null,
   "id": "0218ab54",
   "metadata": {},
   "outputs": [],
   "source": [
    "#references : https://www.youtube.com/watch?v=NJHhDcIB0es&ab_channel=Sarikhin"
   ]
  },
  {
   "cell_type": "code",
   "execution_count": null,
   "id": "f688fd01",
   "metadata": {},
   "outputs": [],
   "source": [
    "import pandas as pd\n",
    "import numpy as np\n",
    "import nltk\n",
    "import string\n",
    "import re"
   ]
  },
  {
   "cell_type": "code",
   "execution_count": null,
   "id": "c2eaec93",
   "metadata": {},
   "outputs": [],
   "source": [
    "path='data sebelum cleaning.xlsx'"
   ]
  },
  {
   "cell_type": "code",
   "execution_count": null,
   "id": "698d5064",
   "metadata": {},
   "outputs": [],
   "source": [
    "df = pd.read_excel('./'+path)\n",
    "df.head()"
   ]
  },
  {
   "cell_type": "code",
   "execution_count": null,
   "id": "dd202fdf",
   "metadata": {},
   "outputs": [],
   "source": [
    "df.shape"
   ]
  },
  {
   "cell_type": "code",
   "execution_count": null,
   "id": "7ced58d3",
   "metadata": {},
   "outputs": [],
   "source": [
    "df.info()"
   ]
  },
  {
   "cell_type": "code",
   "execution_count": null,
   "id": "53720153",
   "metadata": {},
   "outputs": [],
   "source": [
    "#remove user\n",
    "def remove_text(text, pattern):\n",
    "    t = re.findall(pattern, text)\n",
    "    for i in t:\n",
    "        text = re.sub(i, '', text)\n",
    "    return text\n",
    "df['no_user'] = np.vectorize(remove_text)(df['text'], '@[\\w]*')\n",
    "# df.sample(20)\n",
    "        "
   ]
  },
  {
   "cell_type": "code",
   "execution_count": null,
   "id": "ae649c39",
   "metadata": {},
   "outputs": [],
   "source": [
    "def remove_unused(text):\n",
    "    text = re.sub('[0-9]+', '', text) #untuk menghilangkan angka\n",
    "    text = re.sub(r'\\$\\w*', '', text) # \n",
    "    text = re.sub(r'@[\\w]*', '', text) #untuk menghilangkan @user\n",
    "    text = re.sub(r'https?://\\S+', '', text) #untuk menghilangkan link\n",
    "    text = re.sub(r'#', '', text) #untuk menghilangkan #\n",
    "    text = re.sub(r'RT[\\s]+', '', text) #untuk menghilangkan RT***\n",
    "    text = text.replace('\\n', ' ') #untuk mengganti \\n dengan ' '\n",
    "    #untuk menghilangkan non-ASCII characters dan unicode\n",
    "    text = text.encode('ascii', 'ignore').decode('utf-8') \n",
    "    text = re.sub(r'[^\\x00-\\x7f]', r'', text)  \n",
    "    text = re.sub(r'[^\\w]', ' ', text) #untuk menghiilangkan selain alpha numerik\n",
    "    #untuk menghilangkan double atau lebih spasi\n",
    "    space = ['    ', '   ', '  ']\n",
    "    for i in space:\n",
    "        text = text.replace(i, ' ')\n",
    "    text = text.lower().strip()\n",
    "#     text = text.translate(str.maketrans('', '', string.punctuation))\n",
    "    return text"
   ]
  },
  {
   "cell_type": "code",
   "execution_count": null,
   "id": "335e38cc",
   "metadata": {},
   "outputs": [],
   "source": [
    "df['clean text'] = df['no_user'].apply(lambda x: remove_unused(x))\n",
    "# df = pd.DataFrame(df)\n",
    "df.sample(50).sort_values(by='clean text')"
   ]
  },
  {
   "cell_type": "code",
   "execution_count": null,
   "id": "224002bd",
   "metadata": {},
   "outputs": [],
   "source": [
    "df.duplicated(subset=['clean text']).value_counts()"
   ]
  },
  {
   "cell_type": "code",
   "execution_count": null,
   "id": "dd9c37fe",
   "metadata": {},
   "outputs": [],
   "source": [
    "df[df.duplicated(subset='clean text')]"
   ]
  },
  {
   "cell_type": "code",
   "execution_count": null,
   "id": "06aaadc4",
   "metadata": {},
   "outputs": [],
   "source": [
    "df.columns"
   ]
  },
  {
   "cell_type": "code",
   "execution_count": null,
   "id": "87968897",
   "metadata": {},
   "outputs": [],
   "source": [
    "df.info()"
   ]
  },
  {
   "cell_type": "code",
   "execution_count": null,
   "id": "e84bea90",
   "metadata": {},
   "outputs": [],
   "source": [
    "df.drop_duplicates(subset='clean text', inplace=True)"
   ]
  },
  {
   "cell_type": "code",
   "execution_count": null,
   "id": "b7f5faa3",
   "metadata": {},
   "outputs": [],
   "source": [
    "df.shape"
   ]
  },
  {
   "cell_type": "code",
   "execution_count": null,
   "id": "0f7e9220",
   "metadata": {},
   "outputs": [],
   "source": [
    "df.sort_values(by='clean text')"
   ]
  },
  {
   "cell_type": "code",
   "execution_count": null,
   "id": "59357973",
   "metadata": {},
   "outputs": [],
   "source": [
    "df.drop(['id_str', 'text', 'no_user'], axis=1, inplace=True)"
   ]
  },
  {
   "cell_type": "code",
   "execution_count": null,
   "id": "96aa6a09",
   "metadata": {},
   "outputs": [],
   "source": [
    "df.head()"
   ]
  },
  {
   "cell_type": "code",
   "execution_count": null,
   "id": "39184333",
   "metadata": {},
   "outputs": [],
   "source": [
    "df.to_csv('tweet_clean.csv', index=False)"
   ]
  },
  {
   "cell_type": "code",
   "execution_count": null,
   "id": "2c35425c",
   "metadata": {},
   "outputs": [],
   "source": []
  },
  {
   "cell_type": "markdown",
   "id": "acf86d13",
   "metadata": {},
   "source": [
    "# Pembenahan Kata"
   ]
  },
  {
   "cell_type": "code",
   "execution_count": null,
   "id": "17f5fe1b",
   "metadata": {},
   "outputs": [],
   "source": [
    "#kata tidak ada spasi\n",
    "teks = 'rekayasadidzolimi eksekusi penembakandilakukan'"
   ]
  },
  {
   "cell_type": "code",
   "execution_count": null,
   "id": "53c54224",
   "metadata": {},
   "outputs": [],
   "source": [
    "#dataset kata\n",
    "list_t = ['rekayasa', 'didzolimi', 'eksekusi', 'penembakan', 'dilakukan', 'maju', 'makan', 'baca', 'tidur']"
   ]
  },
  {
   "cell_type": "code",
   "execution_count": null,
   "id": "63743e2f",
   "metadata": {},
   "outputs": [],
   "source": [
    "teks_benar = [u for u in list_t if u in teks]"
   ]
  },
  {
   "cell_type": "code",
   "execution_count": null,
   "id": "08528cef",
   "metadata": {},
   "outputs": [],
   "source": [
    "teks_benar"
   ]
  },
  {
   "cell_type": "code",
   "execution_count": null,
   "id": "5fad603a",
   "metadata": {},
   "outputs": [],
   "source": [
    "teks_baru = ' '.join(map(str,teks_benar))"
   ]
  },
  {
   "cell_type": "code",
   "execution_count": null,
   "id": "95308228",
   "metadata": {},
   "outputs": [],
   "source": [
    "teks_baru"
   ]
  },
  {
   "cell_type": "code",
   "execution_count": null,
   "id": "e1e7feec",
   "metadata": {},
   "outputs": [],
   "source": []
  }
 ],
 "metadata": {
  "kernelspec": {
   "display_name": "Python 3 (ipykernel)",
   "language": "python",
   "name": "python3"
  },
  "language_info": {
   "codemirror_mode": {
    "name": "ipython",
    "version": 3
   },
   "file_extension": ".py",
   "mimetype": "text/x-python",
   "name": "python",
   "nbconvert_exporter": "python",
   "pygments_lexer": "ipython3",
   "version": "3.9.13"
  }
 },
 "nbformat": 4,
 "nbformat_minor": 5
}
