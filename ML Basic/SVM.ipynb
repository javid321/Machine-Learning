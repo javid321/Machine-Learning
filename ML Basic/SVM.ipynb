{
 "cells": [
  {
   "cell_type": "code",
   "execution_count": 1,
   "metadata": {},
   "outputs": [],
   "source": [
    "import pandas as pd\n",
    "import numpy as np\n",
    "import matplotlib.pyplot as plt\n",
    "import seaborn as sns"
   ]
  },
  {
   "cell_type": "code",
   "execution_count": 2,
   "metadata": {},
   "outputs": [],
   "source": [
    "data_df = pd.read_csv('dataset/apple_quality.csv')"
   ]
  },
  {
   "cell_type": "markdown",
   "metadata": {},
   "source": [
    "# Check Data"
   ]
  },
  {
   "cell_type": "code",
   "execution_count": 3,
   "metadata": {},
   "outputs": [
    {
     "data": {
      "text/html": [
       "<style type=\"text/css\">\n",
       "</style>\n",
       "<table id=\"T_302ee\">\n",
       "  <thead>\n",
       "    <tr>\n",
       "      <th class=\"blank level0\" >&nbsp;</th>\n",
       "      <th id=\"T_302ee_level0_col0\" class=\"col_heading level0 col0\" >A_id</th>\n",
       "      <th id=\"T_302ee_level0_col1\" class=\"col_heading level0 col1\" >Size</th>\n",
       "      <th id=\"T_302ee_level0_col2\" class=\"col_heading level0 col2\" >Weight</th>\n",
       "      <th id=\"T_302ee_level0_col3\" class=\"col_heading level0 col3\" >Sweetness</th>\n",
       "      <th id=\"T_302ee_level0_col4\" class=\"col_heading level0 col4\" >Crunchiness</th>\n",
       "      <th id=\"T_302ee_level0_col5\" class=\"col_heading level0 col5\" >Juiciness</th>\n",
       "      <th id=\"T_302ee_level0_col6\" class=\"col_heading level0 col6\" >Ripeness</th>\n",
       "      <th id=\"T_302ee_level0_col7\" class=\"col_heading level0 col7\" >Acidity</th>\n",
       "      <th id=\"T_302ee_level0_col8\" class=\"col_heading level0 col8\" >Quality</th>\n",
       "    </tr>\n",
       "  </thead>\n",
       "  <tbody>\n",
       "    <tr>\n",
       "      <th id=\"T_302ee_level0_row0\" class=\"row_heading level0 row0\" >0</th>\n",
       "      <td id=\"T_302ee_row0_col0\" class=\"data row0 col0\" >0.000000</td>\n",
       "      <td id=\"T_302ee_row0_col1\" class=\"data row0 col1\" >-3.970049</td>\n",
       "      <td id=\"T_302ee_row0_col2\" class=\"data row0 col2\" >-2.512336</td>\n",
       "      <td id=\"T_302ee_row0_col3\" class=\"data row0 col3\" >5.346330</td>\n",
       "      <td id=\"T_302ee_row0_col4\" class=\"data row0 col4\" >-1.012009</td>\n",
       "      <td id=\"T_302ee_row0_col5\" class=\"data row0 col5\" >1.844900</td>\n",
       "      <td id=\"T_302ee_row0_col6\" class=\"data row0 col6\" >0.329840</td>\n",
       "      <td id=\"T_302ee_row0_col7\" class=\"data row0 col7\" >-0.491590483</td>\n",
       "      <td id=\"T_302ee_row0_col8\" class=\"data row0 col8\" >good</td>\n",
       "    </tr>\n",
       "    <tr>\n",
       "      <th id=\"T_302ee_level0_row1\" class=\"row_heading level0 row1\" >1</th>\n",
       "      <td id=\"T_302ee_row1_col0\" class=\"data row1 col0\" >1.000000</td>\n",
       "      <td id=\"T_302ee_row1_col1\" class=\"data row1 col1\" >-1.195217</td>\n",
       "      <td id=\"T_302ee_row1_col2\" class=\"data row1 col2\" >-2.839257</td>\n",
       "      <td id=\"T_302ee_row1_col3\" class=\"data row1 col3\" >3.664059</td>\n",
       "      <td id=\"T_302ee_row1_col4\" class=\"data row1 col4\" >1.588232</td>\n",
       "      <td id=\"T_302ee_row1_col5\" class=\"data row1 col5\" >0.853286</td>\n",
       "      <td id=\"T_302ee_row1_col6\" class=\"data row1 col6\" >0.867530</td>\n",
       "      <td id=\"T_302ee_row1_col7\" class=\"data row1 col7\" >-0.722809367</td>\n",
       "      <td id=\"T_302ee_row1_col8\" class=\"data row1 col8\" >good</td>\n",
       "    </tr>\n",
       "    <tr>\n",
       "      <th id=\"T_302ee_level0_row2\" class=\"row_heading level0 row2\" >2</th>\n",
       "      <td id=\"T_302ee_row2_col0\" class=\"data row2 col0\" >2.000000</td>\n",
       "      <td id=\"T_302ee_row2_col1\" class=\"data row2 col1\" >-0.292024</td>\n",
       "      <td id=\"T_302ee_row2_col2\" class=\"data row2 col2\" >-1.351282</td>\n",
       "      <td id=\"T_302ee_row2_col3\" class=\"data row2 col3\" >-1.738429</td>\n",
       "      <td id=\"T_302ee_row2_col4\" class=\"data row2 col4\" >-0.342616</td>\n",
       "      <td id=\"T_302ee_row2_col5\" class=\"data row2 col5\" >2.838636</td>\n",
       "      <td id=\"T_302ee_row2_col6\" class=\"data row2 col6\" >-0.038033</td>\n",
       "      <td id=\"T_302ee_row2_col7\" class=\"data row2 col7\" >2.621636473</td>\n",
       "      <td id=\"T_302ee_row2_col8\" class=\"data row2 col8\" >bad</td>\n",
       "    </tr>\n",
       "    <tr>\n",
       "      <th id=\"T_302ee_level0_row3\" class=\"row_heading level0 row3\" >3</th>\n",
       "      <td id=\"T_302ee_row3_col0\" class=\"data row3 col0\" >3.000000</td>\n",
       "      <td id=\"T_302ee_row3_col1\" class=\"data row3 col1\" >-0.657196</td>\n",
       "      <td id=\"T_302ee_row3_col2\" class=\"data row3 col2\" >-2.271627</td>\n",
       "      <td id=\"T_302ee_row3_col3\" class=\"data row3 col3\" >1.324874</td>\n",
       "      <td id=\"T_302ee_row3_col4\" class=\"data row3 col4\" >-0.097875</td>\n",
       "      <td id=\"T_302ee_row3_col5\" class=\"data row3 col5\" >3.637970</td>\n",
       "      <td id=\"T_302ee_row3_col6\" class=\"data row3 col6\" >-3.413761</td>\n",
       "      <td id=\"T_302ee_row3_col7\" class=\"data row3 col7\" >0.790723217</td>\n",
       "      <td id=\"T_302ee_row3_col8\" class=\"data row3 col8\" >good</td>\n",
       "    </tr>\n",
       "    <tr>\n",
       "      <th id=\"T_302ee_level0_row4\" class=\"row_heading level0 row4\" >4</th>\n",
       "      <td id=\"T_302ee_row4_col0\" class=\"data row4 col0\" >4.000000</td>\n",
       "      <td id=\"T_302ee_row4_col1\" class=\"data row4 col1\" >1.364217</td>\n",
       "      <td id=\"T_302ee_row4_col2\" class=\"data row4 col2\" >-1.296612</td>\n",
       "      <td id=\"T_302ee_row4_col3\" class=\"data row4 col3\" >-0.384658</td>\n",
       "      <td id=\"T_302ee_row4_col4\" class=\"data row4 col4\" >-0.553006</td>\n",
       "      <td id=\"T_302ee_row4_col5\" class=\"data row4 col5\" >3.030874</td>\n",
       "      <td id=\"T_302ee_row4_col6\" class=\"data row4 col6\" >-1.303849</td>\n",
       "      <td id=\"T_302ee_row4_col7\" class=\"data row4 col7\" >0.501984036</td>\n",
       "      <td id=\"T_302ee_row4_col8\" class=\"data row4 col8\" >good</td>\n",
       "    </tr>\n",
       "  </tbody>\n",
       "</table>\n"
      ],
      "text/plain": [
       "<pandas.io.formats.style.Styler at 0x20192fc3090>"
      ]
     },
     "execution_count": 3,
     "metadata": {},
     "output_type": "execute_result"
    }
   ],
   "source": [
    "data_df.head().style.highlight_null(color='yellow')"
   ]
  },
  {
   "cell_type": "code",
   "execution_count": 4,
   "metadata": {},
   "outputs": [
    {
     "data": {
      "text/plain": [
       "(4001, 9)"
      ]
     },
     "execution_count": 4,
     "metadata": {},
     "output_type": "execute_result"
    }
   ],
   "source": [
    "data_df.shape"
   ]
  },
  {
   "cell_type": "code",
   "execution_count": 5,
   "metadata": {},
   "outputs": [
    {
     "data": {
      "text/html": [
       "<div>\n",
       "<style scoped>\n",
       "    .dataframe tbody tr th:only-of-type {\n",
       "        vertical-align: middle;\n",
       "    }\n",
       "\n",
       "    .dataframe tbody tr th {\n",
       "        vertical-align: top;\n",
       "    }\n",
       "\n",
       "    .dataframe thead th {\n",
       "        text-align: right;\n",
       "    }\n",
       "</style>\n",
       "<table border=\"1\" class=\"dataframe\">\n",
       "  <thead>\n",
       "    <tr style=\"text-align: right;\">\n",
       "      <th></th>\n",
       "      <th>A_id</th>\n",
       "      <th>Size</th>\n",
       "      <th>Weight</th>\n",
       "      <th>Sweetness</th>\n",
       "      <th>Crunchiness</th>\n",
       "      <th>Juiciness</th>\n",
       "      <th>Ripeness</th>\n",
       "    </tr>\n",
       "  </thead>\n",
       "  <tbody>\n",
       "    <tr>\n",
       "      <th>count</th>\n",
       "      <td>4000.000000</td>\n",
       "      <td>4000.000000</td>\n",
       "      <td>4000.000000</td>\n",
       "      <td>4000.000000</td>\n",
       "      <td>4000.000000</td>\n",
       "      <td>4000.000000</td>\n",
       "      <td>4000.000000</td>\n",
       "    </tr>\n",
       "    <tr>\n",
       "      <th>mean</th>\n",
       "      <td>1999.500000</td>\n",
       "      <td>-0.503015</td>\n",
       "      <td>-0.989547</td>\n",
       "      <td>-0.470479</td>\n",
       "      <td>0.985478</td>\n",
       "      <td>0.512118</td>\n",
       "      <td>0.498277</td>\n",
       "    </tr>\n",
       "    <tr>\n",
       "      <th>std</th>\n",
       "      <td>1154.844867</td>\n",
       "      <td>1.928059</td>\n",
       "      <td>1.602507</td>\n",
       "      <td>1.943441</td>\n",
       "      <td>1.402757</td>\n",
       "      <td>1.930286</td>\n",
       "      <td>1.874427</td>\n",
       "    </tr>\n",
       "    <tr>\n",
       "      <th>min</th>\n",
       "      <td>0.000000</td>\n",
       "      <td>-7.151703</td>\n",
       "      <td>-7.149848</td>\n",
       "      <td>-6.894485</td>\n",
       "      <td>-6.055058</td>\n",
       "      <td>-5.961897</td>\n",
       "      <td>-5.864599</td>\n",
       "    </tr>\n",
       "    <tr>\n",
       "      <th>25%</th>\n",
       "      <td>999.750000</td>\n",
       "      <td>-1.816765</td>\n",
       "      <td>-2.011770</td>\n",
       "      <td>-1.738425</td>\n",
       "      <td>0.062764</td>\n",
       "      <td>-0.801286</td>\n",
       "      <td>-0.771677</td>\n",
       "    </tr>\n",
       "    <tr>\n",
       "      <th>50%</th>\n",
       "      <td>1999.500000</td>\n",
       "      <td>-0.513703</td>\n",
       "      <td>-0.984736</td>\n",
       "      <td>-0.504758</td>\n",
       "      <td>0.998249</td>\n",
       "      <td>0.534219</td>\n",
       "      <td>0.503445</td>\n",
       "    </tr>\n",
       "    <tr>\n",
       "      <th>75%</th>\n",
       "      <td>2999.250000</td>\n",
       "      <td>0.805526</td>\n",
       "      <td>0.030976</td>\n",
       "      <td>0.801922</td>\n",
       "      <td>1.894234</td>\n",
       "      <td>1.835976</td>\n",
       "      <td>1.766212</td>\n",
       "    </tr>\n",
       "    <tr>\n",
       "      <th>max</th>\n",
       "      <td>3999.000000</td>\n",
       "      <td>6.406367</td>\n",
       "      <td>5.790714</td>\n",
       "      <td>6.374916</td>\n",
       "      <td>7.619852</td>\n",
       "      <td>7.364403</td>\n",
       "      <td>7.237837</td>\n",
       "    </tr>\n",
       "  </tbody>\n",
       "</table>\n",
       "</div>"
      ],
      "text/plain": [
       "              A_id         Size       Weight    Sweetness  Crunchiness  \\\n",
       "count  4000.000000  4000.000000  4000.000000  4000.000000  4000.000000   \n",
       "mean   1999.500000    -0.503015    -0.989547    -0.470479     0.985478   \n",
       "std    1154.844867     1.928059     1.602507     1.943441     1.402757   \n",
       "min       0.000000    -7.151703    -7.149848    -6.894485    -6.055058   \n",
       "25%     999.750000    -1.816765    -2.011770    -1.738425     0.062764   \n",
       "50%    1999.500000    -0.513703    -0.984736    -0.504758     0.998249   \n",
       "75%    2999.250000     0.805526     0.030976     0.801922     1.894234   \n",
       "max    3999.000000     6.406367     5.790714     6.374916     7.619852   \n",
       "\n",
       "         Juiciness     Ripeness  \n",
       "count  4000.000000  4000.000000  \n",
       "mean      0.512118     0.498277  \n",
       "std       1.930286     1.874427  \n",
       "min      -5.961897    -5.864599  \n",
       "25%      -0.801286    -0.771677  \n",
       "50%       0.534219     0.503445  \n",
       "75%       1.835976     1.766212  \n",
       "max       7.364403     7.237837  "
      ]
     },
     "execution_count": 5,
     "metadata": {},
     "output_type": "execute_result"
    }
   ],
   "source": [
    "data_df.describe()"
   ]
  },
  {
   "cell_type": "code",
   "execution_count": 6,
   "metadata": {},
   "outputs": [
    {
     "name": "stdout",
     "output_type": "stream",
     "text": [
      "<class 'pandas.core.frame.DataFrame'>\n",
      "RangeIndex: 4001 entries, 0 to 4000\n",
      "Data columns (total 9 columns):\n",
      " #   Column       Non-Null Count  Dtype  \n",
      "---  ------       --------------  -----  \n",
      " 0   A_id         4000 non-null   float64\n",
      " 1   Size         4000 non-null   float64\n",
      " 2   Weight       4000 non-null   float64\n",
      " 3   Sweetness    4000 non-null   float64\n",
      " 4   Crunchiness  4000 non-null   float64\n",
      " 5   Juiciness    4000 non-null   float64\n",
      " 6   Ripeness     4000 non-null   float64\n",
      " 7   Acidity      4001 non-null   object \n",
      " 8   Quality      4000 non-null   object \n",
      "dtypes: float64(7), object(2)\n",
      "memory usage: 281.4+ KB\n"
     ]
    }
   ],
   "source": [
    "data_df.info()"
   ]
  },
  {
   "cell_type": "code",
   "execution_count": 7,
   "metadata": {},
   "outputs": [
    {
     "data": {
      "text/plain": [
       "True     8\n",
       "False    1\n",
       "Name: count, dtype: int64"
      ]
     },
     "execution_count": 7,
     "metadata": {},
     "output_type": "execute_result"
    }
   ],
   "source": [
    "data_df.isnull().any().value_counts()"
   ]
  },
  {
   "cell_type": "code",
   "execution_count": 8,
   "metadata": {},
   "outputs": [
    {
     "name": "stdout",
     "output_type": "stream",
     "text": [
      "8\n",
      "<class 'numpy.int64'>\n"
     ]
    }
   ],
   "source": [
    "print(data_df.isnull().sum().sum())\n",
    "print(type(data_df.isnull().sum().sum()))"
   ]
  },
  {
   "cell_type": "code",
   "execution_count": 9,
   "metadata": {},
   "outputs": [
    {
     "data": {
      "text/plain": [
       "A_id           1\n",
       "Size           1\n",
       "Weight         1\n",
       "Sweetness      1\n",
       "Crunchiness    1\n",
       "Juiciness      1\n",
       "Ripeness       1\n",
       "Acidity        0\n",
       "Quality        1\n",
       "dtype: int64"
      ]
     },
     "execution_count": 9,
     "metadata": {},
     "output_type": "execute_result"
    }
   ],
   "source": [
    "jumlah_null = data_df.isnull().sum()\n",
    "jumlah_null"
   ]
  },
  {
   "cell_type": "code",
   "execution_count": 10,
   "metadata": {},
   "outputs": [
    {
     "data": {
      "text/html": [
       "<div>\n",
       "<style scoped>\n",
       "    .dataframe tbody tr th:only-of-type {\n",
       "        vertical-align: middle;\n",
       "    }\n",
       "\n",
       "    .dataframe tbody tr th {\n",
       "        vertical-align: top;\n",
       "    }\n",
       "\n",
       "    .dataframe thead th {\n",
       "        text-align: right;\n",
       "    }\n",
       "</style>\n",
       "<table border=\"1\" class=\"dataframe\">\n",
       "  <thead>\n",
       "    <tr style=\"text-align: right;\">\n",
       "      <th></th>\n",
       "      <th>A_id</th>\n",
       "      <th>Size</th>\n",
       "      <th>Weight</th>\n",
       "      <th>Sweetness</th>\n",
       "      <th>Crunchiness</th>\n",
       "      <th>Juiciness</th>\n",
       "      <th>Ripeness</th>\n",
       "      <th>Acidity</th>\n",
       "      <th>Quality</th>\n",
       "    </tr>\n",
       "  </thead>\n",
       "  <tbody>\n",
       "    <tr>\n",
       "      <th>4000</th>\n",
       "      <td>NaN</td>\n",
       "      <td>NaN</td>\n",
       "      <td>NaN</td>\n",
       "      <td>NaN</td>\n",
       "      <td>NaN</td>\n",
       "      <td>NaN</td>\n",
       "      <td>NaN</td>\n",
       "      <td>Created_by_Nidula_Elgiriyewithana</td>\n",
       "      <td>NaN</td>\n",
       "    </tr>\n",
       "    <tr>\n",
       "      <th>4000</th>\n",
       "      <td>NaN</td>\n",
       "      <td>NaN</td>\n",
       "      <td>NaN</td>\n",
       "      <td>NaN</td>\n",
       "      <td>NaN</td>\n",
       "      <td>NaN</td>\n",
       "      <td>NaN</td>\n",
       "      <td>Created_by_Nidula_Elgiriyewithana</td>\n",
       "      <td>NaN</td>\n",
       "    </tr>\n",
       "    <tr>\n",
       "      <th>4000</th>\n",
       "      <td>NaN</td>\n",
       "      <td>NaN</td>\n",
       "      <td>NaN</td>\n",
       "      <td>NaN</td>\n",
       "      <td>NaN</td>\n",
       "      <td>NaN</td>\n",
       "      <td>NaN</td>\n",
       "      <td>Created_by_Nidula_Elgiriyewithana</td>\n",
       "      <td>NaN</td>\n",
       "    </tr>\n",
       "    <tr>\n",
       "      <th>4000</th>\n",
       "      <td>NaN</td>\n",
       "      <td>NaN</td>\n",
       "      <td>NaN</td>\n",
       "      <td>NaN</td>\n",
       "      <td>NaN</td>\n",
       "      <td>NaN</td>\n",
       "      <td>NaN</td>\n",
       "      <td>Created_by_Nidula_Elgiriyewithana</td>\n",
       "      <td>NaN</td>\n",
       "    </tr>\n",
       "    <tr>\n",
       "      <th>4000</th>\n",
       "      <td>NaN</td>\n",
       "      <td>NaN</td>\n",
       "      <td>NaN</td>\n",
       "      <td>NaN</td>\n",
       "      <td>NaN</td>\n",
       "      <td>NaN</td>\n",
       "      <td>NaN</td>\n",
       "      <td>Created_by_Nidula_Elgiriyewithana</td>\n",
       "      <td>NaN</td>\n",
       "    </tr>\n",
       "    <tr>\n",
       "      <th>4000</th>\n",
       "      <td>NaN</td>\n",
       "      <td>NaN</td>\n",
       "      <td>NaN</td>\n",
       "      <td>NaN</td>\n",
       "      <td>NaN</td>\n",
       "      <td>NaN</td>\n",
       "      <td>NaN</td>\n",
       "      <td>Created_by_Nidula_Elgiriyewithana</td>\n",
       "      <td>NaN</td>\n",
       "    </tr>\n",
       "    <tr>\n",
       "      <th>4000</th>\n",
       "      <td>NaN</td>\n",
       "      <td>NaN</td>\n",
       "      <td>NaN</td>\n",
       "      <td>NaN</td>\n",
       "      <td>NaN</td>\n",
       "      <td>NaN</td>\n",
       "      <td>NaN</td>\n",
       "      <td>Created_by_Nidula_Elgiriyewithana</td>\n",
       "      <td>NaN</td>\n",
       "    </tr>\n",
       "    <tr>\n",
       "      <th>4000</th>\n",
       "      <td>NaN</td>\n",
       "      <td>NaN</td>\n",
       "      <td>NaN</td>\n",
       "      <td>NaN</td>\n",
       "      <td>NaN</td>\n",
       "      <td>NaN</td>\n",
       "      <td>NaN</td>\n",
       "      <td>Created_by_Nidula_Elgiriyewithana</td>\n",
       "      <td>NaN</td>\n",
       "    </tr>\n",
       "  </tbody>\n",
       "</table>\n",
       "</div>"
      ],
      "text/plain": [
       "      A_id  Size  Weight  Sweetness  Crunchiness  Juiciness  Ripeness  \\\n",
       "4000   NaN   NaN     NaN        NaN          NaN        NaN       NaN   \n",
       "4000   NaN   NaN     NaN        NaN          NaN        NaN       NaN   \n",
       "4000   NaN   NaN     NaN        NaN          NaN        NaN       NaN   \n",
       "4000   NaN   NaN     NaN        NaN          NaN        NaN       NaN   \n",
       "4000   NaN   NaN     NaN        NaN          NaN        NaN       NaN   \n",
       "4000   NaN   NaN     NaN        NaN          NaN        NaN       NaN   \n",
       "4000   NaN   NaN     NaN        NaN          NaN        NaN       NaN   \n",
       "4000   NaN   NaN     NaN        NaN          NaN        NaN       NaN   \n",
       "\n",
       "                                Acidity Quality  \n",
       "4000  Created_by_Nidula_Elgiriyewithana     NaN  \n",
       "4000  Created_by_Nidula_Elgiriyewithana     NaN  \n",
       "4000  Created_by_Nidula_Elgiriyewithana     NaN  \n",
       "4000  Created_by_Nidula_Elgiriyewithana     NaN  \n",
       "4000  Created_by_Nidula_Elgiriyewithana     NaN  \n",
       "4000  Created_by_Nidula_Elgiriyewithana     NaN  \n",
       "4000  Created_by_Nidula_Elgiriyewithana     NaN  \n",
       "4000  Created_by_Nidula_Elgiriyewithana     NaN  "
      ]
     },
     "execution_count": 10,
     "metadata": {},
     "output_type": "execute_result"
    }
   ],
   "source": [
    "data_df[data_df.isnull().values == True]"
   ]
  },
  {
   "cell_type": "code",
   "execution_count": 11,
   "metadata": {},
   "outputs": [
    {
     "data": {
      "text/html": [
       "<style type=\"text/css\">\n",
       "#T_c50b2_row0_col0, #T_c50b2_row0_col1, #T_c50b2_row0_col2, #T_c50b2_row0_col3, #T_c50b2_row0_col4, #T_c50b2_row0_col5, #T_c50b2_row0_col6, #T_c50b2_row0_col8 {\n",
       "  background-color: green;\n",
       "}\n",
       "</style>\n",
       "<table id=\"T_c50b2\">\n",
       "  <thead>\n",
       "    <tr>\n",
       "      <th class=\"blank level0\" >&nbsp;</th>\n",
       "      <th id=\"T_c50b2_level0_col0\" class=\"col_heading level0 col0\" >A_id</th>\n",
       "      <th id=\"T_c50b2_level0_col1\" class=\"col_heading level0 col1\" >Size</th>\n",
       "      <th id=\"T_c50b2_level0_col2\" class=\"col_heading level0 col2\" >Weight</th>\n",
       "      <th id=\"T_c50b2_level0_col3\" class=\"col_heading level0 col3\" >Sweetness</th>\n",
       "      <th id=\"T_c50b2_level0_col4\" class=\"col_heading level0 col4\" >Crunchiness</th>\n",
       "      <th id=\"T_c50b2_level0_col5\" class=\"col_heading level0 col5\" >Juiciness</th>\n",
       "      <th id=\"T_c50b2_level0_col6\" class=\"col_heading level0 col6\" >Ripeness</th>\n",
       "      <th id=\"T_c50b2_level0_col7\" class=\"col_heading level0 col7\" >Acidity</th>\n",
       "      <th id=\"T_c50b2_level0_col8\" class=\"col_heading level0 col8\" >Quality</th>\n",
       "    </tr>\n",
       "  </thead>\n",
       "  <tbody>\n",
       "    <tr>\n",
       "      <th id=\"T_c50b2_level0_row0\" class=\"row_heading level0 row0\" >4000</th>\n",
       "      <td id=\"T_c50b2_row0_col0\" class=\"data row0 col0\" >nan</td>\n",
       "      <td id=\"T_c50b2_row0_col1\" class=\"data row0 col1\" >nan</td>\n",
       "      <td id=\"T_c50b2_row0_col2\" class=\"data row0 col2\" >nan</td>\n",
       "      <td id=\"T_c50b2_row0_col3\" class=\"data row0 col3\" >nan</td>\n",
       "      <td id=\"T_c50b2_row0_col4\" class=\"data row0 col4\" >nan</td>\n",
       "      <td id=\"T_c50b2_row0_col5\" class=\"data row0 col5\" >nan</td>\n",
       "      <td id=\"T_c50b2_row0_col6\" class=\"data row0 col6\" >nan</td>\n",
       "      <td id=\"T_c50b2_row0_col7\" class=\"data row0 col7\" >Created_by_Nidula_Elgiriyewithana</td>\n",
       "      <td id=\"T_c50b2_row0_col8\" class=\"data row0 col8\" >nan</td>\n",
       "    </tr>\n",
       "  </tbody>\n",
       "</table>\n"
      ],
      "text/plain": [
       "<pandas.io.formats.style.Styler at 0x20193148950>"
      ]
     },
     "execution_count": 11,
     "metadata": {},
     "output_type": "execute_result"
    }
   ],
   "source": [
    "'''\n",
    "#jika ada 2 atau lebih null atau nan sebaris, oleh pandas baris tersebut ditampilkan sebanyak \n",
    "#jumlah null atau nan yang ada pada baris tersebut. oleh karena itu kita gunakan drop_duplicate()\n",
    "'''\n",
    "\n",
    "data_df[data_df.isnull().values == True].drop_duplicates().style.highlight_null(color='green')"
   ]
  },
  {
   "cell_type": "code",
   "execution_count": 12,
   "metadata": {},
   "outputs": [],
   "source": [
    "apple_clear_df = data_df.copy()\n",
    "apple_clear_df = apple_clear_df.dropna()"
   ]
  },
  {
   "cell_type": "code",
   "execution_count": 13,
   "metadata": {},
   "outputs": [
    {
     "data": {
      "text/plain": [
       "A_id           0\n",
       "Size           0\n",
       "Weight         0\n",
       "Sweetness      0\n",
       "Crunchiness    0\n",
       "Juiciness      0\n",
       "Ripeness       0\n",
       "Acidity        0\n",
       "Quality        0\n",
       "dtype: int64"
      ]
     },
     "execution_count": 13,
     "metadata": {},
     "output_type": "execute_result"
    }
   ],
   "source": [
    "apple_clear_df.isnull().sum()"
   ]
  },
  {
   "cell_type": "code",
   "execution_count": 14,
   "metadata": {},
   "outputs": [
    {
     "data": {
      "text/plain": [
       "False    9\n",
       "Name: count, dtype: int64"
      ]
     },
     "execution_count": 14,
     "metadata": {},
     "output_type": "execute_result"
    }
   ],
   "source": [
    "apple_clear_df.isnull().any().value_counts()"
   ]
  },
  {
   "cell_type": "code",
   "execution_count": 15,
   "metadata": {},
   "outputs": [
    {
     "data": {
      "text/plain": [
       "(4000, 9)"
      ]
     },
     "execution_count": 15,
     "metadata": {},
     "output_type": "execute_result"
    }
   ],
   "source": [
    "apple_clear_df.shape"
   ]
  },
  {
   "cell_type": "code",
   "execution_count": 16,
   "metadata": {},
   "outputs": [
    {
     "name": "stdout",
     "output_type": "stream",
     "text": [
      "<class 'pandas.core.frame.DataFrame'>\n",
      "Index: 4000 entries, 0 to 3999\n",
      "Data columns (total 9 columns):\n",
      " #   Column       Non-Null Count  Dtype  \n",
      "---  ------       --------------  -----  \n",
      " 0   A_id         4000 non-null   float64\n",
      " 1   Size         4000 non-null   float64\n",
      " 2   Weight       4000 non-null   float64\n",
      " 3   Sweetness    4000 non-null   float64\n",
      " 4   Crunchiness  4000 non-null   float64\n",
      " 5   Juiciness    4000 non-null   float64\n",
      " 6   Ripeness     4000 non-null   float64\n",
      " 7   Acidity      4000 non-null   object \n",
      " 8   Quality      4000 non-null   object \n",
      "dtypes: float64(7), object(2)\n",
      "memory usage: 312.5+ KB\n"
     ]
    }
   ],
   "source": [
    "apple_clear_df.info()"
   ]
  },
  {
   "cell_type": "markdown",
   "metadata": {},
   "source": [
    "# Feature Engineering"
   ]
  },
  {
   "cell_type": "code",
   "execution_count": 17,
   "metadata": {},
   "outputs": [],
   "source": [
    "apple_clear_df['Acidity'] = apple_clear_df['Acidity'].astype(float)"
   ]
  },
  {
   "cell_type": "code",
   "execution_count": 18,
   "metadata": {},
   "outputs": [],
   "source": [
    "apple_clear_df.drop(['A_id'], axis=1, inplace=True)"
   ]
  },
  {
   "cell_type": "code",
   "execution_count": 19,
   "metadata": {},
   "outputs": [
    {
     "name": "stdout",
     "output_type": "stream",
     "text": [
      "<class 'pandas.core.frame.DataFrame'>\n",
      "Index: 4000 entries, 0 to 3999\n",
      "Data columns (total 8 columns):\n",
      " #   Column       Non-Null Count  Dtype  \n",
      "---  ------       --------------  -----  \n",
      " 0   Size         4000 non-null   float64\n",
      " 1   Weight       4000 non-null   float64\n",
      " 2   Sweetness    4000 non-null   float64\n",
      " 3   Crunchiness  4000 non-null   float64\n",
      " 4   Juiciness    4000 non-null   float64\n",
      " 5   Ripeness     4000 non-null   float64\n",
      " 6   Acidity      4000 non-null   float64\n",
      " 7   Quality      4000 non-null   object \n",
      "dtypes: float64(7), object(1)\n",
      "memory usage: 281.2+ KB\n"
     ]
    }
   ],
   "source": [
    "apple_clear_df.info()"
   ]
  },
  {
   "cell_type": "code",
   "execution_count": 20,
   "metadata": {},
   "outputs": [
    {
     "data": {
      "text/plain": [
       "False"
      ]
     },
     "execution_count": 20,
     "metadata": {},
     "output_type": "execute_result"
    }
   ],
   "source": [
    "apple_clear_df.duplicated().values.any()"
   ]
  },
  {
   "cell_type": "markdown",
   "metadata": {},
   "source": [
    "# Target Engineering"
   ]
  },
  {
   "cell_type": "code",
   "execution_count": 21,
   "metadata": {},
   "outputs": [],
   "source": [
    "apple_clear_df['Label'] = pd.get_dummies(apple_clear_df['Quality'], dtype=int,  drop_first= True)"
   ]
  },
  {
   "cell_type": "code",
   "execution_count": 22,
   "metadata": {},
   "outputs": [
    {
     "name": "stdout",
     "output_type": "stream",
     "text": [
      "<class 'pandas.core.frame.DataFrame'>\n",
      "Index: 4000 entries, 0 to 3999\n",
      "Data columns (total 9 columns):\n",
      " #   Column       Non-Null Count  Dtype  \n",
      "---  ------       --------------  -----  \n",
      " 0   Size         4000 non-null   float64\n",
      " 1   Weight       4000 non-null   float64\n",
      " 2   Sweetness    4000 non-null   float64\n",
      " 3   Crunchiness  4000 non-null   float64\n",
      " 4   Juiciness    4000 non-null   float64\n",
      " 5   Ripeness     4000 non-null   float64\n",
      " 6   Acidity      4000 non-null   float64\n",
      " 7   Quality      4000 non-null   object \n",
      " 8   Label        4000 non-null   int32  \n",
      "dtypes: float64(7), int32(1), object(1)\n",
      "memory usage: 296.9+ KB\n"
     ]
    }
   ],
   "source": [
    "apple_clear_df.info()"
   ]
  },
  {
   "cell_type": "code",
   "execution_count": 23,
   "metadata": {},
   "outputs": [
    {
     "data": {
      "text/html": [
       "<div>\n",
       "<style scoped>\n",
       "    .dataframe tbody tr th:only-of-type {\n",
       "        vertical-align: middle;\n",
       "    }\n",
       "\n",
       "    .dataframe tbody tr th {\n",
       "        vertical-align: top;\n",
       "    }\n",
       "\n",
       "    .dataframe thead th {\n",
       "        text-align: right;\n",
       "    }\n",
       "</style>\n",
       "<table border=\"1\" class=\"dataframe\">\n",
       "  <thead>\n",
       "    <tr style=\"text-align: right;\">\n",
       "      <th></th>\n",
       "      <th>Size</th>\n",
       "      <th>Weight</th>\n",
       "      <th>Sweetness</th>\n",
       "      <th>Crunchiness</th>\n",
       "      <th>Juiciness</th>\n",
       "      <th>Ripeness</th>\n",
       "      <th>Acidity</th>\n",
       "      <th>Quality</th>\n",
       "      <th>Label</th>\n",
       "    </tr>\n",
       "  </thead>\n",
       "  <tbody>\n",
       "    <tr>\n",
       "      <th>0</th>\n",
       "      <td>-3.970049</td>\n",
       "      <td>-2.512336</td>\n",
       "      <td>5.346330</td>\n",
       "      <td>-1.012009</td>\n",
       "      <td>1.844900</td>\n",
       "      <td>0.329840</td>\n",
       "      <td>-0.491590</td>\n",
       "      <td>good</td>\n",
       "      <td>1</td>\n",
       "    </tr>\n",
       "    <tr>\n",
       "      <th>1</th>\n",
       "      <td>-1.195217</td>\n",
       "      <td>-2.839257</td>\n",
       "      <td>3.664059</td>\n",
       "      <td>1.588232</td>\n",
       "      <td>0.853286</td>\n",
       "      <td>0.867530</td>\n",
       "      <td>-0.722809</td>\n",
       "      <td>good</td>\n",
       "      <td>1</td>\n",
       "    </tr>\n",
       "    <tr>\n",
       "      <th>2</th>\n",
       "      <td>-0.292024</td>\n",
       "      <td>-1.351282</td>\n",
       "      <td>-1.738429</td>\n",
       "      <td>-0.342616</td>\n",
       "      <td>2.838636</td>\n",
       "      <td>-0.038033</td>\n",
       "      <td>2.621636</td>\n",
       "      <td>bad</td>\n",
       "      <td>0</td>\n",
       "    </tr>\n",
       "    <tr>\n",
       "      <th>3</th>\n",
       "      <td>-0.657196</td>\n",
       "      <td>-2.271627</td>\n",
       "      <td>1.324874</td>\n",
       "      <td>-0.097875</td>\n",
       "      <td>3.637970</td>\n",
       "      <td>-3.413761</td>\n",
       "      <td>0.790723</td>\n",
       "      <td>good</td>\n",
       "      <td>1</td>\n",
       "    </tr>\n",
       "    <tr>\n",
       "      <th>4</th>\n",
       "      <td>1.364217</td>\n",
       "      <td>-1.296612</td>\n",
       "      <td>-0.384658</td>\n",
       "      <td>-0.553006</td>\n",
       "      <td>3.030874</td>\n",
       "      <td>-1.303849</td>\n",
       "      <td>0.501984</td>\n",
       "      <td>good</td>\n",
       "      <td>1</td>\n",
       "    </tr>\n",
       "    <tr>\n",
       "      <th>...</th>\n",
       "      <td>...</td>\n",
       "      <td>...</td>\n",
       "      <td>...</td>\n",
       "      <td>...</td>\n",
       "      <td>...</td>\n",
       "      <td>...</td>\n",
       "      <td>...</td>\n",
       "      <td>...</td>\n",
       "      <td>...</td>\n",
       "    </tr>\n",
       "    <tr>\n",
       "      <th>3995</th>\n",
       "      <td>0.059386</td>\n",
       "      <td>-1.067408</td>\n",
       "      <td>-3.714549</td>\n",
       "      <td>0.473052</td>\n",
       "      <td>1.697986</td>\n",
       "      <td>2.244055</td>\n",
       "      <td>0.137784</td>\n",
       "      <td>bad</td>\n",
       "      <td>0</td>\n",
       "    </tr>\n",
       "    <tr>\n",
       "      <th>3996</th>\n",
       "      <td>-0.293118</td>\n",
       "      <td>1.949253</td>\n",
       "      <td>-0.204020</td>\n",
       "      <td>-0.640196</td>\n",
       "      <td>0.024523</td>\n",
       "      <td>-1.087900</td>\n",
       "      <td>1.854235</td>\n",
       "      <td>good</td>\n",
       "      <td>1</td>\n",
       "    </tr>\n",
       "    <tr>\n",
       "      <th>3997</th>\n",
       "      <td>-2.634515</td>\n",
       "      <td>-2.138247</td>\n",
       "      <td>-2.440461</td>\n",
       "      <td>0.657223</td>\n",
       "      <td>2.199709</td>\n",
       "      <td>4.763859</td>\n",
       "      <td>-1.334611</td>\n",
       "      <td>bad</td>\n",
       "      <td>0</td>\n",
       "    </tr>\n",
       "    <tr>\n",
       "      <th>3998</th>\n",
       "      <td>-4.008004</td>\n",
       "      <td>-1.779337</td>\n",
       "      <td>2.366397</td>\n",
       "      <td>-0.200329</td>\n",
       "      <td>2.161435</td>\n",
       "      <td>0.214488</td>\n",
       "      <td>-2.229720</td>\n",
       "      <td>good</td>\n",
       "      <td>1</td>\n",
       "    </tr>\n",
       "    <tr>\n",
       "      <th>3999</th>\n",
       "      <td>0.278540</td>\n",
       "      <td>-1.715505</td>\n",
       "      <td>0.121217</td>\n",
       "      <td>-1.154075</td>\n",
       "      <td>1.266677</td>\n",
       "      <td>-0.776571</td>\n",
       "      <td>1.599796</td>\n",
       "      <td>good</td>\n",
       "      <td>1</td>\n",
       "    </tr>\n",
       "  </tbody>\n",
       "</table>\n",
       "<p>4000 rows × 9 columns</p>\n",
       "</div>"
      ],
      "text/plain": [
       "          Size    Weight  Sweetness  Crunchiness  Juiciness  Ripeness  \\\n",
       "0    -3.970049 -2.512336   5.346330    -1.012009   1.844900  0.329840   \n",
       "1    -1.195217 -2.839257   3.664059     1.588232   0.853286  0.867530   \n",
       "2    -0.292024 -1.351282  -1.738429    -0.342616   2.838636 -0.038033   \n",
       "3    -0.657196 -2.271627   1.324874    -0.097875   3.637970 -3.413761   \n",
       "4     1.364217 -1.296612  -0.384658    -0.553006   3.030874 -1.303849   \n",
       "...        ...       ...        ...          ...        ...       ...   \n",
       "3995  0.059386 -1.067408  -3.714549     0.473052   1.697986  2.244055   \n",
       "3996 -0.293118  1.949253  -0.204020    -0.640196   0.024523 -1.087900   \n",
       "3997 -2.634515 -2.138247  -2.440461     0.657223   2.199709  4.763859   \n",
       "3998 -4.008004 -1.779337   2.366397    -0.200329   2.161435  0.214488   \n",
       "3999  0.278540 -1.715505   0.121217    -1.154075   1.266677 -0.776571   \n",
       "\n",
       "       Acidity Quality  Label  \n",
       "0    -0.491590    good      1  \n",
       "1    -0.722809    good      1  \n",
       "2     2.621636     bad      0  \n",
       "3     0.790723    good      1  \n",
       "4     0.501984    good      1  \n",
       "...        ...     ...    ...  \n",
       "3995  0.137784     bad      0  \n",
       "3996  1.854235    good      1  \n",
       "3997 -1.334611     bad      0  \n",
       "3998 -2.229720    good      1  \n",
       "3999  1.599796    good      1  \n",
       "\n",
       "[4000 rows x 9 columns]"
      ]
     },
     "execution_count": 23,
     "metadata": {},
     "output_type": "execute_result"
    }
   ],
   "source": [
    "apple_clear_df"
   ]
  },
  {
   "cell_type": "code",
   "execution_count": 24,
   "metadata": {},
   "outputs": [
    {
     "name": "stdout",
     "output_type": "stream",
     "text": [
      "label 1 = good\n"
     ]
    }
   ],
   "source": [
    "dummies_df = pd.get_dummies(apple_clear_df['Quality'], dtype=int,  drop_first= True)\n",
    "print(f'label 1 = {str(dummies_df.columns[0])}')"
   ]
  },
  {
   "cell_type": "markdown",
   "metadata": {},
   "source": [
    "# Data Splitting"
   ]
  },
  {
   "cell_type": "code",
   "execution_count": 25,
   "metadata": {},
   "outputs": [],
   "source": [
    "from sklearn.model_selection import train_test_split"
   ]
  },
  {
   "cell_type": "code",
   "execution_count": 26,
   "metadata": {},
   "outputs": [],
   "source": [
    "X = apple_clear_df.drop(columns=['Quality', 'Label'])\n",
    "y = apple_clear_df['Label']"
   ]
  },
  {
   "cell_type": "code",
   "execution_count": 27,
   "metadata": {},
   "outputs": [
    {
     "data": {
      "text/plain": [
       "((3200, 7), (800, 7), (3200,), (800,))"
      ]
     },
     "execution_count": 27,
     "metadata": {},
     "output_type": "execute_result"
    }
   ],
   "source": [
    "X_train, X_test, y_train, y_test = train_test_split(X, y, test_size=0.2, stratify=y, random_state=42)\n",
    "X_train.shape, X_test.shape, y_train.shape, y_test.shape\n"
   ]
  },
  {
   "cell_type": "markdown",
   "metadata": {},
   "source": [
    "# Preprocessor"
   ]
  },
  {
   "cell_type": "code",
   "execution_count": 28,
   "metadata": {},
   "outputs": [],
   "source": [
    "from sklearn.preprocessing import MinMaxScaler"
   ]
  },
  {
   "cell_type": "code",
   "execution_count": 29,
   "metadata": {},
   "outputs": [],
   "source": [
    "scaler = MinMaxScaler()"
   ]
  },
  {
   "cell_type": "code",
   "execution_count": 30,
   "metadata": {},
   "outputs": [
    {
     "data": {
      "text/html": [
       "<style>#sk-container-id-1 {color: black;background-color: white;}#sk-container-id-1 pre{padding: 0;}#sk-container-id-1 div.sk-toggleable {background-color: white;}#sk-container-id-1 label.sk-toggleable__label {cursor: pointer;display: block;width: 100%;margin-bottom: 0;padding: 0.3em;box-sizing: border-box;text-align: center;}#sk-container-id-1 label.sk-toggleable__label-arrow:before {content: \"▸\";float: left;margin-right: 0.25em;color: #696969;}#sk-container-id-1 label.sk-toggleable__label-arrow:hover:before {color: black;}#sk-container-id-1 div.sk-estimator:hover label.sk-toggleable__label-arrow:before {color: black;}#sk-container-id-1 div.sk-toggleable__content {max-height: 0;max-width: 0;overflow: hidden;text-align: left;background-color: #f0f8ff;}#sk-container-id-1 div.sk-toggleable__content pre {margin: 0.2em;color: black;border-radius: 0.25em;background-color: #f0f8ff;}#sk-container-id-1 input.sk-toggleable__control:checked~div.sk-toggleable__content {max-height: 200px;max-width: 100%;overflow: auto;}#sk-container-id-1 input.sk-toggleable__control:checked~label.sk-toggleable__label-arrow:before {content: \"▾\";}#sk-container-id-1 div.sk-estimator input.sk-toggleable__control:checked~label.sk-toggleable__label {background-color: #d4ebff;}#sk-container-id-1 div.sk-label input.sk-toggleable__control:checked~label.sk-toggleable__label {background-color: #d4ebff;}#sk-container-id-1 input.sk-hidden--visually {border: 0;clip: rect(1px 1px 1px 1px);clip: rect(1px, 1px, 1px, 1px);height: 1px;margin: -1px;overflow: hidden;padding: 0;position: absolute;width: 1px;}#sk-container-id-1 div.sk-estimator {font-family: monospace;background-color: #f0f8ff;border: 1px dotted black;border-radius: 0.25em;box-sizing: border-box;margin-bottom: 0.5em;}#sk-container-id-1 div.sk-estimator:hover {background-color: #d4ebff;}#sk-container-id-1 div.sk-parallel-item::after {content: \"\";width: 100%;border-bottom: 1px solid gray;flex-grow: 1;}#sk-container-id-1 div.sk-label:hover label.sk-toggleable__label {background-color: #d4ebff;}#sk-container-id-1 div.sk-serial::before {content: \"\";position: absolute;border-left: 1px solid gray;box-sizing: border-box;top: 0;bottom: 0;left: 50%;z-index: 0;}#sk-container-id-1 div.sk-serial {display: flex;flex-direction: column;align-items: center;background-color: white;padding-right: 0.2em;padding-left: 0.2em;position: relative;}#sk-container-id-1 div.sk-item {position: relative;z-index: 1;}#sk-container-id-1 div.sk-parallel {display: flex;align-items: stretch;justify-content: center;background-color: white;position: relative;}#sk-container-id-1 div.sk-item::before, #sk-container-id-1 div.sk-parallel-item::before {content: \"\";position: absolute;border-left: 1px solid gray;box-sizing: border-box;top: 0;bottom: 0;left: 50%;z-index: -1;}#sk-container-id-1 div.sk-parallel-item {display: flex;flex-direction: column;z-index: 1;position: relative;background-color: white;}#sk-container-id-1 div.sk-parallel-item:first-child::after {align-self: flex-end;width: 50%;}#sk-container-id-1 div.sk-parallel-item:last-child::after {align-self: flex-start;width: 50%;}#sk-container-id-1 div.sk-parallel-item:only-child::after {width: 0;}#sk-container-id-1 div.sk-dashed-wrapped {border: 1px dashed gray;margin: 0 0.4em 0.5em 0.4em;box-sizing: border-box;padding-bottom: 0.4em;background-color: white;}#sk-container-id-1 div.sk-label label {font-family: monospace;font-weight: bold;display: inline-block;line-height: 1.2em;}#sk-container-id-1 div.sk-label-container {text-align: center;}#sk-container-id-1 div.sk-container {/* jupyter's `normalize.less` sets `[hidden] { display: none; }` but bootstrap.min.css set `[hidden] { display: none !important; }` so we also need the `!important` here to be able to override the default hidden behavior on the sphinx rendered scikit-learn.org. See: https://github.com/scikit-learn/scikit-learn/issues/21755 */display: inline-block !important;position: relative;}#sk-container-id-1 div.sk-text-repr-fallback {display: none;}</style><div id=\"sk-container-id-1\" class=\"sk-top-container\"><div class=\"sk-text-repr-fallback\"><pre>MinMaxScaler()</pre><b>In a Jupyter environment, please rerun this cell to show the HTML representation or trust the notebook. <br />On GitHub, the HTML representation is unable to render, please try loading this page with nbviewer.org.</b></div><div class=\"sk-container\" hidden><div class=\"sk-item\"><div class=\"sk-estimator sk-toggleable\"><input class=\"sk-toggleable__control sk-hidden--visually\" id=\"sk-estimator-id-1\" type=\"checkbox\" checked><label for=\"sk-estimator-id-1\" class=\"sk-toggleable__label sk-toggleable__label-arrow\">MinMaxScaler</label><div class=\"sk-toggleable__content\"><pre>MinMaxScaler()</pre></div></div></div></div></div>"
      ],
      "text/plain": [
       "MinMaxScaler()"
      ]
     },
     "execution_count": 30,
     "metadata": {},
     "output_type": "execute_result"
    }
   ],
   "source": [
    "scaler.fit(X_train)"
   ]
  },
  {
   "cell_type": "code",
   "execution_count": 31,
   "metadata": {},
   "outputs": [
    {
     "data": {
      "text/plain": [
       "array([6.4063669 , 5.79071359, 6.37491551, 7.6198518 , 7.36440286,\n",
       "       7.23783668, 7.40473624])"
      ]
     },
     "execution_count": 31,
     "metadata": {},
     "output_type": "execute_result"
    }
   ],
   "source": [
    "scaler.data_max_"
   ]
  },
  {
   "cell_type": "code",
   "execution_count": 32,
   "metadata": {},
   "outputs": [
    {
     "data": {
      "text/plain": [
       "array([-7.15170306, -6.58158967, -6.35974912, -6.0550578 , -5.96189705,\n",
       "       -5.86459892, -6.95546037])"
      ]
     },
     "execution_count": 32,
     "metadata": {},
     "output_type": "execute_result"
    }
   ],
   "source": [
    "scaler.data_min_"
   ]
  },
  {
   "cell_type": "code",
   "execution_count": 33,
   "metadata": {},
   "outputs": [],
   "source": [
    "X_train_scaled = scaler.transform(X_train)\n",
    "X_test_scaled = scaler.transform(X_test)"
   ]
  },
  {
   "cell_type": "code",
   "execution_count": 34,
   "metadata": {},
   "outputs": [
    {
     "name": "stdout",
     "output_type": "stream",
     "text": [
      "1.0\n",
      "0.0\n"
     ]
    }
   ],
   "source": [
    "print(X_train_scaled.max())\n",
    "print(X_train_scaled.min())"
   ]
  },
  {
   "cell_type": "code",
   "execution_count": 35,
   "metadata": {},
   "outputs": [],
   "source": [
    "from sklearn.svm import SVC"
   ]
  },
  {
   "cell_type": "code",
   "execution_count": 37,
   "metadata": {},
   "outputs": [],
   "source": [
    "model_svm = SVC(kernel='linear', C=3)"
   ]
  },
  {
   "cell_type": "code",
   "execution_count": 38,
   "metadata": {},
   "outputs": [
    {
     "data": {
      "text/html": [
       "<style>#sk-container-id-2 {color: black;background-color: white;}#sk-container-id-2 pre{padding: 0;}#sk-container-id-2 div.sk-toggleable {background-color: white;}#sk-container-id-2 label.sk-toggleable__label {cursor: pointer;display: block;width: 100%;margin-bottom: 0;padding: 0.3em;box-sizing: border-box;text-align: center;}#sk-container-id-2 label.sk-toggleable__label-arrow:before {content: \"▸\";float: left;margin-right: 0.25em;color: #696969;}#sk-container-id-2 label.sk-toggleable__label-arrow:hover:before {color: black;}#sk-container-id-2 div.sk-estimator:hover label.sk-toggleable__label-arrow:before {color: black;}#sk-container-id-2 div.sk-toggleable__content {max-height: 0;max-width: 0;overflow: hidden;text-align: left;background-color: #f0f8ff;}#sk-container-id-2 div.sk-toggleable__content pre {margin: 0.2em;color: black;border-radius: 0.25em;background-color: #f0f8ff;}#sk-container-id-2 input.sk-toggleable__control:checked~div.sk-toggleable__content {max-height: 200px;max-width: 100%;overflow: auto;}#sk-container-id-2 input.sk-toggleable__control:checked~label.sk-toggleable__label-arrow:before {content: \"▾\";}#sk-container-id-2 div.sk-estimator input.sk-toggleable__control:checked~label.sk-toggleable__label {background-color: #d4ebff;}#sk-container-id-2 div.sk-label input.sk-toggleable__control:checked~label.sk-toggleable__label {background-color: #d4ebff;}#sk-container-id-2 input.sk-hidden--visually {border: 0;clip: rect(1px 1px 1px 1px);clip: rect(1px, 1px, 1px, 1px);height: 1px;margin: -1px;overflow: hidden;padding: 0;position: absolute;width: 1px;}#sk-container-id-2 div.sk-estimator {font-family: monospace;background-color: #f0f8ff;border: 1px dotted black;border-radius: 0.25em;box-sizing: border-box;margin-bottom: 0.5em;}#sk-container-id-2 div.sk-estimator:hover {background-color: #d4ebff;}#sk-container-id-2 div.sk-parallel-item::after {content: \"\";width: 100%;border-bottom: 1px solid gray;flex-grow: 1;}#sk-container-id-2 div.sk-label:hover label.sk-toggleable__label {background-color: #d4ebff;}#sk-container-id-2 div.sk-serial::before {content: \"\";position: absolute;border-left: 1px solid gray;box-sizing: border-box;top: 0;bottom: 0;left: 50%;z-index: 0;}#sk-container-id-2 div.sk-serial {display: flex;flex-direction: column;align-items: center;background-color: white;padding-right: 0.2em;padding-left: 0.2em;position: relative;}#sk-container-id-2 div.sk-item {position: relative;z-index: 1;}#sk-container-id-2 div.sk-parallel {display: flex;align-items: stretch;justify-content: center;background-color: white;position: relative;}#sk-container-id-2 div.sk-item::before, #sk-container-id-2 div.sk-parallel-item::before {content: \"\";position: absolute;border-left: 1px solid gray;box-sizing: border-box;top: 0;bottom: 0;left: 50%;z-index: -1;}#sk-container-id-2 div.sk-parallel-item {display: flex;flex-direction: column;z-index: 1;position: relative;background-color: white;}#sk-container-id-2 div.sk-parallel-item:first-child::after {align-self: flex-end;width: 50%;}#sk-container-id-2 div.sk-parallel-item:last-child::after {align-self: flex-start;width: 50%;}#sk-container-id-2 div.sk-parallel-item:only-child::after {width: 0;}#sk-container-id-2 div.sk-dashed-wrapped {border: 1px dashed gray;margin: 0 0.4em 0.5em 0.4em;box-sizing: border-box;padding-bottom: 0.4em;background-color: white;}#sk-container-id-2 div.sk-label label {font-family: monospace;font-weight: bold;display: inline-block;line-height: 1.2em;}#sk-container-id-2 div.sk-label-container {text-align: center;}#sk-container-id-2 div.sk-container {/* jupyter's `normalize.less` sets `[hidden] { display: none; }` but bootstrap.min.css set `[hidden] { display: none !important; }` so we also need the `!important` here to be able to override the default hidden behavior on the sphinx rendered scikit-learn.org. See: https://github.com/scikit-learn/scikit-learn/issues/21755 */display: inline-block !important;position: relative;}#sk-container-id-2 div.sk-text-repr-fallback {display: none;}</style><div id=\"sk-container-id-2\" class=\"sk-top-container\"><div class=\"sk-text-repr-fallback\"><pre>SVC(C=3, kernel=&#x27;linear&#x27;)</pre><b>In a Jupyter environment, please rerun this cell to show the HTML representation or trust the notebook. <br />On GitHub, the HTML representation is unable to render, please try loading this page with nbviewer.org.</b></div><div class=\"sk-container\" hidden><div class=\"sk-item\"><div class=\"sk-estimator sk-toggleable\"><input class=\"sk-toggleable__control sk-hidden--visually\" id=\"sk-estimator-id-2\" type=\"checkbox\" checked><label for=\"sk-estimator-id-2\" class=\"sk-toggleable__label sk-toggleable__label-arrow\">SVC</label><div class=\"sk-toggleable__content\"><pre>SVC(C=3, kernel=&#x27;linear&#x27;)</pre></div></div></div></div></div>"
      ],
      "text/plain": [
       "SVC(C=3, kernel='linear')"
      ]
     },
     "execution_count": 38,
     "metadata": {},
     "output_type": "execute_result"
    }
   ],
   "source": [
    "model_svm.fit(X_train_scaled, y_train)"
   ]
  },
  {
   "cell_type": "code",
   "execution_count": 40,
   "metadata": {},
   "outputs": [
    {
     "data": {
      "text/plain": [
       "(0.7521875, 0.74625)"
      ]
     },
     "execution_count": 40,
     "metadata": {},
     "output_type": "execute_result"
    }
   ],
   "source": [
    "model_svm.score(X_train_scaled, y_train), model_svm.score(X_test_scaled, y_test)"
   ]
  },
  {
   "cell_type": "code",
   "execution_count": 42,
   "metadata": {},
   "outputs": [],
   "source": [
    "from sklearn.pipeline import Pipeline"
   ]
  },
  {
   "cell_type": "code",
   "execution_count": 43,
   "metadata": {},
   "outputs": [],
   "source": [
    "pipeline_model = Pipeline([\n",
    "    ('prep_scale', MinMaxScaler()),\n",
    "    ('model_clf', SVC(kernel='linear', C=3))\n",
    "])"
   ]
  },
  {
   "cell_type": "code",
   "execution_count": 44,
   "metadata": {},
   "outputs": [
    {
     "data": {
      "text/html": [
       "<style>#sk-container-id-3 {color: black;background-color: white;}#sk-container-id-3 pre{padding: 0;}#sk-container-id-3 div.sk-toggleable {background-color: white;}#sk-container-id-3 label.sk-toggleable__label {cursor: pointer;display: block;width: 100%;margin-bottom: 0;padding: 0.3em;box-sizing: border-box;text-align: center;}#sk-container-id-3 label.sk-toggleable__label-arrow:before {content: \"▸\";float: left;margin-right: 0.25em;color: #696969;}#sk-container-id-3 label.sk-toggleable__label-arrow:hover:before {color: black;}#sk-container-id-3 div.sk-estimator:hover label.sk-toggleable__label-arrow:before {color: black;}#sk-container-id-3 div.sk-toggleable__content {max-height: 0;max-width: 0;overflow: hidden;text-align: left;background-color: #f0f8ff;}#sk-container-id-3 div.sk-toggleable__content pre {margin: 0.2em;color: black;border-radius: 0.25em;background-color: #f0f8ff;}#sk-container-id-3 input.sk-toggleable__control:checked~div.sk-toggleable__content {max-height: 200px;max-width: 100%;overflow: auto;}#sk-container-id-3 input.sk-toggleable__control:checked~label.sk-toggleable__label-arrow:before {content: \"▾\";}#sk-container-id-3 div.sk-estimator input.sk-toggleable__control:checked~label.sk-toggleable__label {background-color: #d4ebff;}#sk-container-id-3 div.sk-label input.sk-toggleable__control:checked~label.sk-toggleable__label {background-color: #d4ebff;}#sk-container-id-3 input.sk-hidden--visually {border: 0;clip: rect(1px 1px 1px 1px);clip: rect(1px, 1px, 1px, 1px);height: 1px;margin: -1px;overflow: hidden;padding: 0;position: absolute;width: 1px;}#sk-container-id-3 div.sk-estimator {font-family: monospace;background-color: #f0f8ff;border: 1px dotted black;border-radius: 0.25em;box-sizing: border-box;margin-bottom: 0.5em;}#sk-container-id-3 div.sk-estimator:hover {background-color: #d4ebff;}#sk-container-id-3 div.sk-parallel-item::after {content: \"\";width: 100%;border-bottom: 1px solid gray;flex-grow: 1;}#sk-container-id-3 div.sk-label:hover label.sk-toggleable__label {background-color: #d4ebff;}#sk-container-id-3 div.sk-serial::before {content: \"\";position: absolute;border-left: 1px solid gray;box-sizing: border-box;top: 0;bottom: 0;left: 50%;z-index: 0;}#sk-container-id-3 div.sk-serial {display: flex;flex-direction: column;align-items: center;background-color: white;padding-right: 0.2em;padding-left: 0.2em;position: relative;}#sk-container-id-3 div.sk-item {position: relative;z-index: 1;}#sk-container-id-3 div.sk-parallel {display: flex;align-items: stretch;justify-content: center;background-color: white;position: relative;}#sk-container-id-3 div.sk-item::before, #sk-container-id-3 div.sk-parallel-item::before {content: \"\";position: absolute;border-left: 1px solid gray;box-sizing: border-box;top: 0;bottom: 0;left: 50%;z-index: -1;}#sk-container-id-3 div.sk-parallel-item {display: flex;flex-direction: column;z-index: 1;position: relative;background-color: white;}#sk-container-id-3 div.sk-parallel-item:first-child::after {align-self: flex-end;width: 50%;}#sk-container-id-3 div.sk-parallel-item:last-child::after {align-self: flex-start;width: 50%;}#sk-container-id-3 div.sk-parallel-item:only-child::after {width: 0;}#sk-container-id-3 div.sk-dashed-wrapped {border: 1px dashed gray;margin: 0 0.4em 0.5em 0.4em;box-sizing: border-box;padding-bottom: 0.4em;background-color: white;}#sk-container-id-3 div.sk-label label {font-family: monospace;font-weight: bold;display: inline-block;line-height: 1.2em;}#sk-container-id-3 div.sk-label-container {text-align: center;}#sk-container-id-3 div.sk-container {/* jupyter's `normalize.less` sets `[hidden] { display: none; }` but bootstrap.min.css set `[hidden] { display: none !important; }` so we also need the `!important` here to be able to override the default hidden behavior on the sphinx rendered scikit-learn.org. See: https://github.com/scikit-learn/scikit-learn/issues/21755 */display: inline-block !important;position: relative;}#sk-container-id-3 div.sk-text-repr-fallback {display: none;}</style><div id=\"sk-container-id-3\" class=\"sk-top-container\"><div class=\"sk-text-repr-fallback\"><pre>Pipeline(steps=[(&#x27;prep_scale&#x27;, MinMaxScaler()),\n",
       "                (&#x27;model_clf&#x27;, SVC(C=3, kernel=&#x27;linear&#x27;))])</pre><b>In a Jupyter environment, please rerun this cell to show the HTML representation or trust the notebook. <br />On GitHub, the HTML representation is unable to render, please try loading this page with nbviewer.org.</b></div><div class=\"sk-container\" hidden><div class=\"sk-item sk-dashed-wrapped\"><div class=\"sk-label-container\"><div class=\"sk-label sk-toggleable\"><input class=\"sk-toggleable__control sk-hidden--visually\" id=\"sk-estimator-id-3\" type=\"checkbox\" ><label for=\"sk-estimator-id-3\" class=\"sk-toggleable__label sk-toggleable__label-arrow\">Pipeline</label><div class=\"sk-toggleable__content\"><pre>Pipeline(steps=[(&#x27;prep_scale&#x27;, MinMaxScaler()),\n",
       "                (&#x27;model_clf&#x27;, SVC(C=3, kernel=&#x27;linear&#x27;))])</pre></div></div></div><div class=\"sk-serial\"><div class=\"sk-item\"><div class=\"sk-estimator sk-toggleable\"><input class=\"sk-toggleable__control sk-hidden--visually\" id=\"sk-estimator-id-4\" type=\"checkbox\" ><label for=\"sk-estimator-id-4\" class=\"sk-toggleable__label sk-toggleable__label-arrow\">MinMaxScaler</label><div class=\"sk-toggleable__content\"><pre>MinMaxScaler()</pre></div></div></div><div class=\"sk-item\"><div class=\"sk-estimator sk-toggleable\"><input class=\"sk-toggleable__control sk-hidden--visually\" id=\"sk-estimator-id-5\" type=\"checkbox\" ><label for=\"sk-estimator-id-5\" class=\"sk-toggleable__label sk-toggleable__label-arrow\">SVC</label><div class=\"sk-toggleable__content\"><pre>SVC(C=3, kernel=&#x27;linear&#x27;)</pre></div></div></div></div></div></div></div>"
      ],
      "text/plain": [
       "Pipeline(steps=[('prep_scale', MinMaxScaler()),\n",
       "                ('model_clf', SVC(C=3, kernel='linear'))])"
      ]
     },
     "execution_count": 44,
     "metadata": {},
     "output_type": "execute_result"
    }
   ],
   "source": [
    "pipeline_model.fit(X_train, y_train)"
   ]
  },
  {
   "cell_type": "markdown",
   "metadata": {},
   "source": [
    "# GidSearcV"
   ]
  },
  {
   "cell_type": "code",
   "execution_count": 45,
   "metadata": {},
   "outputs": [],
   "source": [
    "from sklearn.model_selection import GridSearchCV"
   ]
  },
  {
   "cell_type": "code",
   "execution_count": 46,
   "metadata": {},
   "outputs": [
    {
     "data": {
      "text/plain": [
       "{'memory': None,\n",
       " 'steps': [('prep_scale', MinMaxScaler()),\n",
       "  ('model_clf', SVC(C=3, kernel='linear'))],\n",
       " 'verbose': False,\n",
       " 'prep_scale': MinMaxScaler(),\n",
       " 'model_clf': SVC(C=3, kernel='linear'),\n",
       " 'prep_scale__clip': False,\n",
       " 'prep_scale__copy': True,\n",
       " 'prep_scale__feature_range': (0, 1),\n",
       " 'model_clf__C': 3,\n",
       " 'model_clf__break_ties': False,\n",
       " 'model_clf__cache_size': 200,\n",
       " 'model_clf__class_weight': None,\n",
       " 'model_clf__coef0': 0.0,\n",
       " 'model_clf__decision_function_shape': 'ovr',\n",
       " 'model_clf__degree': 3,\n",
       " 'model_clf__gamma': 'scale',\n",
       " 'model_clf__kernel': 'linear',\n",
       " 'model_clf__max_iter': -1,\n",
       " 'model_clf__probability': False,\n",
       " 'model_clf__random_state': None,\n",
       " 'model_clf__shrinking': True,\n",
       " 'model_clf__tol': 0.001,\n",
       " 'model_clf__verbose': False}"
      ]
     },
     "execution_count": 46,
     "metadata": {},
     "output_type": "execute_result"
    }
   ],
   "source": [
    "pipeline_model.get_params()"
   ]
  },
  {
   "cell_type": "code",
   "execution_count": 56,
   "metadata": {},
   "outputs": [],
   "source": [
    "parameter = {\n",
    "    'model_clf__C' : range(1,10),\n",
    "    'model_clf__kernel' : ['linear', 'poly', 'rbf']\n",
    "}"
   ]
  },
  {
   "cell_type": "code",
   "execution_count": 57,
   "metadata": {},
   "outputs": [],
   "source": [
    "model_grid = GridSearchCV(pipeline_model, parameter, cv= 3, n_jobs=-1, verbose=1)"
   ]
  },
  {
   "cell_type": "code",
   "execution_count": 58,
   "metadata": {},
   "outputs": [
    {
     "name": "stdout",
     "output_type": "stream",
     "text": [
      "Fitting 3 folds for each of 27 candidates, totalling 81 fits\n"
     ]
    },
    {
     "data": {
      "text/html": [
       "<style>#sk-container-id-6 {color: black;background-color: white;}#sk-container-id-6 pre{padding: 0;}#sk-container-id-6 div.sk-toggleable {background-color: white;}#sk-container-id-6 label.sk-toggleable__label {cursor: pointer;display: block;width: 100%;margin-bottom: 0;padding: 0.3em;box-sizing: border-box;text-align: center;}#sk-container-id-6 label.sk-toggleable__label-arrow:before {content: \"▸\";float: left;margin-right: 0.25em;color: #696969;}#sk-container-id-6 label.sk-toggleable__label-arrow:hover:before {color: black;}#sk-container-id-6 div.sk-estimator:hover label.sk-toggleable__label-arrow:before {color: black;}#sk-container-id-6 div.sk-toggleable__content {max-height: 0;max-width: 0;overflow: hidden;text-align: left;background-color: #f0f8ff;}#sk-container-id-6 div.sk-toggleable__content pre {margin: 0.2em;color: black;border-radius: 0.25em;background-color: #f0f8ff;}#sk-container-id-6 input.sk-toggleable__control:checked~div.sk-toggleable__content {max-height: 200px;max-width: 100%;overflow: auto;}#sk-container-id-6 input.sk-toggleable__control:checked~label.sk-toggleable__label-arrow:before {content: \"▾\";}#sk-container-id-6 div.sk-estimator input.sk-toggleable__control:checked~label.sk-toggleable__label {background-color: #d4ebff;}#sk-container-id-6 div.sk-label input.sk-toggleable__control:checked~label.sk-toggleable__label {background-color: #d4ebff;}#sk-container-id-6 input.sk-hidden--visually {border: 0;clip: rect(1px 1px 1px 1px);clip: rect(1px, 1px, 1px, 1px);height: 1px;margin: -1px;overflow: hidden;padding: 0;position: absolute;width: 1px;}#sk-container-id-6 div.sk-estimator {font-family: monospace;background-color: #f0f8ff;border: 1px dotted black;border-radius: 0.25em;box-sizing: border-box;margin-bottom: 0.5em;}#sk-container-id-6 div.sk-estimator:hover {background-color: #d4ebff;}#sk-container-id-6 div.sk-parallel-item::after {content: \"\";width: 100%;border-bottom: 1px solid gray;flex-grow: 1;}#sk-container-id-6 div.sk-label:hover label.sk-toggleable__label {background-color: #d4ebff;}#sk-container-id-6 div.sk-serial::before {content: \"\";position: absolute;border-left: 1px solid gray;box-sizing: border-box;top: 0;bottom: 0;left: 50%;z-index: 0;}#sk-container-id-6 div.sk-serial {display: flex;flex-direction: column;align-items: center;background-color: white;padding-right: 0.2em;padding-left: 0.2em;position: relative;}#sk-container-id-6 div.sk-item {position: relative;z-index: 1;}#sk-container-id-6 div.sk-parallel {display: flex;align-items: stretch;justify-content: center;background-color: white;position: relative;}#sk-container-id-6 div.sk-item::before, #sk-container-id-6 div.sk-parallel-item::before {content: \"\";position: absolute;border-left: 1px solid gray;box-sizing: border-box;top: 0;bottom: 0;left: 50%;z-index: -1;}#sk-container-id-6 div.sk-parallel-item {display: flex;flex-direction: column;z-index: 1;position: relative;background-color: white;}#sk-container-id-6 div.sk-parallel-item:first-child::after {align-self: flex-end;width: 50%;}#sk-container-id-6 div.sk-parallel-item:last-child::after {align-self: flex-start;width: 50%;}#sk-container-id-6 div.sk-parallel-item:only-child::after {width: 0;}#sk-container-id-6 div.sk-dashed-wrapped {border: 1px dashed gray;margin: 0 0.4em 0.5em 0.4em;box-sizing: border-box;padding-bottom: 0.4em;background-color: white;}#sk-container-id-6 div.sk-label label {font-family: monospace;font-weight: bold;display: inline-block;line-height: 1.2em;}#sk-container-id-6 div.sk-label-container {text-align: center;}#sk-container-id-6 div.sk-container {/* jupyter's `normalize.less` sets `[hidden] { display: none; }` but bootstrap.min.css set `[hidden] { display: none !important; }` so we also need the `!important` here to be able to override the default hidden behavior on the sphinx rendered scikit-learn.org. See: https://github.com/scikit-learn/scikit-learn/issues/21755 */display: inline-block !important;position: relative;}#sk-container-id-6 div.sk-text-repr-fallback {display: none;}</style><div id=\"sk-container-id-6\" class=\"sk-top-container\"><div class=\"sk-text-repr-fallback\"><pre>GridSearchCV(cv=3,\n",
       "             estimator=Pipeline(steps=[(&#x27;prep_scale&#x27;, MinMaxScaler()),\n",
       "                                       (&#x27;model_clf&#x27;,\n",
       "                                        SVC(C=3, kernel=&#x27;linear&#x27;))]),\n",
       "             n_jobs=-1,\n",
       "             param_grid={&#x27;model_clf__C&#x27;: range(1, 10),\n",
       "                         &#x27;model_clf__kernel&#x27;: [&#x27;linear&#x27;, &#x27;poly&#x27;, &#x27;rbf&#x27;]},\n",
       "             verbose=1)</pre><b>In a Jupyter environment, please rerun this cell to show the HTML representation or trust the notebook. <br />On GitHub, the HTML representation is unable to render, please try loading this page with nbviewer.org.</b></div><div class=\"sk-container\" hidden><div class=\"sk-item sk-dashed-wrapped\"><div class=\"sk-label-container\"><div class=\"sk-label sk-toggleable\"><input class=\"sk-toggleable__control sk-hidden--visually\" id=\"sk-estimator-id-14\" type=\"checkbox\" ><label for=\"sk-estimator-id-14\" class=\"sk-toggleable__label sk-toggleable__label-arrow\">GridSearchCV</label><div class=\"sk-toggleable__content\"><pre>GridSearchCV(cv=3,\n",
       "             estimator=Pipeline(steps=[(&#x27;prep_scale&#x27;, MinMaxScaler()),\n",
       "                                       (&#x27;model_clf&#x27;,\n",
       "                                        SVC(C=3, kernel=&#x27;linear&#x27;))]),\n",
       "             n_jobs=-1,\n",
       "             param_grid={&#x27;model_clf__C&#x27;: range(1, 10),\n",
       "                         &#x27;model_clf__kernel&#x27;: [&#x27;linear&#x27;, &#x27;poly&#x27;, &#x27;rbf&#x27;]},\n",
       "             verbose=1)</pre></div></div></div><div class=\"sk-parallel\"><div class=\"sk-parallel-item\"><div class=\"sk-item\"><div class=\"sk-label-container\"><div class=\"sk-label sk-toggleable\"><input class=\"sk-toggleable__control sk-hidden--visually\" id=\"sk-estimator-id-15\" type=\"checkbox\" ><label for=\"sk-estimator-id-15\" class=\"sk-toggleable__label sk-toggleable__label-arrow\">estimator: Pipeline</label><div class=\"sk-toggleable__content\"><pre>Pipeline(steps=[(&#x27;prep_scale&#x27;, MinMaxScaler()),\n",
       "                (&#x27;model_clf&#x27;, SVC(C=3, kernel=&#x27;linear&#x27;))])</pre></div></div></div><div class=\"sk-serial\"><div class=\"sk-item\"><div class=\"sk-serial\"><div class=\"sk-item\"><div class=\"sk-estimator sk-toggleable\"><input class=\"sk-toggleable__control sk-hidden--visually\" id=\"sk-estimator-id-16\" type=\"checkbox\" ><label for=\"sk-estimator-id-16\" class=\"sk-toggleable__label sk-toggleable__label-arrow\">MinMaxScaler</label><div class=\"sk-toggleable__content\"><pre>MinMaxScaler()</pre></div></div></div><div class=\"sk-item\"><div class=\"sk-estimator sk-toggleable\"><input class=\"sk-toggleable__control sk-hidden--visually\" id=\"sk-estimator-id-17\" type=\"checkbox\" ><label for=\"sk-estimator-id-17\" class=\"sk-toggleable__label sk-toggleable__label-arrow\">SVC</label><div class=\"sk-toggleable__content\"><pre>SVC(C=3, kernel=&#x27;linear&#x27;)</pre></div></div></div></div></div></div></div></div></div></div></div></div>"
      ],
      "text/plain": [
       "GridSearchCV(cv=3,\n",
       "             estimator=Pipeline(steps=[('prep_scale', MinMaxScaler()),\n",
       "                                       ('model_clf',\n",
       "                                        SVC(C=3, kernel='linear'))]),\n",
       "             n_jobs=-1,\n",
       "             param_grid={'model_clf__C': range(1, 10),\n",
       "                         'model_clf__kernel': ['linear', 'poly', 'rbf']},\n",
       "             verbose=1)"
      ]
     },
     "execution_count": 58,
     "metadata": {},
     "output_type": "execute_result"
    }
   ],
   "source": [
    "model_grid.fit(X_train, y_train)"
   ]
  },
  {
   "cell_type": "code",
   "execution_count": 59,
   "metadata": {},
   "outputs": [
    {
     "data": {
      "text/html": [
       "<div>\n",
       "<style scoped>\n",
       "    .dataframe tbody tr th:only-of-type {\n",
       "        vertical-align: middle;\n",
       "    }\n",
       "\n",
       "    .dataframe tbody tr th {\n",
       "        vertical-align: top;\n",
       "    }\n",
       "\n",
       "    .dataframe thead th {\n",
       "        text-align: right;\n",
       "    }\n",
       "</style>\n",
       "<table border=\"1\" class=\"dataframe\">\n",
       "  <thead>\n",
       "    <tr style=\"text-align: right;\">\n",
       "      <th></th>\n",
       "      <th>mean_fit_time</th>\n",
       "      <th>std_fit_time</th>\n",
       "      <th>mean_score_time</th>\n",
       "      <th>std_score_time</th>\n",
       "      <th>param_model_clf__C</th>\n",
       "      <th>param_model_clf__kernel</th>\n",
       "      <th>params</th>\n",
       "      <th>split0_test_score</th>\n",
       "      <th>split1_test_score</th>\n",
       "      <th>split2_test_score</th>\n",
       "      <th>mean_test_score</th>\n",
       "      <th>std_test_score</th>\n",
       "      <th>rank_test_score</th>\n",
       "    </tr>\n",
       "  </thead>\n",
       "  <tbody>\n",
       "    <tr>\n",
       "      <th>23</th>\n",
       "      <td>0.234377</td>\n",
       "      <td>0.000004</td>\n",
       "      <td>0.218748</td>\n",
       "      <td>7.018853e-07</td>\n",
       "      <td>8</td>\n",
       "      <td>rbf</td>\n",
       "      <td>{'model_clf__C': 8, 'model_clf__kernel': 'rbf'}</td>\n",
       "      <td>0.910965</td>\n",
       "      <td>0.896907</td>\n",
       "      <td>0.904315</td>\n",
       "      <td>0.904063</td>\n",
       "      <td>0.005742</td>\n",
       "      <td>1</td>\n",
       "    </tr>\n",
       "    <tr>\n",
       "      <th>26</th>\n",
       "      <td>0.236369</td>\n",
       "      <td>0.001691</td>\n",
       "      <td>0.222317</td>\n",
       "      <td>8.837371e-03</td>\n",
       "      <td>9</td>\n",
       "      <td>rbf</td>\n",
       "      <td>{'model_clf__C': 9, 'model_clf__kernel': 'rbf'}</td>\n",
       "      <td>0.910965</td>\n",
       "      <td>0.896907</td>\n",
       "      <td>0.903377</td>\n",
       "      <td>0.903750</td>\n",
       "      <td>0.005745</td>\n",
       "      <td>2</td>\n",
       "    </tr>\n",
       "    <tr>\n",
       "      <th>20</th>\n",
       "      <td>0.229169</td>\n",
       "      <td>0.007365</td>\n",
       "      <td>0.229167</td>\n",
       "      <td>7.367382e-03</td>\n",
       "      <td>7</td>\n",
       "      <td>rbf</td>\n",
       "      <td>{'model_clf__C': 7, 'model_clf__kernel': 'rbf'}</td>\n",
       "      <td>0.909091</td>\n",
       "      <td>0.895970</td>\n",
       "      <td>0.902439</td>\n",
       "      <td>0.902500</td>\n",
       "      <td>0.005357</td>\n",
       "      <td>3</td>\n",
       "    </tr>\n",
       "    <tr>\n",
       "      <th>17</th>\n",
       "      <td>0.229661</td>\n",
       "      <td>0.010154</td>\n",
       "      <td>0.238425</td>\n",
       "      <td>6.384764e-03</td>\n",
       "      <td>6</td>\n",
       "      <td>rbf</td>\n",
       "      <td>{'model_clf__C': 6, 'model_clf__kernel': 'rbf'}</td>\n",
       "      <td>0.909091</td>\n",
       "      <td>0.895033</td>\n",
       "      <td>0.902439</td>\n",
       "      <td>0.902188</td>\n",
       "      <td>0.005742</td>\n",
       "      <td>4</td>\n",
       "    </tr>\n",
       "    <tr>\n",
       "      <th>14</th>\n",
       "      <td>0.243372</td>\n",
       "      <td>0.017558</td>\n",
       "      <td>0.252829</td>\n",
       "      <td>2.534496e-02</td>\n",
       "      <td>5</td>\n",
       "      <td>rbf</td>\n",
       "      <td>{'model_clf__C': 5, 'model_clf__kernel': 'rbf'}</td>\n",
       "      <td>0.907216</td>\n",
       "      <td>0.895970</td>\n",
       "      <td>0.902439</td>\n",
       "      <td>0.901875</td>\n",
       "      <td>0.004609</td>\n",
       "      <td>5</td>\n",
       "    </tr>\n",
       "    <tr>\n",
       "      <th>8</th>\n",
       "      <td>0.235076</td>\n",
       "      <td>0.000991</td>\n",
       "      <td>0.239585</td>\n",
       "      <td>7.363898e-03</td>\n",
       "      <td>3</td>\n",
       "      <td>rbf</td>\n",
       "      <td>{'model_clf__C': 3, 'model_clf__kernel': 'rbf'}</td>\n",
       "      <td>0.904405</td>\n",
       "      <td>0.893158</td>\n",
       "      <td>0.900563</td>\n",
       "      <td>0.899375</td>\n",
       "      <td>0.004668</td>\n",
       "      <td>6</td>\n",
       "    </tr>\n",
       "    <tr>\n",
       "      <th>11</th>\n",
       "      <td>0.254994</td>\n",
       "      <td>0.025396</td>\n",
       "      <td>0.252999</td>\n",
       "      <td>1.511964e-02</td>\n",
       "      <td>4</td>\n",
       "      <td>rbf</td>\n",
       "      <td>{'model_clf__C': 4, 'model_clf__kernel': 'rbf'}</td>\n",
       "      <td>0.901593</td>\n",
       "      <td>0.892221</td>\n",
       "      <td>0.899625</td>\n",
       "      <td>0.897813</td>\n",
       "      <td>0.004035</td>\n",
       "      <td>7</td>\n",
       "    </tr>\n",
       "    <tr>\n",
       "      <th>5</th>\n",
       "      <td>0.245305</td>\n",
       "      <td>0.007936</td>\n",
       "      <td>0.262326</td>\n",
       "      <td>7.363752e-03</td>\n",
       "      <td>2</td>\n",
       "      <td>rbf</td>\n",
       "      <td>{'model_clf__C': 2, 'model_clf__kernel': 'rbf'}</td>\n",
       "      <td>0.903468</td>\n",
       "      <td>0.894096</td>\n",
       "      <td>0.895872</td>\n",
       "      <td>0.897812</td>\n",
       "      <td>0.004064</td>\n",
       "      <td>8</td>\n",
       "    </tr>\n",
       "    <tr>\n",
       "      <th>2</th>\n",
       "      <td>0.246346</td>\n",
       "      <td>0.008674</td>\n",
       "      <td>0.305861</td>\n",
       "      <td>2.494638e-02</td>\n",
       "      <td>1</td>\n",
       "      <td>rbf</td>\n",
       "      <td>{'model_clf__C': 1, 'model_clf__kernel': 'rbf'}</td>\n",
       "      <td>0.908154</td>\n",
       "      <td>0.887535</td>\n",
       "      <td>0.882739</td>\n",
       "      <td>0.892809</td>\n",
       "      <td>0.011025</td>\n",
       "      <td>9</td>\n",
       "    </tr>\n",
       "    <tr>\n",
       "      <th>4</th>\n",
       "      <td>3.850660</td>\n",
       "      <td>0.114680</td>\n",
       "      <td>0.057292</td>\n",
       "      <td>7.365190e-03</td>\n",
       "      <td>2</td>\n",
       "      <td>poly</td>\n",
       "      <td>{'model_clf__C': 2, 'model_clf__kernel': 'poly'}</td>\n",
       "      <td>0.877226</td>\n",
       "      <td>0.858482</td>\n",
       "      <td>0.868668</td>\n",
       "      <td>0.868125</td>\n",
       "      <td>0.007662</td>\n",
       "      <td>10</td>\n",
       "    </tr>\n",
       "    <tr>\n",
       "      <th>10</th>\n",
       "      <td>9.119800</td>\n",
       "      <td>1.123625</td>\n",
       "      <td>0.070534</td>\n",
       "      <td>3.044830e-03</td>\n",
       "      <td>4</td>\n",
       "      <td>poly</td>\n",
       "      <td>{'model_clf__C': 4, 'model_clf__kernel': 'poly'}</td>\n",
       "      <td>0.880037</td>\n",
       "      <td>0.857545</td>\n",
       "      <td>0.866792</td>\n",
       "      <td>0.868125</td>\n",
       "      <td>0.009231</td>\n",
       "      <td>11</td>\n",
       "    </tr>\n",
       "    <tr>\n",
       "      <th>25</th>\n",
       "      <td>18.695329</td>\n",
       "      <td>2.069613</td>\n",
       "      <td>0.038890</td>\n",
       "      <td>1.082056e-02</td>\n",
       "      <td>9</td>\n",
       "      <td>poly</td>\n",
       "      <td>{'model_clf__C': 9, 'model_clf__kernel': 'poly'}</td>\n",
       "      <td>0.877226</td>\n",
       "      <td>0.852858</td>\n",
       "      <td>0.870544</td>\n",
       "      <td>0.866876</td>\n",
       "      <td>0.010280</td>\n",
       "      <td>12</td>\n",
       "    </tr>\n",
       "    <tr>\n",
       "      <th>16</th>\n",
       "      <td>13.080699</td>\n",
       "      <td>1.081242</td>\n",
       "      <td>0.057289</td>\n",
       "      <td>7.370697e-03</td>\n",
       "      <td>6</td>\n",
       "      <td>poly</td>\n",
       "      <td>{'model_clf__C': 6, 'model_clf__kernel': 'poly'}</td>\n",
       "      <td>0.877226</td>\n",
       "      <td>0.855670</td>\n",
       "      <td>0.867730</td>\n",
       "      <td>0.866875</td>\n",
       "      <td>0.008821</td>\n",
       "      <td>13</td>\n",
       "    </tr>\n",
       "    <tr>\n",
       "      <th>13</th>\n",
       "      <td>13.709240</td>\n",
       "      <td>0.851870</td>\n",
       "      <td>0.063096</td>\n",
       "      <td>8.471698e-04</td>\n",
       "      <td>5</td>\n",
       "      <td>poly</td>\n",
       "      <td>{'model_clf__C': 5, 'model_clf__kernel': 'poly'}</td>\n",
       "      <td>0.878163</td>\n",
       "      <td>0.854733</td>\n",
       "      <td>0.867730</td>\n",
       "      <td>0.866875</td>\n",
       "      <td>0.009584</td>\n",
       "      <td>13</td>\n",
       "    </tr>\n",
       "    <tr>\n",
       "      <th>22</th>\n",
       "      <td>17.543151</td>\n",
       "      <td>1.877566</td>\n",
       "      <td>0.052086</td>\n",
       "      <td>7.370697e-03</td>\n",
       "      <td>8</td>\n",
       "      <td>poly</td>\n",
       "      <td>{'model_clf__C': 8, 'model_clf__kernel': 'poly'}</td>\n",
       "      <td>0.876289</td>\n",
       "      <td>0.853796</td>\n",
       "      <td>0.868668</td>\n",
       "      <td>0.866251</td>\n",
       "      <td>0.009340</td>\n",
       "      <td>15</td>\n",
       "    </tr>\n",
       "    <tr>\n",
       "      <th>19</th>\n",
       "      <td>15.210390</td>\n",
       "      <td>0.829067</td>\n",
       "      <td>0.061331</td>\n",
       "      <td>1.650696e-03</td>\n",
       "      <td>7</td>\n",
       "      <td>poly</td>\n",
       "      <td>{'model_clf__C': 7, 'model_clf__kernel': 'poly'}</td>\n",
       "      <td>0.876289</td>\n",
       "      <td>0.854733</td>\n",
       "      <td>0.867730</td>\n",
       "      <td>0.866250</td>\n",
       "      <td>0.008862</td>\n",
       "      <td>16</td>\n",
       "    </tr>\n",
       "    <tr>\n",
       "      <th>7</th>\n",
       "      <td>6.436067</td>\n",
       "      <td>0.893453</td>\n",
       "      <td>0.058772</td>\n",
       "      <td>8.436450e-03</td>\n",
       "      <td>3</td>\n",
       "      <td>poly</td>\n",
       "      <td>{'model_clf__C': 3, 'model_clf__kernel': 'poly'}</td>\n",
       "      <td>0.878163</td>\n",
       "      <td>0.854733</td>\n",
       "      <td>0.865854</td>\n",
       "      <td>0.866250</td>\n",
       "      <td>0.009569</td>\n",
       "      <td>17</td>\n",
       "    </tr>\n",
       "    <tr>\n",
       "      <th>1</th>\n",
       "      <td>2.300603</td>\n",
       "      <td>0.218587</td>\n",
       "      <td>0.066091</td>\n",
       "      <td>2.733602e-03</td>\n",
       "      <td>1</td>\n",
       "      <td>poly</td>\n",
       "      <td>{'model_clf__C': 1, 'model_clf__kernel': 'poly'}</td>\n",
       "      <td>0.882849</td>\n",
       "      <td>0.849110</td>\n",
       "      <td>0.863039</td>\n",
       "      <td>0.864999</td>\n",
       "      <td>0.013844</td>\n",
       "      <td>18</td>\n",
       "    </tr>\n",
       "    <tr>\n",
       "      <th>0</th>\n",
       "      <td>0.316092</td>\n",
       "      <td>0.017171</td>\n",
       "      <td>0.104168</td>\n",
       "      <td>7.365077e-03</td>\n",
       "      <td>1</td>\n",
       "      <td>linear</td>\n",
       "      <td>{'model_clf__C': 1, 'model_clf__kernel': 'line...</td>\n",
       "      <td>0.769447</td>\n",
       "      <td>0.737582</td>\n",
       "      <td>0.743902</td>\n",
       "      <td>0.750310</td>\n",
       "      <td>0.013775</td>\n",
       "      <td>19</td>\n",
       "    </tr>\n",
       "    <tr>\n",
       "      <th>3</th>\n",
       "      <td>0.335229</td>\n",
       "      <td>0.018480</td>\n",
       "      <td>0.113788</td>\n",
       "      <td>1.540303e-02</td>\n",
       "      <td>2</td>\n",
       "      <td>linear</td>\n",
       "      <td>{'model_clf__C': 2, 'model_clf__kernel': 'line...</td>\n",
       "      <td>0.769447</td>\n",
       "      <td>0.737582</td>\n",
       "      <td>0.742964</td>\n",
       "      <td>0.749998</td>\n",
       "      <td>0.013927</td>\n",
       "      <td>20</td>\n",
       "    </tr>\n",
       "    <tr>\n",
       "      <th>6</th>\n",
       "      <td>0.304910</td>\n",
       "      <td>0.006047</td>\n",
       "      <td>0.093748</td>\n",
       "      <td>4.052337e-07</td>\n",
       "      <td>3</td>\n",
       "      <td>linear</td>\n",
       "      <td>{'model_clf__C': 3, 'model_clf__kernel': 'line...</td>\n",
       "      <td>0.769447</td>\n",
       "      <td>0.732896</td>\n",
       "      <td>0.744841</td>\n",
       "      <td>0.749061</td>\n",
       "      <td>0.015217</td>\n",
       "      <td>21</td>\n",
       "    </tr>\n",
       "    <tr>\n",
       "      <th>9</th>\n",
       "      <td>0.316113</td>\n",
       "      <td>0.038785</td>\n",
       "      <td>0.094134</td>\n",
       "      <td>1.229243e-02</td>\n",
       "      <td>4</td>\n",
       "      <td>linear</td>\n",
       "      <td>{'model_clf__C': 4, 'model_clf__kernel': 'line...</td>\n",
       "      <td>0.766635</td>\n",
       "      <td>0.731959</td>\n",
       "      <td>0.743902</td>\n",
       "      <td>0.747499</td>\n",
       "      <td>0.014383</td>\n",
       "      <td>22</td>\n",
       "    </tr>\n",
       "    <tr>\n",
       "      <th>15</th>\n",
       "      <td>0.318394</td>\n",
       "      <td>0.021405</td>\n",
       "      <td>0.097794</td>\n",
       "      <td>6.632944e-03</td>\n",
       "      <td>6</td>\n",
       "      <td>linear</td>\n",
       "      <td>{'model_clf__C': 6, 'model_clf__kernel': 'line...</td>\n",
       "      <td>0.768510</td>\n",
       "      <td>0.732896</td>\n",
       "      <td>0.741088</td>\n",
       "      <td>0.747498</td>\n",
       "      <td>0.015229</td>\n",
       "      <td>23</td>\n",
       "    </tr>\n",
       "    <tr>\n",
       "      <th>12</th>\n",
       "      <td>0.318665</td>\n",
       "      <td>0.015970</td>\n",
       "      <td>0.098996</td>\n",
       "      <td>5.713687e-03</td>\n",
       "      <td>5</td>\n",
       "      <td>linear</td>\n",
       "      <td>{'model_clf__C': 5, 'model_clf__kernel': 'line...</td>\n",
       "      <td>0.767573</td>\n",
       "      <td>0.732896</td>\n",
       "      <td>0.740150</td>\n",
       "      <td>0.746873</td>\n",
       "      <td>0.014934</td>\n",
       "      <td>24</td>\n",
       "    </tr>\n",
       "    <tr>\n",
       "      <th>24</th>\n",
       "      <td>0.339604</td>\n",
       "      <td>0.016922</td>\n",
       "      <td>0.103495</td>\n",
       "      <td>6.940967e-03</td>\n",
       "      <td>9</td>\n",
       "      <td>linear</td>\n",
       "      <td>{'model_clf__C': 9, 'model_clf__kernel': 'line...</td>\n",
       "      <td>0.762887</td>\n",
       "      <td>0.731959</td>\n",
       "      <td>0.741088</td>\n",
       "      <td>0.745311</td>\n",
       "      <td>0.012975</td>\n",
       "      <td>25</td>\n",
       "    </tr>\n",
       "    <tr>\n",
       "      <th>21</th>\n",
       "      <td>0.307291</td>\n",
       "      <td>0.007365</td>\n",
       "      <td>0.093749</td>\n",
       "      <td>2.685665e-06</td>\n",
       "      <td>8</td>\n",
       "      <td>linear</td>\n",
       "      <td>{'model_clf__C': 8, 'model_clf__kernel': 'line...</td>\n",
       "      <td>0.762887</td>\n",
       "      <td>0.732896</td>\n",
       "      <td>0.740150</td>\n",
       "      <td>0.745311</td>\n",
       "      <td>0.012776</td>\n",
       "      <td>26</td>\n",
       "    </tr>\n",
       "    <tr>\n",
       "      <th>18</th>\n",
       "      <td>0.339537</td>\n",
       "      <td>0.019528</td>\n",
       "      <td>0.090658</td>\n",
       "      <td>1.187479e-02</td>\n",
       "      <td>7</td>\n",
       "      <td>linear</td>\n",
       "      <td>{'model_clf__C': 7, 'model_clf__kernel': 'line...</td>\n",
       "      <td>0.763824</td>\n",
       "      <td>0.732896</td>\n",
       "      <td>0.739212</td>\n",
       "      <td>0.745311</td>\n",
       "      <td>0.013342</td>\n",
       "      <td>27</td>\n",
       "    </tr>\n",
       "  </tbody>\n",
       "</table>\n",
       "</div>"
      ],
      "text/plain": [
       "    mean_fit_time  std_fit_time  mean_score_time  std_score_time  \\\n",
       "23       0.234377      0.000004         0.218748    7.018853e-07   \n",
       "26       0.236369      0.001691         0.222317    8.837371e-03   \n",
       "20       0.229169      0.007365         0.229167    7.367382e-03   \n",
       "17       0.229661      0.010154         0.238425    6.384764e-03   \n",
       "14       0.243372      0.017558         0.252829    2.534496e-02   \n",
       "8        0.235076      0.000991         0.239585    7.363898e-03   \n",
       "11       0.254994      0.025396         0.252999    1.511964e-02   \n",
       "5        0.245305      0.007936         0.262326    7.363752e-03   \n",
       "2        0.246346      0.008674         0.305861    2.494638e-02   \n",
       "4        3.850660      0.114680         0.057292    7.365190e-03   \n",
       "10       9.119800      1.123625         0.070534    3.044830e-03   \n",
       "25      18.695329      2.069613         0.038890    1.082056e-02   \n",
       "16      13.080699      1.081242         0.057289    7.370697e-03   \n",
       "13      13.709240      0.851870         0.063096    8.471698e-04   \n",
       "22      17.543151      1.877566         0.052086    7.370697e-03   \n",
       "19      15.210390      0.829067         0.061331    1.650696e-03   \n",
       "7        6.436067      0.893453         0.058772    8.436450e-03   \n",
       "1        2.300603      0.218587         0.066091    2.733602e-03   \n",
       "0        0.316092      0.017171         0.104168    7.365077e-03   \n",
       "3        0.335229      0.018480         0.113788    1.540303e-02   \n",
       "6        0.304910      0.006047         0.093748    4.052337e-07   \n",
       "9        0.316113      0.038785         0.094134    1.229243e-02   \n",
       "15       0.318394      0.021405         0.097794    6.632944e-03   \n",
       "12       0.318665      0.015970         0.098996    5.713687e-03   \n",
       "24       0.339604      0.016922         0.103495    6.940967e-03   \n",
       "21       0.307291      0.007365         0.093749    2.685665e-06   \n",
       "18       0.339537      0.019528         0.090658    1.187479e-02   \n",
       "\n",
       "   param_model_clf__C param_model_clf__kernel  \\\n",
       "23                  8                     rbf   \n",
       "26                  9                     rbf   \n",
       "20                  7                     rbf   \n",
       "17                  6                     rbf   \n",
       "14                  5                     rbf   \n",
       "8                   3                     rbf   \n",
       "11                  4                     rbf   \n",
       "5                   2                     rbf   \n",
       "2                   1                     rbf   \n",
       "4                   2                    poly   \n",
       "10                  4                    poly   \n",
       "25                  9                    poly   \n",
       "16                  6                    poly   \n",
       "13                  5                    poly   \n",
       "22                  8                    poly   \n",
       "19                  7                    poly   \n",
       "7                   3                    poly   \n",
       "1                   1                    poly   \n",
       "0                   1                  linear   \n",
       "3                   2                  linear   \n",
       "6                   3                  linear   \n",
       "9                   4                  linear   \n",
       "15                  6                  linear   \n",
       "12                  5                  linear   \n",
       "24                  9                  linear   \n",
       "21                  8                  linear   \n",
       "18                  7                  linear   \n",
       "\n",
       "                                               params  split0_test_score  \\\n",
       "23    {'model_clf__C': 8, 'model_clf__kernel': 'rbf'}           0.910965   \n",
       "26    {'model_clf__C': 9, 'model_clf__kernel': 'rbf'}           0.910965   \n",
       "20    {'model_clf__C': 7, 'model_clf__kernel': 'rbf'}           0.909091   \n",
       "17    {'model_clf__C': 6, 'model_clf__kernel': 'rbf'}           0.909091   \n",
       "14    {'model_clf__C': 5, 'model_clf__kernel': 'rbf'}           0.907216   \n",
       "8     {'model_clf__C': 3, 'model_clf__kernel': 'rbf'}           0.904405   \n",
       "11    {'model_clf__C': 4, 'model_clf__kernel': 'rbf'}           0.901593   \n",
       "5     {'model_clf__C': 2, 'model_clf__kernel': 'rbf'}           0.903468   \n",
       "2     {'model_clf__C': 1, 'model_clf__kernel': 'rbf'}           0.908154   \n",
       "4    {'model_clf__C': 2, 'model_clf__kernel': 'poly'}           0.877226   \n",
       "10   {'model_clf__C': 4, 'model_clf__kernel': 'poly'}           0.880037   \n",
       "25   {'model_clf__C': 9, 'model_clf__kernel': 'poly'}           0.877226   \n",
       "16   {'model_clf__C': 6, 'model_clf__kernel': 'poly'}           0.877226   \n",
       "13   {'model_clf__C': 5, 'model_clf__kernel': 'poly'}           0.878163   \n",
       "22   {'model_clf__C': 8, 'model_clf__kernel': 'poly'}           0.876289   \n",
       "19   {'model_clf__C': 7, 'model_clf__kernel': 'poly'}           0.876289   \n",
       "7    {'model_clf__C': 3, 'model_clf__kernel': 'poly'}           0.878163   \n",
       "1    {'model_clf__C': 1, 'model_clf__kernel': 'poly'}           0.882849   \n",
       "0   {'model_clf__C': 1, 'model_clf__kernel': 'line...           0.769447   \n",
       "3   {'model_clf__C': 2, 'model_clf__kernel': 'line...           0.769447   \n",
       "6   {'model_clf__C': 3, 'model_clf__kernel': 'line...           0.769447   \n",
       "9   {'model_clf__C': 4, 'model_clf__kernel': 'line...           0.766635   \n",
       "15  {'model_clf__C': 6, 'model_clf__kernel': 'line...           0.768510   \n",
       "12  {'model_clf__C': 5, 'model_clf__kernel': 'line...           0.767573   \n",
       "24  {'model_clf__C': 9, 'model_clf__kernel': 'line...           0.762887   \n",
       "21  {'model_clf__C': 8, 'model_clf__kernel': 'line...           0.762887   \n",
       "18  {'model_clf__C': 7, 'model_clf__kernel': 'line...           0.763824   \n",
       "\n",
       "    split1_test_score  split2_test_score  mean_test_score  std_test_score  \\\n",
       "23           0.896907           0.904315         0.904063        0.005742   \n",
       "26           0.896907           0.903377         0.903750        0.005745   \n",
       "20           0.895970           0.902439         0.902500        0.005357   \n",
       "17           0.895033           0.902439         0.902188        0.005742   \n",
       "14           0.895970           0.902439         0.901875        0.004609   \n",
       "8            0.893158           0.900563         0.899375        0.004668   \n",
       "11           0.892221           0.899625         0.897813        0.004035   \n",
       "5            0.894096           0.895872         0.897812        0.004064   \n",
       "2            0.887535           0.882739         0.892809        0.011025   \n",
       "4            0.858482           0.868668         0.868125        0.007662   \n",
       "10           0.857545           0.866792         0.868125        0.009231   \n",
       "25           0.852858           0.870544         0.866876        0.010280   \n",
       "16           0.855670           0.867730         0.866875        0.008821   \n",
       "13           0.854733           0.867730         0.866875        0.009584   \n",
       "22           0.853796           0.868668         0.866251        0.009340   \n",
       "19           0.854733           0.867730         0.866250        0.008862   \n",
       "7            0.854733           0.865854         0.866250        0.009569   \n",
       "1            0.849110           0.863039         0.864999        0.013844   \n",
       "0            0.737582           0.743902         0.750310        0.013775   \n",
       "3            0.737582           0.742964         0.749998        0.013927   \n",
       "6            0.732896           0.744841         0.749061        0.015217   \n",
       "9            0.731959           0.743902         0.747499        0.014383   \n",
       "15           0.732896           0.741088         0.747498        0.015229   \n",
       "12           0.732896           0.740150         0.746873        0.014934   \n",
       "24           0.731959           0.741088         0.745311        0.012975   \n",
       "21           0.732896           0.740150         0.745311        0.012776   \n",
       "18           0.732896           0.739212         0.745311        0.013342   \n",
       "\n",
       "    rank_test_score  \n",
       "23                1  \n",
       "26                2  \n",
       "20                3  \n",
       "17                4  \n",
       "14                5  \n",
       "8                 6  \n",
       "11                7  \n",
       "5                 8  \n",
       "2                 9  \n",
       "4                10  \n",
       "10               11  \n",
       "25               12  \n",
       "16               13  \n",
       "13               13  \n",
       "22               15  \n",
       "19               16  \n",
       "7                17  \n",
       "1                18  \n",
       "0                19  \n",
       "3                20  \n",
       "6                21  \n",
       "9                22  \n",
       "15               23  \n",
       "12               24  \n",
       "24               25  \n",
       "21               26  \n",
       "18               27  "
      ]
     },
     "execution_count": 59,
     "metadata": {},
     "output_type": "execute_result"
    }
   ],
   "source": [
    "pd.DataFrame(model_grid.cv_results_).sort_values('rank_test_score')"
   ]
  }
 ],
 "metadata": {
  "kernelspec": {
   "display_name": "Python 3 (ipykernel)",
   "language": "python",
   "name": "python3"
  },
  "language_info": {
   "codemirror_mode": {
    "name": "ipython",
    "version": 3
   },
   "file_extension": ".py",
   "mimetype": "text/x-python",
   "name": "python",
   "nbconvert_exporter": "python",
   "pygments_lexer": "ipython3",
   "version": "3.11.4"
  }
 },
 "nbformat": 4,
 "nbformat_minor": 2
}
