{
 "cells": [
  {
   "cell_type": "code",
   "execution_count": 1,
   "metadata": {},
   "outputs": [],
   "source": [
    "import pandas as pd\n",
    "import numpy as np\n",
    "import matplotlib.pyplot as plt\n",
    "import seaborn as sns"
   ]
  },
  {
   "cell_type": "code",
   "execution_count": 2,
   "metadata": {},
   "outputs": [],
   "source": [
    "apple_df = pd.read_csv('dataset/apple_quality.csv')"
   ]
  },
  {
   "cell_type": "markdown",
   "metadata": {},
   "source": [
    "# Check Data"
   ]
  },
  {
   "cell_type": "code",
   "execution_count": 3,
   "metadata": {},
   "outputs": [
    {
     "data": {
      "text/html": [
       "<style type=\"text/css\">\n",
       "</style>\n",
       "<table id=\"T_bb047\">\n",
       "  <thead>\n",
       "    <tr>\n",
       "      <th class=\"blank level0\" >&nbsp;</th>\n",
       "      <th id=\"T_bb047_level0_col0\" class=\"col_heading level0 col0\" >A_id</th>\n",
       "      <th id=\"T_bb047_level0_col1\" class=\"col_heading level0 col1\" >Size</th>\n",
       "      <th id=\"T_bb047_level0_col2\" class=\"col_heading level0 col2\" >Weight</th>\n",
       "      <th id=\"T_bb047_level0_col3\" class=\"col_heading level0 col3\" >Sweetness</th>\n",
       "      <th id=\"T_bb047_level0_col4\" class=\"col_heading level0 col4\" >Crunchiness</th>\n",
       "      <th id=\"T_bb047_level0_col5\" class=\"col_heading level0 col5\" >Juiciness</th>\n",
       "      <th id=\"T_bb047_level0_col6\" class=\"col_heading level0 col6\" >Ripeness</th>\n",
       "      <th id=\"T_bb047_level0_col7\" class=\"col_heading level0 col7\" >Acidity</th>\n",
       "      <th id=\"T_bb047_level0_col8\" class=\"col_heading level0 col8\" >Quality</th>\n",
       "    </tr>\n",
       "  </thead>\n",
       "  <tbody>\n",
       "    <tr>\n",
       "      <th id=\"T_bb047_level0_row0\" class=\"row_heading level0 row0\" >0</th>\n",
       "      <td id=\"T_bb047_row0_col0\" class=\"data row0 col0\" >0.000000</td>\n",
       "      <td id=\"T_bb047_row0_col1\" class=\"data row0 col1\" >-3.970049</td>\n",
       "      <td id=\"T_bb047_row0_col2\" class=\"data row0 col2\" >-2.512336</td>\n",
       "      <td id=\"T_bb047_row0_col3\" class=\"data row0 col3\" >5.346330</td>\n",
       "      <td id=\"T_bb047_row0_col4\" class=\"data row0 col4\" >-1.012009</td>\n",
       "      <td id=\"T_bb047_row0_col5\" class=\"data row0 col5\" >1.844900</td>\n",
       "      <td id=\"T_bb047_row0_col6\" class=\"data row0 col6\" >0.329840</td>\n",
       "      <td id=\"T_bb047_row0_col7\" class=\"data row0 col7\" >-0.491590483</td>\n",
       "      <td id=\"T_bb047_row0_col8\" class=\"data row0 col8\" >good</td>\n",
       "    </tr>\n",
       "    <tr>\n",
       "      <th id=\"T_bb047_level0_row1\" class=\"row_heading level0 row1\" >1</th>\n",
       "      <td id=\"T_bb047_row1_col0\" class=\"data row1 col0\" >1.000000</td>\n",
       "      <td id=\"T_bb047_row1_col1\" class=\"data row1 col1\" >-1.195217</td>\n",
       "      <td id=\"T_bb047_row1_col2\" class=\"data row1 col2\" >-2.839257</td>\n",
       "      <td id=\"T_bb047_row1_col3\" class=\"data row1 col3\" >3.664059</td>\n",
       "      <td id=\"T_bb047_row1_col4\" class=\"data row1 col4\" >1.588232</td>\n",
       "      <td id=\"T_bb047_row1_col5\" class=\"data row1 col5\" >0.853286</td>\n",
       "      <td id=\"T_bb047_row1_col6\" class=\"data row1 col6\" >0.867530</td>\n",
       "      <td id=\"T_bb047_row1_col7\" class=\"data row1 col7\" >-0.722809367</td>\n",
       "      <td id=\"T_bb047_row1_col8\" class=\"data row1 col8\" >good</td>\n",
       "    </tr>\n",
       "    <tr>\n",
       "      <th id=\"T_bb047_level0_row2\" class=\"row_heading level0 row2\" >2</th>\n",
       "      <td id=\"T_bb047_row2_col0\" class=\"data row2 col0\" >2.000000</td>\n",
       "      <td id=\"T_bb047_row2_col1\" class=\"data row2 col1\" >-0.292024</td>\n",
       "      <td id=\"T_bb047_row2_col2\" class=\"data row2 col2\" >-1.351282</td>\n",
       "      <td id=\"T_bb047_row2_col3\" class=\"data row2 col3\" >-1.738429</td>\n",
       "      <td id=\"T_bb047_row2_col4\" class=\"data row2 col4\" >-0.342616</td>\n",
       "      <td id=\"T_bb047_row2_col5\" class=\"data row2 col5\" >2.838636</td>\n",
       "      <td id=\"T_bb047_row2_col6\" class=\"data row2 col6\" >-0.038033</td>\n",
       "      <td id=\"T_bb047_row2_col7\" class=\"data row2 col7\" >2.621636473</td>\n",
       "      <td id=\"T_bb047_row2_col8\" class=\"data row2 col8\" >bad</td>\n",
       "    </tr>\n",
       "    <tr>\n",
       "      <th id=\"T_bb047_level0_row3\" class=\"row_heading level0 row3\" >3</th>\n",
       "      <td id=\"T_bb047_row3_col0\" class=\"data row3 col0\" >3.000000</td>\n",
       "      <td id=\"T_bb047_row3_col1\" class=\"data row3 col1\" >-0.657196</td>\n",
       "      <td id=\"T_bb047_row3_col2\" class=\"data row3 col2\" >-2.271627</td>\n",
       "      <td id=\"T_bb047_row3_col3\" class=\"data row3 col3\" >1.324874</td>\n",
       "      <td id=\"T_bb047_row3_col4\" class=\"data row3 col4\" >-0.097875</td>\n",
       "      <td id=\"T_bb047_row3_col5\" class=\"data row3 col5\" >3.637970</td>\n",
       "      <td id=\"T_bb047_row3_col6\" class=\"data row3 col6\" >-3.413761</td>\n",
       "      <td id=\"T_bb047_row3_col7\" class=\"data row3 col7\" >0.790723217</td>\n",
       "      <td id=\"T_bb047_row3_col8\" class=\"data row3 col8\" >good</td>\n",
       "    </tr>\n",
       "    <tr>\n",
       "      <th id=\"T_bb047_level0_row4\" class=\"row_heading level0 row4\" >4</th>\n",
       "      <td id=\"T_bb047_row4_col0\" class=\"data row4 col0\" >4.000000</td>\n",
       "      <td id=\"T_bb047_row4_col1\" class=\"data row4 col1\" >1.364217</td>\n",
       "      <td id=\"T_bb047_row4_col2\" class=\"data row4 col2\" >-1.296612</td>\n",
       "      <td id=\"T_bb047_row4_col3\" class=\"data row4 col3\" >-0.384658</td>\n",
       "      <td id=\"T_bb047_row4_col4\" class=\"data row4 col4\" >-0.553006</td>\n",
       "      <td id=\"T_bb047_row4_col5\" class=\"data row4 col5\" >3.030874</td>\n",
       "      <td id=\"T_bb047_row4_col6\" class=\"data row4 col6\" >-1.303849</td>\n",
       "      <td id=\"T_bb047_row4_col7\" class=\"data row4 col7\" >0.501984036</td>\n",
       "      <td id=\"T_bb047_row4_col8\" class=\"data row4 col8\" >good</td>\n",
       "    </tr>\n",
       "  </tbody>\n",
       "</table>\n"
      ],
      "text/plain": [
       "<pandas.io.formats.style.Styler at 0x2bc77ae4a90>"
      ]
     },
     "execution_count": 3,
     "metadata": {},
     "output_type": "execute_result"
    }
   ],
   "source": [
    "apple_df.head().style.highlight_null(color='yellow')"
   ]
  },
  {
   "cell_type": "code",
   "execution_count": 4,
   "metadata": {},
   "outputs": [
    {
     "data": {
      "text/plain": [
       "(4001, 9)"
      ]
     },
     "execution_count": 4,
     "metadata": {},
     "output_type": "execute_result"
    }
   ],
   "source": [
    "apple_df.shape"
   ]
  },
  {
   "cell_type": "code",
   "execution_count": 5,
   "metadata": {},
   "outputs": [
    {
     "data": {
      "text/html": [
       "<div>\n",
       "<style scoped>\n",
       "    .dataframe tbody tr th:only-of-type {\n",
       "        vertical-align: middle;\n",
       "    }\n",
       "\n",
       "    .dataframe tbody tr th {\n",
       "        vertical-align: top;\n",
       "    }\n",
       "\n",
       "    .dataframe thead th {\n",
       "        text-align: right;\n",
       "    }\n",
       "</style>\n",
       "<table border=\"1\" class=\"dataframe\">\n",
       "  <thead>\n",
       "    <tr style=\"text-align: right;\">\n",
       "      <th></th>\n",
       "      <th>A_id</th>\n",
       "      <th>Size</th>\n",
       "      <th>Weight</th>\n",
       "      <th>Sweetness</th>\n",
       "      <th>Crunchiness</th>\n",
       "      <th>Juiciness</th>\n",
       "      <th>Ripeness</th>\n",
       "    </tr>\n",
       "  </thead>\n",
       "  <tbody>\n",
       "    <tr>\n",
       "      <th>count</th>\n",
       "      <td>4000.000000</td>\n",
       "      <td>4000.000000</td>\n",
       "      <td>4000.000000</td>\n",
       "      <td>4000.000000</td>\n",
       "      <td>4000.000000</td>\n",
       "      <td>4000.000000</td>\n",
       "      <td>4000.000000</td>\n",
       "    </tr>\n",
       "    <tr>\n",
       "      <th>mean</th>\n",
       "      <td>1999.500000</td>\n",
       "      <td>-0.503015</td>\n",
       "      <td>-0.989547</td>\n",
       "      <td>-0.470479</td>\n",
       "      <td>0.985478</td>\n",
       "      <td>0.512118</td>\n",
       "      <td>0.498277</td>\n",
       "    </tr>\n",
       "    <tr>\n",
       "      <th>std</th>\n",
       "      <td>1154.844867</td>\n",
       "      <td>1.928059</td>\n",
       "      <td>1.602507</td>\n",
       "      <td>1.943441</td>\n",
       "      <td>1.402757</td>\n",
       "      <td>1.930286</td>\n",
       "      <td>1.874427</td>\n",
       "    </tr>\n",
       "    <tr>\n",
       "      <th>min</th>\n",
       "      <td>0.000000</td>\n",
       "      <td>-7.151703</td>\n",
       "      <td>-7.149848</td>\n",
       "      <td>-6.894485</td>\n",
       "      <td>-6.055058</td>\n",
       "      <td>-5.961897</td>\n",
       "      <td>-5.864599</td>\n",
       "    </tr>\n",
       "    <tr>\n",
       "      <th>25%</th>\n",
       "      <td>999.750000</td>\n",
       "      <td>-1.816765</td>\n",
       "      <td>-2.011770</td>\n",
       "      <td>-1.738425</td>\n",
       "      <td>0.062764</td>\n",
       "      <td>-0.801286</td>\n",
       "      <td>-0.771677</td>\n",
       "    </tr>\n",
       "    <tr>\n",
       "      <th>50%</th>\n",
       "      <td>1999.500000</td>\n",
       "      <td>-0.513703</td>\n",
       "      <td>-0.984736</td>\n",
       "      <td>-0.504758</td>\n",
       "      <td>0.998249</td>\n",
       "      <td>0.534219</td>\n",
       "      <td>0.503445</td>\n",
       "    </tr>\n",
       "    <tr>\n",
       "      <th>75%</th>\n",
       "      <td>2999.250000</td>\n",
       "      <td>0.805526</td>\n",
       "      <td>0.030976</td>\n",
       "      <td>0.801922</td>\n",
       "      <td>1.894234</td>\n",
       "      <td>1.835976</td>\n",
       "      <td>1.766212</td>\n",
       "    </tr>\n",
       "    <tr>\n",
       "      <th>max</th>\n",
       "      <td>3999.000000</td>\n",
       "      <td>6.406367</td>\n",
       "      <td>5.790714</td>\n",
       "      <td>6.374916</td>\n",
       "      <td>7.619852</td>\n",
       "      <td>7.364403</td>\n",
       "      <td>7.237837</td>\n",
       "    </tr>\n",
       "  </tbody>\n",
       "</table>\n",
       "</div>"
      ],
      "text/plain": [
       "              A_id         Size       Weight    Sweetness  Crunchiness  \\\n",
       "count  4000.000000  4000.000000  4000.000000  4000.000000  4000.000000   \n",
       "mean   1999.500000    -0.503015    -0.989547    -0.470479     0.985478   \n",
       "std    1154.844867     1.928059     1.602507     1.943441     1.402757   \n",
       "min       0.000000    -7.151703    -7.149848    -6.894485    -6.055058   \n",
       "25%     999.750000    -1.816765    -2.011770    -1.738425     0.062764   \n",
       "50%    1999.500000    -0.513703    -0.984736    -0.504758     0.998249   \n",
       "75%    2999.250000     0.805526     0.030976     0.801922     1.894234   \n",
       "max    3999.000000     6.406367     5.790714     6.374916     7.619852   \n",
       "\n",
       "         Juiciness     Ripeness  \n",
       "count  4000.000000  4000.000000  \n",
       "mean      0.512118     0.498277  \n",
       "std       1.930286     1.874427  \n",
       "min      -5.961897    -5.864599  \n",
       "25%      -0.801286    -0.771677  \n",
       "50%       0.534219     0.503445  \n",
       "75%       1.835976     1.766212  \n",
       "max       7.364403     7.237837  "
      ]
     },
     "execution_count": 5,
     "metadata": {},
     "output_type": "execute_result"
    }
   ],
   "source": [
    "apple_df.describe()"
   ]
  },
  {
   "cell_type": "code",
   "execution_count": 6,
   "metadata": {},
   "outputs": [
    {
     "name": "stdout",
     "output_type": "stream",
     "text": [
      "<class 'pandas.core.frame.DataFrame'>\n",
      "RangeIndex: 4001 entries, 0 to 4000\n",
      "Data columns (total 9 columns):\n",
      " #   Column       Non-Null Count  Dtype  \n",
      "---  ------       --------------  -----  \n",
      " 0   A_id         4000 non-null   float64\n",
      " 1   Size         4000 non-null   float64\n",
      " 2   Weight       4000 non-null   float64\n",
      " 3   Sweetness    4000 non-null   float64\n",
      " 4   Crunchiness  4000 non-null   float64\n",
      " 5   Juiciness    4000 non-null   float64\n",
      " 6   Ripeness     4000 non-null   float64\n",
      " 7   Acidity      4001 non-null   object \n",
      " 8   Quality      4000 non-null   object \n",
      "dtypes: float64(7), object(2)\n",
      "memory usage: 281.4+ KB\n"
     ]
    }
   ],
   "source": [
    "apple_df.info()"
   ]
  },
  {
   "cell_type": "code",
   "execution_count": 7,
   "metadata": {},
   "outputs": [
    {
     "data": {
      "text/plain": [
       "True     8\n",
       "False    1\n",
       "Name: count, dtype: int64"
      ]
     },
     "execution_count": 7,
     "metadata": {},
     "output_type": "execute_result"
    }
   ],
   "source": [
    "apple_df.isnull().any().value_counts()"
   ]
  },
  {
   "cell_type": "code",
   "execution_count": 8,
   "metadata": {},
   "outputs": [
    {
     "name": "stdout",
     "output_type": "stream",
     "text": [
      "8\n",
      "<class 'numpy.int64'>\n"
     ]
    }
   ],
   "source": [
    "print(apple_df.isnull().sum().sum())\n",
    "print(type(apple_df.isnull().sum().sum()))"
   ]
  },
  {
   "cell_type": "code",
   "execution_count": 9,
   "metadata": {},
   "outputs": [
    {
     "data": {
      "text/plain": [
       "A_id           1\n",
       "Size           1\n",
       "Weight         1\n",
       "Sweetness      1\n",
       "Crunchiness    1\n",
       "Juiciness      1\n",
       "Ripeness       1\n",
       "Acidity        0\n",
       "Quality        1\n",
       "dtype: int64"
      ]
     },
     "execution_count": 9,
     "metadata": {},
     "output_type": "execute_result"
    }
   ],
   "source": [
    "jumlah_null = apple_df.isnull().sum()\n",
    "jumlah_null"
   ]
  },
  {
   "cell_type": "code",
   "execution_count": 10,
   "metadata": {},
   "outputs": [
    {
     "data": {
      "text/html": [
       "<div>\n",
       "<style scoped>\n",
       "    .dataframe tbody tr th:only-of-type {\n",
       "        vertical-align: middle;\n",
       "    }\n",
       "\n",
       "    .dataframe tbody tr th {\n",
       "        vertical-align: top;\n",
       "    }\n",
       "\n",
       "    .dataframe thead th {\n",
       "        text-align: right;\n",
       "    }\n",
       "</style>\n",
       "<table border=\"1\" class=\"dataframe\">\n",
       "  <thead>\n",
       "    <tr style=\"text-align: right;\">\n",
       "      <th></th>\n",
       "      <th>A_id</th>\n",
       "      <th>Size</th>\n",
       "      <th>Weight</th>\n",
       "      <th>Sweetness</th>\n",
       "      <th>Crunchiness</th>\n",
       "      <th>Juiciness</th>\n",
       "      <th>Ripeness</th>\n",
       "      <th>Acidity</th>\n",
       "      <th>Quality</th>\n",
       "    </tr>\n",
       "  </thead>\n",
       "  <tbody>\n",
       "    <tr>\n",
       "      <th>4000</th>\n",
       "      <td>NaN</td>\n",
       "      <td>NaN</td>\n",
       "      <td>NaN</td>\n",
       "      <td>NaN</td>\n",
       "      <td>NaN</td>\n",
       "      <td>NaN</td>\n",
       "      <td>NaN</td>\n",
       "      <td>Created_by_Nidula_Elgiriyewithana</td>\n",
       "      <td>NaN</td>\n",
       "    </tr>\n",
       "    <tr>\n",
       "      <th>4000</th>\n",
       "      <td>NaN</td>\n",
       "      <td>NaN</td>\n",
       "      <td>NaN</td>\n",
       "      <td>NaN</td>\n",
       "      <td>NaN</td>\n",
       "      <td>NaN</td>\n",
       "      <td>NaN</td>\n",
       "      <td>Created_by_Nidula_Elgiriyewithana</td>\n",
       "      <td>NaN</td>\n",
       "    </tr>\n",
       "    <tr>\n",
       "      <th>4000</th>\n",
       "      <td>NaN</td>\n",
       "      <td>NaN</td>\n",
       "      <td>NaN</td>\n",
       "      <td>NaN</td>\n",
       "      <td>NaN</td>\n",
       "      <td>NaN</td>\n",
       "      <td>NaN</td>\n",
       "      <td>Created_by_Nidula_Elgiriyewithana</td>\n",
       "      <td>NaN</td>\n",
       "    </tr>\n",
       "    <tr>\n",
       "      <th>4000</th>\n",
       "      <td>NaN</td>\n",
       "      <td>NaN</td>\n",
       "      <td>NaN</td>\n",
       "      <td>NaN</td>\n",
       "      <td>NaN</td>\n",
       "      <td>NaN</td>\n",
       "      <td>NaN</td>\n",
       "      <td>Created_by_Nidula_Elgiriyewithana</td>\n",
       "      <td>NaN</td>\n",
       "    </tr>\n",
       "    <tr>\n",
       "      <th>4000</th>\n",
       "      <td>NaN</td>\n",
       "      <td>NaN</td>\n",
       "      <td>NaN</td>\n",
       "      <td>NaN</td>\n",
       "      <td>NaN</td>\n",
       "      <td>NaN</td>\n",
       "      <td>NaN</td>\n",
       "      <td>Created_by_Nidula_Elgiriyewithana</td>\n",
       "      <td>NaN</td>\n",
       "    </tr>\n",
       "    <tr>\n",
       "      <th>4000</th>\n",
       "      <td>NaN</td>\n",
       "      <td>NaN</td>\n",
       "      <td>NaN</td>\n",
       "      <td>NaN</td>\n",
       "      <td>NaN</td>\n",
       "      <td>NaN</td>\n",
       "      <td>NaN</td>\n",
       "      <td>Created_by_Nidula_Elgiriyewithana</td>\n",
       "      <td>NaN</td>\n",
       "    </tr>\n",
       "    <tr>\n",
       "      <th>4000</th>\n",
       "      <td>NaN</td>\n",
       "      <td>NaN</td>\n",
       "      <td>NaN</td>\n",
       "      <td>NaN</td>\n",
       "      <td>NaN</td>\n",
       "      <td>NaN</td>\n",
       "      <td>NaN</td>\n",
       "      <td>Created_by_Nidula_Elgiriyewithana</td>\n",
       "      <td>NaN</td>\n",
       "    </tr>\n",
       "    <tr>\n",
       "      <th>4000</th>\n",
       "      <td>NaN</td>\n",
       "      <td>NaN</td>\n",
       "      <td>NaN</td>\n",
       "      <td>NaN</td>\n",
       "      <td>NaN</td>\n",
       "      <td>NaN</td>\n",
       "      <td>NaN</td>\n",
       "      <td>Created_by_Nidula_Elgiriyewithana</td>\n",
       "      <td>NaN</td>\n",
       "    </tr>\n",
       "  </tbody>\n",
       "</table>\n",
       "</div>"
      ],
      "text/plain": [
       "      A_id  Size  Weight  Sweetness  Crunchiness  Juiciness  Ripeness  \\\n",
       "4000   NaN   NaN     NaN        NaN          NaN        NaN       NaN   \n",
       "4000   NaN   NaN     NaN        NaN          NaN        NaN       NaN   \n",
       "4000   NaN   NaN     NaN        NaN          NaN        NaN       NaN   \n",
       "4000   NaN   NaN     NaN        NaN          NaN        NaN       NaN   \n",
       "4000   NaN   NaN     NaN        NaN          NaN        NaN       NaN   \n",
       "4000   NaN   NaN     NaN        NaN          NaN        NaN       NaN   \n",
       "4000   NaN   NaN     NaN        NaN          NaN        NaN       NaN   \n",
       "4000   NaN   NaN     NaN        NaN          NaN        NaN       NaN   \n",
       "\n",
       "                                Acidity Quality  \n",
       "4000  Created_by_Nidula_Elgiriyewithana     NaN  \n",
       "4000  Created_by_Nidula_Elgiriyewithana     NaN  \n",
       "4000  Created_by_Nidula_Elgiriyewithana     NaN  \n",
       "4000  Created_by_Nidula_Elgiriyewithana     NaN  \n",
       "4000  Created_by_Nidula_Elgiriyewithana     NaN  \n",
       "4000  Created_by_Nidula_Elgiriyewithana     NaN  \n",
       "4000  Created_by_Nidula_Elgiriyewithana     NaN  \n",
       "4000  Created_by_Nidula_Elgiriyewithana     NaN  "
      ]
     },
     "execution_count": 10,
     "metadata": {},
     "output_type": "execute_result"
    }
   ],
   "source": [
    "apple_df[apple_df.isnull().values == True]"
   ]
  },
  {
   "cell_type": "code",
   "execution_count": 11,
   "metadata": {},
   "outputs": [
    {
     "data": {
      "text/html": [
       "<style type=\"text/css\">\n",
       "#T_173e6_row0_col0, #T_173e6_row0_col1, #T_173e6_row0_col2, #T_173e6_row0_col3, #T_173e6_row0_col4, #T_173e6_row0_col5, #T_173e6_row0_col6, #T_173e6_row0_col8 {\n",
       "  background-color: green;\n",
       "}\n",
       "</style>\n",
       "<table id=\"T_173e6\">\n",
       "  <thead>\n",
       "    <tr>\n",
       "      <th class=\"blank level0\" >&nbsp;</th>\n",
       "      <th id=\"T_173e6_level0_col0\" class=\"col_heading level0 col0\" >A_id</th>\n",
       "      <th id=\"T_173e6_level0_col1\" class=\"col_heading level0 col1\" >Size</th>\n",
       "      <th id=\"T_173e6_level0_col2\" class=\"col_heading level0 col2\" >Weight</th>\n",
       "      <th id=\"T_173e6_level0_col3\" class=\"col_heading level0 col3\" >Sweetness</th>\n",
       "      <th id=\"T_173e6_level0_col4\" class=\"col_heading level0 col4\" >Crunchiness</th>\n",
       "      <th id=\"T_173e6_level0_col5\" class=\"col_heading level0 col5\" >Juiciness</th>\n",
       "      <th id=\"T_173e6_level0_col6\" class=\"col_heading level0 col6\" >Ripeness</th>\n",
       "      <th id=\"T_173e6_level0_col7\" class=\"col_heading level0 col7\" >Acidity</th>\n",
       "      <th id=\"T_173e6_level0_col8\" class=\"col_heading level0 col8\" >Quality</th>\n",
       "    </tr>\n",
       "  </thead>\n",
       "  <tbody>\n",
       "    <tr>\n",
       "      <th id=\"T_173e6_level0_row0\" class=\"row_heading level0 row0\" >4000</th>\n",
       "      <td id=\"T_173e6_row0_col0\" class=\"data row0 col0\" >nan</td>\n",
       "      <td id=\"T_173e6_row0_col1\" class=\"data row0 col1\" >nan</td>\n",
       "      <td id=\"T_173e6_row0_col2\" class=\"data row0 col2\" >nan</td>\n",
       "      <td id=\"T_173e6_row0_col3\" class=\"data row0 col3\" >nan</td>\n",
       "      <td id=\"T_173e6_row0_col4\" class=\"data row0 col4\" >nan</td>\n",
       "      <td id=\"T_173e6_row0_col5\" class=\"data row0 col5\" >nan</td>\n",
       "      <td id=\"T_173e6_row0_col6\" class=\"data row0 col6\" >nan</td>\n",
       "      <td id=\"T_173e6_row0_col7\" class=\"data row0 col7\" >Created_by_Nidula_Elgiriyewithana</td>\n",
       "      <td id=\"T_173e6_row0_col8\" class=\"data row0 col8\" >nan</td>\n",
       "    </tr>\n",
       "  </tbody>\n",
       "</table>\n"
      ],
      "text/plain": [
       "<pandas.io.formats.style.Styler at 0x2bc724ee1d0>"
      ]
     },
     "execution_count": 11,
     "metadata": {},
     "output_type": "execute_result"
    }
   ],
   "source": [
    "'''\n",
    "#jika ada 2 atau lebih null atau nan sebaris, oleh pandas baris tersebut ditampilkan sebanyak \n",
    "#jumlah null atau nan yang ada pada baris tersebut. oleh karena itu kita gunakan drop_duplicate()\n",
    "'''\n",
    "\n",
    "apple_df[apple_df.isnull().values == True].drop_duplicates().style.highlight_null(color='green')"
   ]
  },
  {
   "cell_type": "code",
   "execution_count": 12,
   "metadata": {},
   "outputs": [],
   "source": [
    "apple_clear_df = apple_df.copy()\n",
    "apple_clear_df = apple_clear_df.dropna()"
   ]
  },
  {
   "cell_type": "code",
   "execution_count": 13,
   "metadata": {},
   "outputs": [
    {
     "data": {
      "text/plain": [
       "A_id           0\n",
       "Size           0\n",
       "Weight         0\n",
       "Sweetness      0\n",
       "Crunchiness    0\n",
       "Juiciness      0\n",
       "Ripeness       0\n",
       "Acidity        0\n",
       "Quality        0\n",
       "dtype: int64"
      ]
     },
     "execution_count": 13,
     "metadata": {},
     "output_type": "execute_result"
    }
   ],
   "source": [
    "apple_clear_df.isnull().sum()"
   ]
  },
  {
   "cell_type": "code",
   "execution_count": 14,
   "metadata": {},
   "outputs": [
    {
     "data": {
      "text/plain": [
       "False    9\n",
       "Name: count, dtype: int64"
      ]
     },
     "execution_count": 14,
     "metadata": {},
     "output_type": "execute_result"
    }
   ],
   "source": [
    "apple_clear_df.isnull().any().value_counts()"
   ]
  },
  {
   "cell_type": "code",
   "execution_count": 15,
   "metadata": {},
   "outputs": [
    {
     "data": {
      "text/plain": [
       "(4000, 9)"
      ]
     },
     "execution_count": 15,
     "metadata": {},
     "output_type": "execute_result"
    }
   ],
   "source": [
    "apple_clear_df.shape"
   ]
  },
  {
   "cell_type": "code",
   "execution_count": 16,
   "metadata": {},
   "outputs": [
    {
     "name": "stdout",
     "output_type": "stream",
     "text": [
      "<class 'pandas.core.frame.DataFrame'>\n",
      "Index: 4000 entries, 0 to 3999\n",
      "Data columns (total 9 columns):\n",
      " #   Column       Non-Null Count  Dtype  \n",
      "---  ------       --------------  -----  \n",
      " 0   A_id         4000 non-null   float64\n",
      " 1   Size         4000 non-null   float64\n",
      " 2   Weight       4000 non-null   float64\n",
      " 3   Sweetness    4000 non-null   float64\n",
      " 4   Crunchiness  4000 non-null   float64\n",
      " 5   Juiciness    4000 non-null   float64\n",
      " 6   Ripeness     4000 non-null   float64\n",
      " 7   Acidity      4000 non-null   object \n",
      " 8   Quality      4000 non-null   object \n",
      "dtypes: float64(7), object(2)\n",
      "memory usage: 312.5+ KB\n"
     ]
    }
   ],
   "source": [
    "apple_clear_df.info()"
   ]
  },
  {
   "cell_type": "markdown",
   "metadata": {},
   "source": [
    "# Feature Engineering"
   ]
  },
  {
   "cell_type": "code",
   "execution_count": 17,
   "metadata": {},
   "outputs": [],
   "source": [
    "apple_clear_df['Acidity'] = apple_clear_df['Acidity'].astype(float)"
   ]
  },
  {
   "cell_type": "code",
   "execution_count": 18,
   "metadata": {},
   "outputs": [],
   "source": [
    "apple_clear_df.drop(['A_id'], axis=1, inplace=True)"
   ]
  },
  {
   "cell_type": "code",
   "execution_count": 19,
   "metadata": {},
   "outputs": [
    {
     "name": "stdout",
     "output_type": "stream",
     "text": [
      "<class 'pandas.core.frame.DataFrame'>\n",
      "Index: 4000 entries, 0 to 3999\n",
      "Data columns (total 8 columns):\n",
      " #   Column       Non-Null Count  Dtype  \n",
      "---  ------       --------------  -----  \n",
      " 0   Size         4000 non-null   float64\n",
      " 1   Weight       4000 non-null   float64\n",
      " 2   Sweetness    4000 non-null   float64\n",
      " 3   Crunchiness  4000 non-null   float64\n",
      " 4   Juiciness    4000 non-null   float64\n",
      " 5   Ripeness     4000 non-null   float64\n",
      " 6   Acidity      4000 non-null   float64\n",
      " 7   Quality      4000 non-null   object \n",
      "dtypes: float64(7), object(1)\n",
      "memory usage: 281.2+ KB\n"
     ]
    }
   ],
   "source": [
    "apple_clear_df.info()"
   ]
  },
  {
   "cell_type": "code",
   "execution_count": 20,
   "metadata": {},
   "outputs": [
    {
     "data": {
      "text/plain": [
       "False"
      ]
     },
     "execution_count": 20,
     "metadata": {},
     "output_type": "execute_result"
    }
   ],
   "source": [
    "apple_clear_df.duplicated().values.any()"
   ]
  },
  {
   "cell_type": "markdown",
   "metadata": {},
   "source": [
    "# Target Engineering"
   ]
  },
  {
   "cell_type": "code",
   "execution_count": 21,
   "metadata": {},
   "outputs": [],
   "source": [
    "apple_clear_df['Label'] = pd.get_dummies(apple_clear_df['Quality'], dtype=int,  drop_first= True)"
   ]
  },
  {
   "cell_type": "code",
   "execution_count": 22,
   "metadata": {},
   "outputs": [
    {
     "name": "stdout",
     "output_type": "stream",
     "text": [
      "<class 'pandas.core.frame.DataFrame'>\n",
      "Index: 4000 entries, 0 to 3999\n",
      "Data columns (total 9 columns):\n",
      " #   Column       Non-Null Count  Dtype  \n",
      "---  ------       --------------  -----  \n",
      " 0   Size         4000 non-null   float64\n",
      " 1   Weight       4000 non-null   float64\n",
      " 2   Sweetness    4000 non-null   float64\n",
      " 3   Crunchiness  4000 non-null   float64\n",
      " 4   Juiciness    4000 non-null   float64\n",
      " 5   Ripeness     4000 non-null   float64\n",
      " 6   Acidity      4000 non-null   float64\n",
      " 7   Quality      4000 non-null   object \n",
      " 8   Label        4000 non-null   int32  \n",
      "dtypes: float64(7), int32(1), object(1)\n",
      "memory usage: 296.9+ KB\n"
     ]
    }
   ],
   "source": [
    "apple_clear_df.info()"
   ]
  },
  {
   "cell_type": "code",
   "execution_count": 23,
   "metadata": {},
   "outputs": [
    {
     "data": {
      "text/html": [
       "<div>\n",
       "<style scoped>\n",
       "    .dataframe tbody tr th:only-of-type {\n",
       "        vertical-align: middle;\n",
       "    }\n",
       "\n",
       "    .dataframe tbody tr th {\n",
       "        vertical-align: top;\n",
       "    }\n",
       "\n",
       "    .dataframe thead th {\n",
       "        text-align: right;\n",
       "    }\n",
       "</style>\n",
       "<table border=\"1\" class=\"dataframe\">\n",
       "  <thead>\n",
       "    <tr style=\"text-align: right;\">\n",
       "      <th></th>\n",
       "      <th>Size</th>\n",
       "      <th>Weight</th>\n",
       "      <th>Sweetness</th>\n",
       "      <th>Crunchiness</th>\n",
       "      <th>Juiciness</th>\n",
       "      <th>Ripeness</th>\n",
       "      <th>Acidity</th>\n",
       "      <th>Quality</th>\n",
       "      <th>Label</th>\n",
       "    </tr>\n",
       "  </thead>\n",
       "  <tbody>\n",
       "    <tr>\n",
       "      <th>0</th>\n",
       "      <td>-3.970049</td>\n",
       "      <td>-2.512336</td>\n",
       "      <td>5.346330</td>\n",
       "      <td>-1.012009</td>\n",
       "      <td>1.844900</td>\n",
       "      <td>0.329840</td>\n",
       "      <td>-0.491590</td>\n",
       "      <td>good</td>\n",
       "      <td>1</td>\n",
       "    </tr>\n",
       "    <tr>\n",
       "      <th>1</th>\n",
       "      <td>-1.195217</td>\n",
       "      <td>-2.839257</td>\n",
       "      <td>3.664059</td>\n",
       "      <td>1.588232</td>\n",
       "      <td>0.853286</td>\n",
       "      <td>0.867530</td>\n",
       "      <td>-0.722809</td>\n",
       "      <td>good</td>\n",
       "      <td>1</td>\n",
       "    </tr>\n",
       "    <tr>\n",
       "      <th>2</th>\n",
       "      <td>-0.292024</td>\n",
       "      <td>-1.351282</td>\n",
       "      <td>-1.738429</td>\n",
       "      <td>-0.342616</td>\n",
       "      <td>2.838636</td>\n",
       "      <td>-0.038033</td>\n",
       "      <td>2.621636</td>\n",
       "      <td>bad</td>\n",
       "      <td>0</td>\n",
       "    </tr>\n",
       "    <tr>\n",
       "      <th>3</th>\n",
       "      <td>-0.657196</td>\n",
       "      <td>-2.271627</td>\n",
       "      <td>1.324874</td>\n",
       "      <td>-0.097875</td>\n",
       "      <td>3.637970</td>\n",
       "      <td>-3.413761</td>\n",
       "      <td>0.790723</td>\n",
       "      <td>good</td>\n",
       "      <td>1</td>\n",
       "    </tr>\n",
       "    <tr>\n",
       "      <th>4</th>\n",
       "      <td>1.364217</td>\n",
       "      <td>-1.296612</td>\n",
       "      <td>-0.384658</td>\n",
       "      <td>-0.553006</td>\n",
       "      <td>3.030874</td>\n",
       "      <td>-1.303849</td>\n",
       "      <td>0.501984</td>\n",
       "      <td>good</td>\n",
       "      <td>1</td>\n",
       "    </tr>\n",
       "    <tr>\n",
       "      <th>...</th>\n",
       "      <td>...</td>\n",
       "      <td>...</td>\n",
       "      <td>...</td>\n",
       "      <td>...</td>\n",
       "      <td>...</td>\n",
       "      <td>...</td>\n",
       "      <td>...</td>\n",
       "      <td>...</td>\n",
       "      <td>...</td>\n",
       "    </tr>\n",
       "    <tr>\n",
       "      <th>3995</th>\n",
       "      <td>0.059386</td>\n",
       "      <td>-1.067408</td>\n",
       "      <td>-3.714549</td>\n",
       "      <td>0.473052</td>\n",
       "      <td>1.697986</td>\n",
       "      <td>2.244055</td>\n",
       "      <td>0.137784</td>\n",
       "      <td>bad</td>\n",
       "      <td>0</td>\n",
       "    </tr>\n",
       "    <tr>\n",
       "      <th>3996</th>\n",
       "      <td>-0.293118</td>\n",
       "      <td>1.949253</td>\n",
       "      <td>-0.204020</td>\n",
       "      <td>-0.640196</td>\n",
       "      <td>0.024523</td>\n",
       "      <td>-1.087900</td>\n",
       "      <td>1.854235</td>\n",
       "      <td>good</td>\n",
       "      <td>1</td>\n",
       "    </tr>\n",
       "    <tr>\n",
       "      <th>3997</th>\n",
       "      <td>-2.634515</td>\n",
       "      <td>-2.138247</td>\n",
       "      <td>-2.440461</td>\n",
       "      <td>0.657223</td>\n",
       "      <td>2.199709</td>\n",
       "      <td>4.763859</td>\n",
       "      <td>-1.334611</td>\n",
       "      <td>bad</td>\n",
       "      <td>0</td>\n",
       "    </tr>\n",
       "    <tr>\n",
       "      <th>3998</th>\n",
       "      <td>-4.008004</td>\n",
       "      <td>-1.779337</td>\n",
       "      <td>2.366397</td>\n",
       "      <td>-0.200329</td>\n",
       "      <td>2.161435</td>\n",
       "      <td>0.214488</td>\n",
       "      <td>-2.229720</td>\n",
       "      <td>good</td>\n",
       "      <td>1</td>\n",
       "    </tr>\n",
       "    <tr>\n",
       "      <th>3999</th>\n",
       "      <td>0.278540</td>\n",
       "      <td>-1.715505</td>\n",
       "      <td>0.121217</td>\n",
       "      <td>-1.154075</td>\n",
       "      <td>1.266677</td>\n",
       "      <td>-0.776571</td>\n",
       "      <td>1.599796</td>\n",
       "      <td>good</td>\n",
       "      <td>1</td>\n",
       "    </tr>\n",
       "  </tbody>\n",
       "</table>\n",
       "<p>4000 rows × 9 columns</p>\n",
       "</div>"
      ],
      "text/plain": [
       "          Size    Weight  Sweetness  Crunchiness  Juiciness  Ripeness  \\\n",
       "0    -3.970049 -2.512336   5.346330    -1.012009   1.844900  0.329840   \n",
       "1    -1.195217 -2.839257   3.664059     1.588232   0.853286  0.867530   \n",
       "2    -0.292024 -1.351282  -1.738429    -0.342616   2.838636 -0.038033   \n",
       "3    -0.657196 -2.271627   1.324874    -0.097875   3.637970 -3.413761   \n",
       "4     1.364217 -1.296612  -0.384658    -0.553006   3.030874 -1.303849   \n",
       "...        ...       ...        ...          ...        ...       ...   \n",
       "3995  0.059386 -1.067408  -3.714549     0.473052   1.697986  2.244055   \n",
       "3996 -0.293118  1.949253  -0.204020    -0.640196   0.024523 -1.087900   \n",
       "3997 -2.634515 -2.138247  -2.440461     0.657223   2.199709  4.763859   \n",
       "3998 -4.008004 -1.779337   2.366397    -0.200329   2.161435  0.214488   \n",
       "3999  0.278540 -1.715505   0.121217    -1.154075   1.266677 -0.776571   \n",
       "\n",
       "       Acidity Quality  Label  \n",
       "0    -0.491590    good      1  \n",
       "1    -0.722809    good      1  \n",
       "2     2.621636     bad      0  \n",
       "3     0.790723    good      1  \n",
       "4     0.501984    good      1  \n",
       "...        ...     ...    ...  \n",
       "3995  0.137784     bad      0  \n",
       "3996  1.854235    good      1  \n",
       "3997 -1.334611     bad      0  \n",
       "3998 -2.229720    good      1  \n",
       "3999  1.599796    good      1  \n",
       "\n",
       "[4000 rows x 9 columns]"
      ]
     },
     "execution_count": 23,
     "metadata": {},
     "output_type": "execute_result"
    }
   ],
   "source": [
    "apple_clear_df"
   ]
  },
  {
   "cell_type": "code",
   "execution_count": 24,
   "metadata": {},
   "outputs": [
    {
     "name": "stdout",
     "output_type": "stream",
     "text": [
      "label 1 = good\n"
     ]
    }
   ],
   "source": [
    "dummies_df = pd.get_dummies(apple_clear_df['Quality'], dtype=int,  drop_first= True)\n",
    "print(f'label 1 = {str(dummies_df.columns[0])}')"
   ]
  },
  {
   "cell_type": "markdown",
   "metadata": {},
   "source": [
    "# Data Splitting"
   ]
  },
  {
   "cell_type": "code",
   "execution_count": 25,
   "metadata": {},
   "outputs": [],
   "source": [
    "from sklearn.model_selection import train_test_split"
   ]
  },
  {
   "cell_type": "code",
   "execution_count": 26,
   "metadata": {},
   "outputs": [],
   "source": [
    "X = apple_clear_df.drop(columns=['Quality', 'Label'])\n",
    "y = apple_clear_df['Label']"
   ]
  },
  {
   "cell_type": "code",
   "execution_count": 27,
   "metadata": {},
   "outputs": [
    {
     "data": {
      "text/plain": [
       "((3200, 7), (800, 7), (3200,), (800,))"
      ]
     },
     "execution_count": 27,
     "metadata": {},
     "output_type": "execute_result"
    }
   ],
   "source": [
    "X_train, X_test, y_train, y_test = train_test_split(X, y, test_size=0.2, stratify=y, random_state=42)\n",
    "X_train.shape, X_test.shape, y_train.shape, y_test.shape\n"
   ]
  },
  {
   "cell_type": "markdown",
   "metadata": {},
   "source": [
    "# Preprocessor"
   ]
  },
  {
   "cell_type": "code",
   "execution_count": 28,
   "metadata": {},
   "outputs": [],
   "source": [
    "from sklearn.preprocessing import MinMaxScaler"
   ]
  },
  {
   "cell_type": "code",
   "execution_count": 29,
   "metadata": {},
   "outputs": [],
   "source": [
    "scaler = MinMaxScaler()"
   ]
  },
  {
   "cell_type": "code",
   "execution_count": 30,
   "metadata": {},
   "outputs": [
    {
     "data": {
      "text/html": [
       "<style>#sk-container-id-1 {color: black;background-color: white;}#sk-container-id-1 pre{padding: 0;}#sk-container-id-1 div.sk-toggleable {background-color: white;}#sk-container-id-1 label.sk-toggleable__label {cursor: pointer;display: block;width: 100%;margin-bottom: 0;padding: 0.3em;box-sizing: border-box;text-align: center;}#sk-container-id-1 label.sk-toggleable__label-arrow:before {content: \"▸\";float: left;margin-right: 0.25em;color: #696969;}#sk-container-id-1 label.sk-toggleable__label-arrow:hover:before {color: black;}#sk-container-id-1 div.sk-estimator:hover label.sk-toggleable__label-arrow:before {color: black;}#sk-container-id-1 div.sk-toggleable__content {max-height: 0;max-width: 0;overflow: hidden;text-align: left;background-color: #f0f8ff;}#sk-container-id-1 div.sk-toggleable__content pre {margin: 0.2em;color: black;border-radius: 0.25em;background-color: #f0f8ff;}#sk-container-id-1 input.sk-toggleable__control:checked~div.sk-toggleable__content {max-height: 200px;max-width: 100%;overflow: auto;}#sk-container-id-1 input.sk-toggleable__control:checked~label.sk-toggleable__label-arrow:before {content: \"▾\";}#sk-container-id-1 div.sk-estimator input.sk-toggleable__control:checked~label.sk-toggleable__label {background-color: #d4ebff;}#sk-container-id-1 div.sk-label input.sk-toggleable__control:checked~label.sk-toggleable__label {background-color: #d4ebff;}#sk-container-id-1 input.sk-hidden--visually {border: 0;clip: rect(1px 1px 1px 1px);clip: rect(1px, 1px, 1px, 1px);height: 1px;margin: -1px;overflow: hidden;padding: 0;position: absolute;width: 1px;}#sk-container-id-1 div.sk-estimator {font-family: monospace;background-color: #f0f8ff;border: 1px dotted black;border-radius: 0.25em;box-sizing: border-box;margin-bottom: 0.5em;}#sk-container-id-1 div.sk-estimator:hover {background-color: #d4ebff;}#sk-container-id-1 div.sk-parallel-item::after {content: \"\";width: 100%;border-bottom: 1px solid gray;flex-grow: 1;}#sk-container-id-1 div.sk-label:hover label.sk-toggleable__label {background-color: #d4ebff;}#sk-container-id-1 div.sk-serial::before {content: \"\";position: absolute;border-left: 1px solid gray;box-sizing: border-box;top: 0;bottom: 0;left: 50%;z-index: 0;}#sk-container-id-1 div.sk-serial {display: flex;flex-direction: column;align-items: center;background-color: white;padding-right: 0.2em;padding-left: 0.2em;position: relative;}#sk-container-id-1 div.sk-item {position: relative;z-index: 1;}#sk-container-id-1 div.sk-parallel {display: flex;align-items: stretch;justify-content: center;background-color: white;position: relative;}#sk-container-id-1 div.sk-item::before, #sk-container-id-1 div.sk-parallel-item::before {content: \"\";position: absolute;border-left: 1px solid gray;box-sizing: border-box;top: 0;bottom: 0;left: 50%;z-index: -1;}#sk-container-id-1 div.sk-parallel-item {display: flex;flex-direction: column;z-index: 1;position: relative;background-color: white;}#sk-container-id-1 div.sk-parallel-item:first-child::after {align-self: flex-end;width: 50%;}#sk-container-id-1 div.sk-parallel-item:last-child::after {align-self: flex-start;width: 50%;}#sk-container-id-1 div.sk-parallel-item:only-child::after {width: 0;}#sk-container-id-1 div.sk-dashed-wrapped {border: 1px dashed gray;margin: 0 0.4em 0.5em 0.4em;box-sizing: border-box;padding-bottom: 0.4em;background-color: white;}#sk-container-id-1 div.sk-label label {font-family: monospace;font-weight: bold;display: inline-block;line-height: 1.2em;}#sk-container-id-1 div.sk-label-container {text-align: center;}#sk-container-id-1 div.sk-container {/* jupyter's `normalize.less` sets `[hidden] { display: none; }` but bootstrap.min.css set `[hidden] { display: none !important; }` so we also need the `!important` here to be able to override the default hidden behavior on the sphinx rendered scikit-learn.org. See: https://github.com/scikit-learn/scikit-learn/issues/21755 */display: inline-block !important;position: relative;}#sk-container-id-1 div.sk-text-repr-fallback {display: none;}</style><div id=\"sk-container-id-1\" class=\"sk-top-container\"><div class=\"sk-text-repr-fallback\"><pre>MinMaxScaler()</pre><b>In a Jupyter environment, please rerun this cell to show the HTML representation or trust the notebook. <br />On GitHub, the HTML representation is unable to render, please try loading this page with nbviewer.org.</b></div><div class=\"sk-container\" hidden><div class=\"sk-item\"><div class=\"sk-estimator sk-toggleable\"><input class=\"sk-toggleable__control sk-hidden--visually\" id=\"sk-estimator-id-1\" type=\"checkbox\" checked><label for=\"sk-estimator-id-1\" class=\"sk-toggleable__label sk-toggleable__label-arrow\">MinMaxScaler</label><div class=\"sk-toggleable__content\"><pre>MinMaxScaler()</pre></div></div></div></div></div>"
      ],
      "text/plain": [
       "MinMaxScaler()"
      ]
     },
     "execution_count": 30,
     "metadata": {},
     "output_type": "execute_result"
    }
   ],
   "source": [
    "scaler.fit(X_train)"
   ]
  },
  {
   "cell_type": "code",
   "execution_count": 31,
   "metadata": {},
   "outputs": [
    {
     "data": {
      "text/plain": [
       "array([6.4063669 , 5.79071359, 6.37491551, 7.6198518 , 7.36440286,\n",
       "       7.23783668, 7.40473624])"
      ]
     },
     "execution_count": 31,
     "metadata": {},
     "output_type": "execute_result"
    }
   ],
   "source": [
    "scaler.data_max_"
   ]
  },
  {
   "cell_type": "code",
   "execution_count": 32,
   "metadata": {},
   "outputs": [
    {
     "data": {
      "text/plain": [
       "array([-7.15170306, -6.58158967, -6.35974912, -6.0550578 , -5.96189705,\n",
       "       -5.86459892, -6.95546037])"
      ]
     },
     "execution_count": 32,
     "metadata": {},
     "output_type": "execute_result"
    }
   ],
   "source": [
    "scaler.data_min_"
   ]
  },
  {
   "cell_type": "code",
   "execution_count": 33,
   "metadata": {},
   "outputs": [],
   "source": [
    "X_train_scaled = scaler.transform(X_train)\n",
    "X_test_scaled = scaler.transform(X_test)"
   ]
  },
  {
   "cell_type": "code",
   "execution_count": 34,
   "metadata": {},
   "outputs": [
    {
     "name": "stdout",
     "output_type": "stream",
     "text": [
      "1.0\n",
      "0.0\n"
     ]
    }
   ],
   "source": [
    "print(X_train_scaled.max())\n",
    "print(X_train_scaled.min())"
   ]
  },
  {
   "cell_type": "code",
   "execution_count": 35,
   "metadata": {},
   "outputs": [],
   "source": [
    "from sklearn.neighbors import KNeighborsClassifier"
   ]
  },
  {
   "cell_type": "code",
   "execution_count": 36,
   "metadata": {},
   "outputs": [],
   "source": [
    "model_knn = KNeighborsClassifier(n_neighbors=3)"
   ]
  },
  {
   "cell_type": "code",
   "execution_count": 37,
   "metadata": {},
   "outputs": [
    {
     "data": {
      "text/html": [
       "<style>#sk-container-id-2 {color: black;background-color: white;}#sk-container-id-2 pre{padding: 0;}#sk-container-id-2 div.sk-toggleable {background-color: white;}#sk-container-id-2 label.sk-toggleable__label {cursor: pointer;display: block;width: 100%;margin-bottom: 0;padding: 0.3em;box-sizing: border-box;text-align: center;}#sk-container-id-2 label.sk-toggleable__label-arrow:before {content: \"▸\";float: left;margin-right: 0.25em;color: #696969;}#sk-container-id-2 label.sk-toggleable__label-arrow:hover:before {color: black;}#sk-container-id-2 div.sk-estimator:hover label.sk-toggleable__label-arrow:before {color: black;}#sk-container-id-2 div.sk-toggleable__content {max-height: 0;max-width: 0;overflow: hidden;text-align: left;background-color: #f0f8ff;}#sk-container-id-2 div.sk-toggleable__content pre {margin: 0.2em;color: black;border-radius: 0.25em;background-color: #f0f8ff;}#sk-container-id-2 input.sk-toggleable__control:checked~div.sk-toggleable__content {max-height: 200px;max-width: 100%;overflow: auto;}#sk-container-id-2 input.sk-toggleable__control:checked~label.sk-toggleable__label-arrow:before {content: \"▾\";}#sk-container-id-2 div.sk-estimator input.sk-toggleable__control:checked~label.sk-toggleable__label {background-color: #d4ebff;}#sk-container-id-2 div.sk-label input.sk-toggleable__control:checked~label.sk-toggleable__label {background-color: #d4ebff;}#sk-container-id-2 input.sk-hidden--visually {border: 0;clip: rect(1px 1px 1px 1px);clip: rect(1px, 1px, 1px, 1px);height: 1px;margin: -1px;overflow: hidden;padding: 0;position: absolute;width: 1px;}#sk-container-id-2 div.sk-estimator {font-family: monospace;background-color: #f0f8ff;border: 1px dotted black;border-radius: 0.25em;box-sizing: border-box;margin-bottom: 0.5em;}#sk-container-id-2 div.sk-estimator:hover {background-color: #d4ebff;}#sk-container-id-2 div.sk-parallel-item::after {content: \"\";width: 100%;border-bottom: 1px solid gray;flex-grow: 1;}#sk-container-id-2 div.sk-label:hover label.sk-toggleable__label {background-color: #d4ebff;}#sk-container-id-2 div.sk-serial::before {content: \"\";position: absolute;border-left: 1px solid gray;box-sizing: border-box;top: 0;bottom: 0;left: 50%;z-index: 0;}#sk-container-id-2 div.sk-serial {display: flex;flex-direction: column;align-items: center;background-color: white;padding-right: 0.2em;padding-left: 0.2em;position: relative;}#sk-container-id-2 div.sk-item {position: relative;z-index: 1;}#sk-container-id-2 div.sk-parallel {display: flex;align-items: stretch;justify-content: center;background-color: white;position: relative;}#sk-container-id-2 div.sk-item::before, #sk-container-id-2 div.sk-parallel-item::before {content: \"\";position: absolute;border-left: 1px solid gray;box-sizing: border-box;top: 0;bottom: 0;left: 50%;z-index: -1;}#sk-container-id-2 div.sk-parallel-item {display: flex;flex-direction: column;z-index: 1;position: relative;background-color: white;}#sk-container-id-2 div.sk-parallel-item:first-child::after {align-self: flex-end;width: 50%;}#sk-container-id-2 div.sk-parallel-item:last-child::after {align-self: flex-start;width: 50%;}#sk-container-id-2 div.sk-parallel-item:only-child::after {width: 0;}#sk-container-id-2 div.sk-dashed-wrapped {border: 1px dashed gray;margin: 0 0.4em 0.5em 0.4em;box-sizing: border-box;padding-bottom: 0.4em;background-color: white;}#sk-container-id-2 div.sk-label label {font-family: monospace;font-weight: bold;display: inline-block;line-height: 1.2em;}#sk-container-id-2 div.sk-label-container {text-align: center;}#sk-container-id-2 div.sk-container {/* jupyter's `normalize.less` sets `[hidden] { display: none; }` but bootstrap.min.css set `[hidden] { display: none !important; }` so we also need the `!important` here to be able to override the default hidden behavior on the sphinx rendered scikit-learn.org. See: https://github.com/scikit-learn/scikit-learn/issues/21755 */display: inline-block !important;position: relative;}#sk-container-id-2 div.sk-text-repr-fallback {display: none;}</style><div id=\"sk-container-id-2\" class=\"sk-top-container\"><div class=\"sk-text-repr-fallback\"><pre>KNeighborsClassifier(n_neighbors=3)</pre><b>In a Jupyter environment, please rerun this cell to show the HTML representation or trust the notebook. <br />On GitHub, the HTML representation is unable to render, please try loading this page with nbviewer.org.</b></div><div class=\"sk-container\" hidden><div class=\"sk-item\"><div class=\"sk-estimator sk-toggleable\"><input class=\"sk-toggleable__control sk-hidden--visually\" id=\"sk-estimator-id-2\" type=\"checkbox\" checked><label for=\"sk-estimator-id-2\" class=\"sk-toggleable__label sk-toggleable__label-arrow\">KNeighborsClassifier</label><div class=\"sk-toggleable__content\"><pre>KNeighborsClassifier(n_neighbors=3)</pre></div></div></div></div></div>"
      ],
      "text/plain": [
       "KNeighborsClassifier(n_neighbors=3)"
      ]
     },
     "execution_count": 37,
     "metadata": {},
     "output_type": "execute_result"
    }
   ],
   "source": [
    "model_knn.fit(X_train_scaled, y_train)"
   ]
  },
  {
   "cell_type": "code",
   "execution_count": 38,
   "metadata": {},
   "outputs": [
    {
     "data": {
      "text/plain": [
       "(0.9459375, 0.8825)"
      ]
     },
     "execution_count": 38,
     "metadata": {},
     "output_type": "execute_result"
    }
   ],
   "source": [
    "model_knn.score(X_train_scaled, y_train), model_knn.score(X_test_scaled, y_test)"
   ]
  },
  {
   "cell_type": "code",
   "execution_count": 39,
   "metadata": {},
   "outputs": [],
   "source": [
    "from sklearn.pipeline import Pipeline"
   ]
  },
  {
   "cell_type": "code",
   "execution_count": 40,
   "metadata": {},
   "outputs": [],
   "source": [
    "pipeline_model = Pipeline([\n",
    "    ('prep_scale', MinMaxScaler()),\n",
    "    ('model_clf', KNeighborsClassifier(n_neighbors=3))\n",
    "])"
   ]
  },
  {
   "cell_type": "code",
   "execution_count": 41,
   "metadata": {},
   "outputs": [
    {
     "data": {
      "text/html": [
       "<style>#sk-container-id-3 {color: black;background-color: white;}#sk-container-id-3 pre{padding: 0;}#sk-container-id-3 div.sk-toggleable {background-color: white;}#sk-container-id-3 label.sk-toggleable__label {cursor: pointer;display: block;width: 100%;margin-bottom: 0;padding: 0.3em;box-sizing: border-box;text-align: center;}#sk-container-id-3 label.sk-toggleable__label-arrow:before {content: \"▸\";float: left;margin-right: 0.25em;color: #696969;}#sk-container-id-3 label.sk-toggleable__label-arrow:hover:before {color: black;}#sk-container-id-3 div.sk-estimator:hover label.sk-toggleable__label-arrow:before {color: black;}#sk-container-id-3 div.sk-toggleable__content {max-height: 0;max-width: 0;overflow: hidden;text-align: left;background-color: #f0f8ff;}#sk-container-id-3 div.sk-toggleable__content pre {margin: 0.2em;color: black;border-radius: 0.25em;background-color: #f0f8ff;}#sk-container-id-3 input.sk-toggleable__control:checked~div.sk-toggleable__content {max-height: 200px;max-width: 100%;overflow: auto;}#sk-container-id-3 input.sk-toggleable__control:checked~label.sk-toggleable__label-arrow:before {content: \"▾\";}#sk-container-id-3 div.sk-estimator input.sk-toggleable__control:checked~label.sk-toggleable__label {background-color: #d4ebff;}#sk-container-id-3 div.sk-label input.sk-toggleable__control:checked~label.sk-toggleable__label {background-color: #d4ebff;}#sk-container-id-3 input.sk-hidden--visually {border: 0;clip: rect(1px 1px 1px 1px);clip: rect(1px, 1px, 1px, 1px);height: 1px;margin: -1px;overflow: hidden;padding: 0;position: absolute;width: 1px;}#sk-container-id-3 div.sk-estimator {font-family: monospace;background-color: #f0f8ff;border: 1px dotted black;border-radius: 0.25em;box-sizing: border-box;margin-bottom: 0.5em;}#sk-container-id-3 div.sk-estimator:hover {background-color: #d4ebff;}#sk-container-id-3 div.sk-parallel-item::after {content: \"\";width: 100%;border-bottom: 1px solid gray;flex-grow: 1;}#sk-container-id-3 div.sk-label:hover label.sk-toggleable__label {background-color: #d4ebff;}#sk-container-id-3 div.sk-serial::before {content: \"\";position: absolute;border-left: 1px solid gray;box-sizing: border-box;top: 0;bottom: 0;left: 50%;z-index: 0;}#sk-container-id-3 div.sk-serial {display: flex;flex-direction: column;align-items: center;background-color: white;padding-right: 0.2em;padding-left: 0.2em;position: relative;}#sk-container-id-3 div.sk-item {position: relative;z-index: 1;}#sk-container-id-3 div.sk-parallel {display: flex;align-items: stretch;justify-content: center;background-color: white;position: relative;}#sk-container-id-3 div.sk-item::before, #sk-container-id-3 div.sk-parallel-item::before {content: \"\";position: absolute;border-left: 1px solid gray;box-sizing: border-box;top: 0;bottom: 0;left: 50%;z-index: -1;}#sk-container-id-3 div.sk-parallel-item {display: flex;flex-direction: column;z-index: 1;position: relative;background-color: white;}#sk-container-id-3 div.sk-parallel-item:first-child::after {align-self: flex-end;width: 50%;}#sk-container-id-3 div.sk-parallel-item:last-child::after {align-self: flex-start;width: 50%;}#sk-container-id-3 div.sk-parallel-item:only-child::after {width: 0;}#sk-container-id-3 div.sk-dashed-wrapped {border: 1px dashed gray;margin: 0 0.4em 0.5em 0.4em;box-sizing: border-box;padding-bottom: 0.4em;background-color: white;}#sk-container-id-3 div.sk-label label {font-family: monospace;font-weight: bold;display: inline-block;line-height: 1.2em;}#sk-container-id-3 div.sk-label-container {text-align: center;}#sk-container-id-3 div.sk-container {/* jupyter's `normalize.less` sets `[hidden] { display: none; }` but bootstrap.min.css set `[hidden] { display: none !important; }` so we also need the `!important` here to be able to override the default hidden behavior on the sphinx rendered scikit-learn.org. See: https://github.com/scikit-learn/scikit-learn/issues/21755 */display: inline-block !important;position: relative;}#sk-container-id-3 div.sk-text-repr-fallback {display: none;}</style><div id=\"sk-container-id-3\" class=\"sk-top-container\"><div class=\"sk-text-repr-fallback\"><pre>Pipeline(steps=[(&#x27;prep_scale&#x27;, MinMaxScaler()),\n",
       "                (&#x27;model_clf&#x27;, KNeighborsClassifier(n_neighbors=3))])</pre><b>In a Jupyter environment, please rerun this cell to show the HTML representation or trust the notebook. <br />On GitHub, the HTML representation is unable to render, please try loading this page with nbviewer.org.</b></div><div class=\"sk-container\" hidden><div class=\"sk-item sk-dashed-wrapped\"><div class=\"sk-label-container\"><div class=\"sk-label sk-toggleable\"><input class=\"sk-toggleable__control sk-hidden--visually\" id=\"sk-estimator-id-3\" type=\"checkbox\" ><label for=\"sk-estimator-id-3\" class=\"sk-toggleable__label sk-toggleable__label-arrow\">Pipeline</label><div class=\"sk-toggleable__content\"><pre>Pipeline(steps=[(&#x27;prep_scale&#x27;, MinMaxScaler()),\n",
       "                (&#x27;model_clf&#x27;, KNeighborsClassifier(n_neighbors=3))])</pre></div></div></div><div class=\"sk-serial\"><div class=\"sk-item\"><div class=\"sk-estimator sk-toggleable\"><input class=\"sk-toggleable__control sk-hidden--visually\" id=\"sk-estimator-id-4\" type=\"checkbox\" ><label for=\"sk-estimator-id-4\" class=\"sk-toggleable__label sk-toggleable__label-arrow\">MinMaxScaler</label><div class=\"sk-toggleable__content\"><pre>MinMaxScaler()</pre></div></div></div><div class=\"sk-item\"><div class=\"sk-estimator sk-toggleable\"><input class=\"sk-toggleable__control sk-hidden--visually\" id=\"sk-estimator-id-5\" type=\"checkbox\" ><label for=\"sk-estimator-id-5\" class=\"sk-toggleable__label sk-toggleable__label-arrow\">KNeighborsClassifier</label><div class=\"sk-toggleable__content\"><pre>KNeighborsClassifier(n_neighbors=3)</pre></div></div></div></div></div></div></div>"
      ],
      "text/plain": [
       "Pipeline(steps=[('prep_scale', MinMaxScaler()),\n",
       "                ('model_clf', KNeighborsClassifier(n_neighbors=3))])"
      ]
     },
     "execution_count": 41,
     "metadata": {},
     "output_type": "execute_result"
    }
   ],
   "source": [
    "pipeline_model.fit(X_train, y_train)"
   ]
  },
  {
   "cell_type": "markdown",
   "metadata": {},
   "source": [
    "# GidSearcV"
   ]
  },
  {
   "cell_type": "code",
   "execution_count": 42,
   "metadata": {},
   "outputs": [],
   "source": [
    "from sklearn.impute import SimpleImputer\n",
    "from sklearn.preprocessing import OneHotEncoder\n",
    "from sklearn.model_selection import GridSearchCV"
   ]
  },
  {
   "cell_type": "code",
   "execution_count": 44,
   "metadata": {},
   "outputs": [
    {
     "data": {
      "text/plain": [
       "{'memory': None,\n",
       " 'steps': [('prep_scale', MinMaxScaler()),\n",
       "  ('model_clf', KNeighborsClassifier(n_neighbors=3))],\n",
       " 'verbose': False,\n",
       " 'prep_scale': MinMaxScaler(),\n",
       " 'model_clf': KNeighborsClassifier(n_neighbors=3),\n",
       " 'prep_scale__clip': False,\n",
       " 'prep_scale__copy': True,\n",
       " 'prep_scale__feature_range': (0, 1),\n",
       " 'model_clf__algorithm': 'auto',\n",
       " 'model_clf__leaf_size': 30,\n",
       " 'model_clf__metric': 'minkowski',\n",
       " 'model_clf__metric_params': None,\n",
       " 'model_clf__n_jobs': None,\n",
       " 'model_clf__n_neighbors': 3,\n",
       " 'model_clf__p': 2,\n",
       " 'model_clf__weights': 'uniform'}"
      ]
     },
     "execution_count": 44,
     "metadata": {},
     "output_type": "execute_result"
    }
   ],
   "source": [
    "pipeline_model.get_params()"
   ]
  },
  {
   "cell_type": "code",
   "execution_count": 48,
   "metadata": {},
   "outputs": [],
   "source": [
    "parameter = {\n",
    "    'model_clf__n_neighbors' : range(1,10),\n",
    "    'model_clf__weights' : ['uniform', 'distance'],\n",
    "    'model_clf__p' : [1, 2]\n",
    "}"
   ]
  },
  {
   "cell_type": "code",
   "execution_count": 49,
   "metadata": {},
   "outputs": [],
   "source": [
    "model_grid = GridSearchCV(pipeline_model, parameter, cv= 3, n_jobs=-1, verbose=1)"
   ]
  },
  {
   "cell_type": "code",
   "execution_count": 50,
   "metadata": {},
   "outputs": [
    {
     "name": "stdout",
     "output_type": "stream",
     "text": [
      "Fitting 3 folds for each of 36 candidates, totalling 108 fits\n"
     ]
    },
    {
     "data": {
      "text/html": [
       "<style>#sk-container-id-4 {color: black;background-color: white;}#sk-container-id-4 pre{padding: 0;}#sk-container-id-4 div.sk-toggleable {background-color: white;}#sk-container-id-4 label.sk-toggleable__label {cursor: pointer;display: block;width: 100%;margin-bottom: 0;padding: 0.3em;box-sizing: border-box;text-align: center;}#sk-container-id-4 label.sk-toggleable__label-arrow:before {content: \"▸\";float: left;margin-right: 0.25em;color: #696969;}#sk-container-id-4 label.sk-toggleable__label-arrow:hover:before {color: black;}#sk-container-id-4 div.sk-estimator:hover label.sk-toggleable__label-arrow:before {color: black;}#sk-container-id-4 div.sk-toggleable__content {max-height: 0;max-width: 0;overflow: hidden;text-align: left;background-color: #f0f8ff;}#sk-container-id-4 div.sk-toggleable__content pre {margin: 0.2em;color: black;border-radius: 0.25em;background-color: #f0f8ff;}#sk-container-id-4 input.sk-toggleable__control:checked~div.sk-toggleable__content {max-height: 200px;max-width: 100%;overflow: auto;}#sk-container-id-4 input.sk-toggleable__control:checked~label.sk-toggleable__label-arrow:before {content: \"▾\";}#sk-container-id-4 div.sk-estimator input.sk-toggleable__control:checked~label.sk-toggleable__label {background-color: #d4ebff;}#sk-container-id-4 div.sk-label input.sk-toggleable__control:checked~label.sk-toggleable__label {background-color: #d4ebff;}#sk-container-id-4 input.sk-hidden--visually {border: 0;clip: rect(1px 1px 1px 1px);clip: rect(1px, 1px, 1px, 1px);height: 1px;margin: -1px;overflow: hidden;padding: 0;position: absolute;width: 1px;}#sk-container-id-4 div.sk-estimator {font-family: monospace;background-color: #f0f8ff;border: 1px dotted black;border-radius: 0.25em;box-sizing: border-box;margin-bottom: 0.5em;}#sk-container-id-4 div.sk-estimator:hover {background-color: #d4ebff;}#sk-container-id-4 div.sk-parallel-item::after {content: \"\";width: 100%;border-bottom: 1px solid gray;flex-grow: 1;}#sk-container-id-4 div.sk-label:hover label.sk-toggleable__label {background-color: #d4ebff;}#sk-container-id-4 div.sk-serial::before {content: \"\";position: absolute;border-left: 1px solid gray;box-sizing: border-box;top: 0;bottom: 0;left: 50%;z-index: 0;}#sk-container-id-4 div.sk-serial {display: flex;flex-direction: column;align-items: center;background-color: white;padding-right: 0.2em;padding-left: 0.2em;position: relative;}#sk-container-id-4 div.sk-item {position: relative;z-index: 1;}#sk-container-id-4 div.sk-parallel {display: flex;align-items: stretch;justify-content: center;background-color: white;position: relative;}#sk-container-id-4 div.sk-item::before, #sk-container-id-4 div.sk-parallel-item::before {content: \"\";position: absolute;border-left: 1px solid gray;box-sizing: border-box;top: 0;bottom: 0;left: 50%;z-index: -1;}#sk-container-id-4 div.sk-parallel-item {display: flex;flex-direction: column;z-index: 1;position: relative;background-color: white;}#sk-container-id-4 div.sk-parallel-item:first-child::after {align-self: flex-end;width: 50%;}#sk-container-id-4 div.sk-parallel-item:last-child::after {align-self: flex-start;width: 50%;}#sk-container-id-4 div.sk-parallel-item:only-child::after {width: 0;}#sk-container-id-4 div.sk-dashed-wrapped {border: 1px dashed gray;margin: 0 0.4em 0.5em 0.4em;box-sizing: border-box;padding-bottom: 0.4em;background-color: white;}#sk-container-id-4 div.sk-label label {font-family: monospace;font-weight: bold;display: inline-block;line-height: 1.2em;}#sk-container-id-4 div.sk-label-container {text-align: center;}#sk-container-id-4 div.sk-container {/* jupyter's `normalize.less` sets `[hidden] { display: none; }` but bootstrap.min.css set `[hidden] { display: none !important; }` so we also need the `!important` here to be able to override the default hidden behavior on the sphinx rendered scikit-learn.org. See: https://github.com/scikit-learn/scikit-learn/issues/21755 */display: inline-block !important;position: relative;}#sk-container-id-4 div.sk-text-repr-fallback {display: none;}</style><div id=\"sk-container-id-4\" class=\"sk-top-container\"><div class=\"sk-text-repr-fallback\"><pre>GridSearchCV(cv=3,\n",
       "             estimator=Pipeline(steps=[(&#x27;prep_scale&#x27;, MinMaxScaler()),\n",
       "                                       (&#x27;model_clf&#x27;,\n",
       "                                        KNeighborsClassifier(n_neighbors=3))]),\n",
       "             n_jobs=-1,\n",
       "             param_grid={&#x27;model_clf__n_neighbors&#x27;: range(1, 10),\n",
       "                         &#x27;model_clf__p&#x27;: [1, 2],\n",
       "                         &#x27;model_clf__weights&#x27;: [&#x27;uniform&#x27;, &#x27;distance&#x27;]},\n",
       "             verbose=1)</pre><b>In a Jupyter environment, please rerun this cell to show the HTML representation or trust the notebook. <br />On GitHub, the HTML representation is unable to render, please try loading this page with nbviewer.org.</b></div><div class=\"sk-container\" hidden><div class=\"sk-item sk-dashed-wrapped\"><div class=\"sk-label-container\"><div class=\"sk-label sk-toggleable\"><input class=\"sk-toggleable__control sk-hidden--visually\" id=\"sk-estimator-id-6\" type=\"checkbox\" ><label for=\"sk-estimator-id-6\" class=\"sk-toggleable__label sk-toggleable__label-arrow\">GridSearchCV</label><div class=\"sk-toggleable__content\"><pre>GridSearchCV(cv=3,\n",
       "             estimator=Pipeline(steps=[(&#x27;prep_scale&#x27;, MinMaxScaler()),\n",
       "                                       (&#x27;model_clf&#x27;,\n",
       "                                        KNeighborsClassifier(n_neighbors=3))]),\n",
       "             n_jobs=-1,\n",
       "             param_grid={&#x27;model_clf__n_neighbors&#x27;: range(1, 10),\n",
       "                         &#x27;model_clf__p&#x27;: [1, 2],\n",
       "                         &#x27;model_clf__weights&#x27;: [&#x27;uniform&#x27;, &#x27;distance&#x27;]},\n",
       "             verbose=1)</pre></div></div></div><div class=\"sk-parallel\"><div class=\"sk-parallel-item\"><div class=\"sk-item\"><div class=\"sk-label-container\"><div class=\"sk-label sk-toggleable\"><input class=\"sk-toggleable__control sk-hidden--visually\" id=\"sk-estimator-id-7\" type=\"checkbox\" ><label for=\"sk-estimator-id-7\" class=\"sk-toggleable__label sk-toggleable__label-arrow\">estimator: Pipeline</label><div class=\"sk-toggleable__content\"><pre>Pipeline(steps=[(&#x27;prep_scale&#x27;, MinMaxScaler()),\n",
       "                (&#x27;model_clf&#x27;, KNeighborsClassifier(n_neighbors=3))])</pre></div></div></div><div class=\"sk-serial\"><div class=\"sk-item\"><div class=\"sk-serial\"><div class=\"sk-item\"><div class=\"sk-estimator sk-toggleable\"><input class=\"sk-toggleable__control sk-hidden--visually\" id=\"sk-estimator-id-8\" type=\"checkbox\" ><label for=\"sk-estimator-id-8\" class=\"sk-toggleable__label sk-toggleable__label-arrow\">MinMaxScaler</label><div class=\"sk-toggleable__content\"><pre>MinMaxScaler()</pre></div></div></div><div class=\"sk-item\"><div class=\"sk-estimator sk-toggleable\"><input class=\"sk-toggleable__control sk-hidden--visually\" id=\"sk-estimator-id-9\" type=\"checkbox\" ><label for=\"sk-estimator-id-9\" class=\"sk-toggleable__label sk-toggleable__label-arrow\">KNeighborsClassifier</label><div class=\"sk-toggleable__content\"><pre>KNeighborsClassifier(n_neighbors=3)</pre></div></div></div></div></div></div></div></div></div></div></div></div>"
      ],
      "text/plain": [
       "GridSearchCV(cv=3,\n",
       "             estimator=Pipeline(steps=[('prep_scale', MinMaxScaler()),\n",
       "                                       ('model_clf',\n",
       "                                        KNeighborsClassifier(n_neighbors=3))]),\n",
       "             n_jobs=-1,\n",
       "             param_grid={'model_clf__n_neighbors': range(1, 10),\n",
       "                         'model_clf__p': [1, 2],\n",
       "                         'model_clf__weights': ['uniform', 'distance']},\n",
       "             verbose=1)"
      ]
     },
     "execution_count": 50,
     "metadata": {},
     "output_type": "execute_result"
    }
   ],
   "source": [
    "model_grid.fit(X_train, y_train)"
   ]
  },
  {
   "cell_type": "code",
   "execution_count": 53,
   "metadata": {},
   "outputs": [
    {
     "data": {
      "text/html": [
       "<div>\n",
       "<style scoped>\n",
       "    .dataframe tbody tr th:only-of-type {\n",
       "        vertical-align: middle;\n",
       "    }\n",
       "\n",
       "    .dataframe tbody tr th {\n",
       "        vertical-align: top;\n",
       "    }\n",
       "\n",
       "    .dataframe thead th {\n",
       "        text-align: right;\n",
       "    }\n",
       "</style>\n",
       "<table border=\"1\" class=\"dataframe\">\n",
       "  <thead>\n",
       "    <tr style=\"text-align: right;\">\n",
       "      <th></th>\n",
       "      <th>mean_fit_time</th>\n",
       "      <th>std_fit_time</th>\n",
       "      <th>mean_score_time</th>\n",
       "      <th>std_score_time</th>\n",
       "      <th>param_model_clf__n_neighbors</th>\n",
       "      <th>param_model_clf__p</th>\n",
       "      <th>param_model_clf__weights</th>\n",
       "      <th>params</th>\n",
       "      <th>split0_test_score</th>\n",
       "      <th>split1_test_score</th>\n",
       "      <th>split2_test_score</th>\n",
       "      <th>mean_test_score</th>\n",
       "      <th>std_test_score</th>\n",
       "      <th>rank_test_score</th>\n",
       "    </tr>\n",
       "  </thead>\n",
       "  <tbody>\n",
       "    <tr>\n",
       "      <th>23</th>\n",
       "      <td>0.021081</td>\n",
       "      <td>5.709105e-03</td>\n",
       "      <td>0.054398</td>\n",
       "      <td>0.008463</td>\n",
       "      <td>6</td>\n",
       "      <td>2</td>\n",
       "      <td>distance</td>\n",
       "      <td>{'model_clf__n_neighbors': 6, 'model_clf__p': ...</td>\n",
       "      <td>0.912840</td>\n",
       "      <td>0.896907</td>\n",
       "      <td>0.898687</td>\n",
       "      <td>0.902811</td>\n",
       "      <td>0.007128</td>\n",
       "      <td>1</td>\n",
       "    </tr>\n",
       "    <tr>\n",
       "      <th>35</th>\n",
       "      <td>0.015594</td>\n",
       "      <td>5.175642e-05</td>\n",
       "      <td>0.065587</td>\n",
       "      <td>0.012737</td>\n",
       "      <td>9</td>\n",
       "      <td>2</td>\n",
       "      <td>distance</td>\n",
       "      <td>{'model_clf__n_neighbors': 9, 'model_clf__p': ...</td>\n",
       "      <td>0.916589</td>\n",
       "      <td>0.895033</td>\n",
       "      <td>0.895872</td>\n",
       "      <td>0.902498</td>\n",
       "      <td>0.009969</td>\n",
       "      <td>2</td>\n",
       "    </tr>\n",
       "    <tr>\n",
       "      <th>19</th>\n",
       "      <td>0.020501</td>\n",
       "      <td>4.909014e-03</td>\n",
       "      <td>0.060198</td>\n",
       "      <td>0.010232</td>\n",
       "      <td>5</td>\n",
       "      <td>2</td>\n",
       "      <td>distance</td>\n",
       "      <td>{'model_clf__n_neighbors': 5, 'model_clf__p': ...</td>\n",
       "      <td>0.916589</td>\n",
       "      <td>0.891284</td>\n",
       "      <td>0.898687</td>\n",
       "      <td>0.902186</td>\n",
       "      <td>0.010623</td>\n",
       "      <td>3</td>\n",
       "    </tr>\n",
       "    <tr>\n",
       "      <th>18</th>\n",
       "      <td>0.026041</td>\n",
       "      <td>7.365302e-03</td>\n",
       "      <td>0.225928</td>\n",
       "      <td>0.015710</td>\n",
       "      <td>5</td>\n",
       "      <td>2</td>\n",
       "      <td>uniform</td>\n",
       "      <td>{'model_clf__n_neighbors': 5, 'model_clf__p': ...</td>\n",
       "      <td>0.913777</td>\n",
       "      <td>0.891284</td>\n",
       "      <td>0.898687</td>\n",
       "      <td>0.901249</td>\n",
       "      <td>0.009360</td>\n",
       "      <td>4</td>\n",
       "    </tr>\n",
       "    <tr>\n",
       "      <th>31</th>\n",
       "      <td>0.018492</td>\n",
       "      <td>4.037168e-03</td>\n",
       "      <td>0.072425</td>\n",
       "      <td>0.003935</td>\n",
       "      <td>8</td>\n",
       "      <td>2</td>\n",
       "      <td>distance</td>\n",
       "      <td>{'model_clf__n_neighbors': 8, 'model_clf__p': ...</td>\n",
       "      <td>0.912840</td>\n",
       "      <td>0.894096</td>\n",
       "      <td>0.894934</td>\n",
       "      <td>0.900623</td>\n",
       "      <td>0.008645</td>\n",
       "      <td>5</td>\n",
       "    </tr>\n",
       "    <tr>\n",
       "      <th>27</th>\n",
       "      <td>0.014542</td>\n",
       "      <td>5.143471e-03</td>\n",
       "      <td>0.069469</td>\n",
       "      <td>0.005101</td>\n",
       "      <td>7</td>\n",
       "      <td>2</td>\n",
       "      <td>distance</td>\n",
       "      <td>{'model_clf__n_neighbors': 7, 'model_clf__p': ...</td>\n",
       "      <td>0.914714</td>\n",
       "      <td>0.892221</td>\n",
       "      <td>0.893996</td>\n",
       "      <td>0.900311</td>\n",
       "      <td>0.010211</td>\n",
       "      <td>6</td>\n",
       "    </tr>\n",
       "    <tr>\n",
       "      <th>30</th>\n",
       "      <td>0.025522</td>\n",
       "      <td>8.880613e-03</td>\n",
       "      <td>0.206241</td>\n",
       "      <td>0.007390</td>\n",
       "      <td>8</td>\n",
       "      <td>2</td>\n",
       "      <td>uniform</td>\n",
       "      <td>{'model_clf__n_neighbors': 8, 'model_clf__p': ...</td>\n",
       "      <td>0.914714</td>\n",
       "      <td>0.893158</td>\n",
       "      <td>0.891182</td>\n",
       "      <td>0.899685</td>\n",
       "      <td>0.010658</td>\n",
       "      <td>7</td>\n",
       "    </tr>\n",
       "    <tr>\n",
       "      <th>34</th>\n",
       "      <td>0.013058</td>\n",
       "      <td>1.265938e-02</td>\n",
       "      <td>0.208135</td>\n",
       "      <td>0.006631</td>\n",
       "      <td>9</td>\n",
       "      <td>2</td>\n",
       "      <td>uniform</td>\n",
       "      <td>{'model_clf__n_neighbors': 9, 'model_clf__p': ...</td>\n",
       "      <td>0.913777</td>\n",
       "      <td>0.890347</td>\n",
       "      <td>0.893996</td>\n",
       "      <td>0.899373</td>\n",
       "      <td>0.010293</td>\n",
       "      <td>8</td>\n",
       "    </tr>\n",
       "    <tr>\n",
       "      <th>26</th>\n",
       "      <td>0.021308</td>\n",
       "      <td>7.053365e-03</td>\n",
       "      <td>0.209767</td>\n",
       "      <td>0.006743</td>\n",
       "      <td>7</td>\n",
       "      <td>2</td>\n",
       "      <td>uniform</td>\n",
       "      <td>{'model_clf__n_neighbors': 7, 'model_clf__p': ...</td>\n",
       "      <td>0.911903</td>\n",
       "      <td>0.890347</td>\n",
       "      <td>0.892120</td>\n",
       "      <td>0.898123</td>\n",
       "      <td>0.009770</td>\n",
       "      <td>9</td>\n",
       "    </tr>\n",
       "    <tr>\n",
       "      <th>29</th>\n",
       "      <td>0.015629</td>\n",
       "      <td>1.083865e-06</td>\n",
       "      <td>0.087977</td>\n",
       "      <td>0.004355</td>\n",
       "      <td>8</td>\n",
       "      <td>1</td>\n",
       "      <td>distance</td>\n",
       "      <td>{'model_clf__n_neighbors': 8, 'model_clf__p': ...</td>\n",
       "      <td>0.910965</td>\n",
       "      <td>0.889410</td>\n",
       "      <td>0.891182</td>\n",
       "      <td>0.897186</td>\n",
       "      <td>0.009771</td>\n",
       "      <td>10</td>\n",
       "    </tr>\n",
       "    <tr>\n",
       "      <th>21</th>\n",
       "      <td>0.025056</td>\n",
       "      <td>6.921844e-03</td>\n",
       "      <td>0.077110</td>\n",
       "      <td>0.005580</td>\n",
       "      <td>6</td>\n",
       "      <td>1</td>\n",
       "      <td>distance</td>\n",
       "      <td>{'model_clf__n_neighbors': 6, 'model_clf__p': ...</td>\n",
       "      <td>0.911903</td>\n",
       "      <td>0.885661</td>\n",
       "      <td>0.893058</td>\n",
       "      <td>0.896874</td>\n",
       "      <td>0.011048</td>\n",
       "      <td>11</td>\n",
       "    </tr>\n",
       "    <tr>\n",
       "      <th>15</th>\n",
       "      <td>0.020974</td>\n",
       "      <td>4.229292e-03</td>\n",
       "      <td>0.051953</td>\n",
       "      <td>0.003602</td>\n",
       "      <td>4</td>\n",
       "      <td>2</td>\n",
       "      <td>distance</td>\n",
       "      <td>{'model_clf__n_neighbors': 4, 'model_clf__p': ...</td>\n",
       "      <td>0.907216</td>\n",
       "      <td>0.889410</td>\n",
       "      <td>0.885553</td>\n",
       "      <td>0.894060</td>\n",
       "      <td>0.009435</td>\n",
       "      <td>12</td>\n",
       "    </tr>\n",
       "    <tr>\n",
       "      <th>17</th>\n",
       "      <td>0.026976</td>\n",
       "      <td>8.165500e-03</td>\n",
       "      <td>0.101153</td>\n",
       "      <td>0.010713</td>\n",
       "      <td>5</td>\n",
       "      <td>1</td>\n",
       "      <td>distance</td>\n",
       "      <td>{'model_clf__n_neighbors': 5, 'model_clf__p': ...</td>\n",
       "      <td>0.904405</td>\n",
       "      <td>0.881912</td>\n",
       "      <td>0.894934</td>\n",
       "      <td>0.893750</td>\n",
       "      <td>0.009221</td>\n",
       "      <td>13</td>\n",
       "    </tr>\n",
       "    <tr>\n",
       "      <th>16</th>\n",
       "      <td>0.015630</td>\n",
       "      <td>1.685874e-06</td>\n",
       "      <td>0.254729</td>\n",
       "      <td>0.010156</td>\n",
       "      <td>5</td>\n",
       "      <td>1</td>\n",
       "      <td>uniform</td>\n",
       "      <td>{'model_clf__n_neighbors': 5, 'model_clf__p': ...</td>\n",
       "      <td>0.904405</td>\n",
       "      <td>0.880037</td>\n",
       "      <td>0.895872</td>\n",
       "      <td>0.893438</td>\n",
       "      <td>0.010096</td>\n",
       "      <td>14</td>\n",
       "    </tr>\n",
       "    <tr>\n",
       "      <th>33</th>\n",
       "      <td>0.021068</td>\n",
       "      <td>7.696746e-03</td>\n",
       "      <td>0.079030</td>\n",
       "      <td>0.008086</td>\n",
       "      <td>9</td>\n",
       "      <td>1</td>\n",
       "      <td>distance</td>\n",
       "      <td>{'model_clf__n_neighbors': 9, 'model_clf__p': ...</td>\n",
       "      <td>0.906279</td>\n",
       "      <td>0.886598</td>\n",
       "      <td>0.887430</td>\n",
       "      <td>0.893436</td>\n",
       "      <td>0.009088</td>\n",
       "      <td>15</td>\n",
       "    </tr>\n",
       "    <tr>\n",
       "      <th>22</th>\n",
       "      <td>0.017624</td>\n",
       "      <td>1.040807e-02</td>\n",
       "      <td>0.203197</td>\n",
       "      <td>0.014126</td>\n",
       "      <td>6</td>\n",
       "      <td>2</td>\n",
       "      <td>uniform</td>\n",
       "      <td>{'model_clf__n_neighbors': 6, 'model_clf__p': ...</td>\n",
       "      <td>0.903468</td>\n",
       "      <td>0.889410</td>\n",
       "      <td>0.887430</td>\n",
       "      <td>0.893436</td>\n",
       "      <td>0.007140</td>\n",
       "      <td>15</td>\n",
       "    </tr>\n",
       "    <tr>\n",
       "      <th>32</th>\n",
       "      <td>0.016033</td>\n",
       "      <td>5.766813e-04</td>\n",
       "      <td>0.221712</td>\n",
       "      <td>0.004228</td>\n",
       "      <td>9</td>\n",
       "      <td>1</td>\n",
       "      <td>uniform</td>\n",
       "      <td>{'model_clf__n_neighbors': 9, 'model_clf__p': ...</td>\n",
       "      <td>0.907216</td>\n",
       "      <td>0.880975</td>\n",
       "      <td>0.885553</td>\n",
       "      <td>0.891248</td>\n",
       "      <td>0.011445</td>\n",
       "      <td>17</td>\n",
       "    </tr>\n",
       "    <tr>\n",
       "      <th>11</th>\n",
       "      <td>0.020593</td>\n",
       "      <td>3.542121e-03</td>\n",
       "      <td>0.048018</td>\n",
       "      <td>0.012364</td>\n",
       "      <td>3</td>\n",
       "      <td>2</td>\n",
       "      <td>distance</td>\n",
       "      <td>{'model_clf__n_neighbors': 3, 'model_clf__p': ...</td>\n",
       "      <td>0.902530</td>\n",
       "      <td>0.878163</td>\n",
       "      <td>0.892120</td>\n",
       "      <td>0.890938</td>\n",
       "      <td>0.009983</td>\n",
       "      <td>18</td>\n",
       "    </tr>\n",
       "    <tr>\n",
       "      <th>25</th>\n",
       "      <td>0.018016</td>\n",
       "      <td>3.744881e-03</td>\n",
       "      <td>0.076633</td>\n",
       "      <td>0.007348</td>\n",
       "      <td>7</td>\n",
       "      <td>1</td>\n",
       "      <td>distance</td>\n",
       "      <td>{'model_clf__n_neighbors': 7, 'model_clf__p': ...</td>\n",
       "      <td>0.895970</td>\n",
       "      <td>0.886598</td>\n",
       "      <td>0.889306</td>\n",
       "      <td>0.890625</td>\n",
       "      <td>0.003938</td>\n",
       "      <td>19</td>\n",
       "    </tr>\n",
       "    <tr>\n",
       "      <th>10</th>\n",
       "      <td>0.015947</td>\n",
       "      <td>4.549616e-04</td>\n",
       "      <td>0.190711</td>\n",
       "      <td>0.003566</td>\n",
       "      <td>3</td>\n",
       "      <td>2</td>\n",
       "      <td>uniform</td>\n",
       "      <td>{'model_clf__n_neighbors': 3, 'model_clf__p': ...</td>\n",
       "      <td>0.900656</td>\n",
       "      <td>0.878163</td>\n",
       "      <td>0.892120</td>\n",
       "      <td>0.890313</td>\n",
       "      <td>0.009271</td>\n",
       "      <td>20</td>\n",
       "    </tr>\n",
       "    <tr>\n",
       "      <th>24</th>\n",
       "      <td>0.020834</td>\n",
       "      <td>7.371540e-03</td>\n",
       "      <td>0.216490</td>\n",
       "      <td>0.012760</td>\n",
       "      <td>7</td>\n",
       "      <td>1</td>\n",
       "      <td>uniform</td>\n",
       "      <td>{'model_clf__n_neighbors': 7, 'model_clf__p': ...</td>\n",
       "      <td>0.897844</td>\n",
       "      <td>0.884724</td>\n",
       "      <td>0.887430</td>\n",
       "      <td>0.889999</td>\n",
       "      <td>0.005656</td>\n",
       "      <td>21</td>\n",
       "    </tr>\n",
       "    <tr>\n",
       "      <th>20</th>\n",
       "      <td>0.020836</td>\n",
       "      <td>7.362942e-03</td>\n",
       "      <td>0.220462</td>\n",
       "      <td>0.013763</td>\n",
       "      <td>6</td>\n",
       "      <td>1</td>\n",
       "      <td>uniform</td>\n",
       "      <td>{'model_clf__n_neighbors': 6, 'model_clf__p': ...</td>\n",
       "      <td>0.907216</td>\n",
       "      <td>0.879100</td>\n",
       "      <td>0.880863</td>\n",
       "      <td>0.889060</td>\n",
       "      <td>0.012859</td>\n",
       "      <td>22</td>\n",
       "    </tr>\n",
       "    <tr>\n",
       "      <th>13</th>\n",
       "      <td>0.022976</td>\n",
       "      <td>1.039274e-02</td>\n",
       "      <td>0.070590</td>\n",
       "      <td>0.005486</td>\n",
       "      <td>4</td>\n",
       "      <td>1</td>\n",
       "      <td>distance</td>\n",
       "      <td>{'model_clf__n_neighbors': 4, 'model_clf__p': ...</td>\n",
       "      <td>0.897844</td>\n",
       "      <td>0.886598</td>\n",
       "      <td>0.877111</td>\n",
       "      <td>0.887184</td>\n",
       "      <td>0.008475</td>\n",
       "      <td>23</td>\n",
       "    </tr>\n",
       "    <tr>\n",
       "      <th>28</th>\n",
       "      <td>0.019010</td>\n",
       "      <td>2.418567e-03</td>\n",
       "      <td>0.236225</td>\n",
       "      <td>0.007368</td>\n",
       "      <td>8</td>\n",
       "      <td>1</td>\n",
       "      <td>uniform</td>\n",
       "      <td>{'model_clf__n_neighbors': 8, 'model_clf__p': ...</td>\n",
       "      <td>0.902530</td>\n",
       "      <td>0.874414</td>\n",
       "      <td>0.879925</td>\n",
       "      <td>0.885623</td>\n",
       "      <td>0.012165</td>\n",
       "      <td>24</td>\n",
       "    </tr>\n",
       "    <tr>\n",
       "      <th>14</th>\n",
       "      <td>0.026918</td>\n",
       "      <td>1.021751e-02</td>\n",
       "      <td>0.197339</td>\n",
       "      <td>0.015454</td>\n",
       "      <td>4</td>\n",
       "      <td>2</td>\n",
       "      <td>uniform</td>\n",
       "      <td>{'model_clf__n_neighbors': 4, 'model_clf__p': ...</td>\n",
       "      <td>0.894096</td>\n",
       "      <td>0.882849</td>\n",
       "      <td>0.878049</td>\n",
       "      <td>0.884998</td>\n",
       "      <td>0.006725</td>\n",
       "      <td>25</td>\n",
       "    </tr>\n",
       "    <tr>\n",
       "      <th>8</th>\n",
       "      <td>0.011646</td>\n",
       "      <td>5.627562e-03</td>\n",
       "      <td>0.210812</td>\n",
       "      <td>0.006938</td>\n",
       "      <td>3</td>\n",
       "      <td>1</td>\n",
       "      <td>uniform</td>\n",
       "      <td>{'model_clf__n_neighbors': 3, 'model_clf__p': ...</td>\n",
       "      <td>0.893158</td>\n",
       "      <td>0.879100</td>\n",
       "      <td>0.880863</td>\n",
       "      <td>0.884374</td>\n",
       "      <td>0.006253</td>\n",
       "      <td>26</td>\n",
       "    </tr>\n",
       "    <tr>\n",
       "      <th>9</th>\n",
       "      <td>0.016055</td>\n",
       "      <td>6.103443e-04</td>\n",
       "      <td>0.057780</td>\n",
       "      <td>0.005604</td>\n",
       "      <td>3</td>\n",
       "      <td>1</td>\n",
       "      <td>distance</td>\n",
       "      <td>{'model_clf__n_neighbors': 3, 'model_clf__p': ...</td>\n",
       "      <td>0.894096</td>\n",
       "      <td>0.879100</td>\n",
       "      <td>0.879925</td>\n",
       "      <td>0.884374</td>\n",
       "      <td>0.006883</td>\n",
       "      <td>27</td>\n",
       "    </tr>\n",
       "    <tr>\n",
       "      <th>12</th>\n",
       "      <td>0.016155</td>\n",
       "      <td>6.795215e-03</td>\n",
       "      <td>0.219403</td>\n",
       "      <td>0.032389</td>\n",
       "      <td>4</td>\n",
       "      <td>1</td>\n",
       "      <td>uniform</td>\n",
       "      <td>{'model_clf__n_neighbors': 4, 'model_clf__p': ...</td>\n",
       "      <td>0.888472</td>\n",
       "      <td>0.872540</td>\n",
       "      <td>0.872420</td>\n",
       "      <td>0.877811</td>\n",
       "      <td>0.007539</td>\n",
       "      <td>28</td>\n",
       "    </tr>\n",
       "    <tr>\n",
       "      <th>3</th>\n",
       "      <td>0.020835</td>\n",
       "      <td>7.365527e-03</td>\n",
       "      <td>0.033207</td>\n",
       "      <td>0.009728</td>\n",
       "      <td>1</td>\n",
       "      <td>2</td>\n",
       "      <td>distance</td>\n",
       "      <td>{'model_clf__n_neighbors': 1, 'model_clf__p': ...</td>\n",
       "      <td>0.890347</td>\n",
       "      <td>0.872540</td>\n",
       "      <td>0.863977</td>\n",
       "      <td>0.875621</td>\n",
       "      <td>0.010984</td>\n",
       "      <td>29</td>\n",
       "    </tr>\n",
       "    <tr>\n",
       "      <th>2</th>\n",
       "      <td>0.016505</td>\n",
       "      <td>1.243170e-03</td>\n",
       "      <td>0.167660</td>\n",
       "      <td>0.001240</td>\n",
       "      <td>1</td>\n",
       "      <td>2</td>\n",
       "      <td>uniform</td>\n",
       "      <td>{'model_clf__n_neighbors': 1, 'model_clf__p': ...</td>\n",
       "      <td>0.890347</td>\n",
       "      <td>0.872540</td>\n",
       "      <td>0.863977</td>\n",
       "      <td>0.875621</td>\n",
       "      <td>0.010984</td>\n",
       "      <td>29</td>\n",
       "    </tr>\n",
       "    <tr>\n",
       "      <th>7</th>\n",
       "      <td>0.013595</td>\n",
       "      <td>2.877787e-03</td>\n",
       "      <td>0.046407</td>\n",
       "      <td>0.002265</td>\n",
       "      <td>2</td>\n",
       "      <td>2</td>\n",
       "      <td>distance</td>\n",
       "      <td>{'model_clf__n_neighbors': 2, 'model_clf__p': ...</td>\n",
       "      <td>0.890347</td>\n",
       "      <td>0.872540</td>\n",
       "      <td>0.863977</td>\n",
       "      <td>0.875621</td>\n",
       "      <td>0.010984</td>\n",
       "      <td>29</td>\n",
       "    </tr>\n",
       "    <tr>\n",
       "      <th>5</th>\n",
       "      <td>0.015624</td>\n",
       "      <td>1.474002e-06</td>\n",
       "      <td>0.053295</td>\n",
       "      <td>0.000558</td>\n",
       "      <td>2</td>\n",
       "      <td>1</td>\n",
       "      <td>distance</td>\n",
       "      <td>{'model_clf__n_neighbors': 2, 'model_clf__p': ...</td>\n",
       "      <td>0.876289</td>\n",
       "      <td>0.867854</td>\n",
       "      <td>0.855535</td>\n",
       "      <td>0.866559</td>\n",
       "      <td>0.008522</td>\n",
       "      <td>32</td>\n",
       "    </tr>\n",
       "    <tr>\n",
       "      <th>1</th>\n",
       "      <td>0.015419</td>\n",
       "      <td>1.091633e-03</td>\n",
       "      <td>0.058312</td>\n",
       "      <td>0.017338</td>\n",
       "      <td>1</td>\n",
       "      <td>1</td>\n",
       "      <td>distance</td>\n",
       "      <td>{'model_clf__n_neighbors': 1, 'model_clf__p': ...</td>\n",
       "      <td>0.876289</td>\n",
       "      <td>0.867854</td>\n",
       "      <td>0.855535</td>\n",
       "      <td>0.866559</td>\n",
       "      <td>0.008522</td>\n",
       "      <td>32</td>\n",
       "    </tr>\n",
       "    <tr>\n",
       "      <th>0</th>\n",
       "      <td>0.026043</td>\n",
       "      <td>7.366482e-03</td>\n",
       "      <td>0.184424</td>\n",
       "      <td>0.000090</td>\n",
       "      <td>1</td>\n",
       "      <td>1</td>\n",
       "      <td>uniform</td>\n",
       "      <td>{'model_clf__n_neighbors': 1, 'model_clf__p': ...</td>\n",
       "      <td>0.876289</td>\n",
       "      <td>0.867854</td>\n",
       "      <td>0.855535</td>\n",
       "      <td>0.866559</td>\n",
       "      <td>0.008522</td>\n",
       "      <td>32</td>\n",
       "    </tr>\n",
       "    <tr>\n",
       "      <th>6</th>\n",
       "      <td>0.020015</td>\n",
       "      <td>6.192732e-03</td>\n",
       "      <td>0.179435</td>\n",
       "      <td>0.014746</td>\n",
       "      <td>2</td>\n",
       "      <td>2</td>\n",
       "      <td>uniform</td>\n",
       "      <td>{'model_clf__n_neighbors': 2, 'model_clf__p': ...</td>\n",
       "      <td>0.881912</td>\n",
       "      <td>0.851921</td>\n",
       "      <td>0.858349</td>\n",
       "      <td>0.864061</td>\n",
       "      <td>0.012893</td>\n",
       "      <td>35</td>\n",
       "    </tr>\n",
       "    <tr>\n",
       "      <th>4</th>\n",
       "      <td>0.015622</td>\n",
       "      <td>7.867412e-07</td>\n",
       "      <td>0.198667</td>\n",
       "      <td>0.008081</td>\n",
       "      <td>2</td>\n",
       "      <td>1</td>\n",
       "      <td>uniform</td>\n",
       "      <td>{'model_clf__n_neighbors': 2, 'model_clf__p': ...</td>\n",
       "      <td>0.876289</td>\n",
       "      <td>0.849110</td>\n",
       "      <td>0.843340</td>\n",
       "      <td>0.856246</td>\n",
       "      <td>0.014367</td>\n",
       "      <td>36</td>\n",
       "    </tr>\n",
       "  </tbody>\n",
       "</table>\n",
       "</div>"
      ],
      "text/plain": [
       "    mean_fit_time  std_fit_time  mean_score_time  std_score_time  \\\n",
       "23       0.021081  5.709105e-03         0.054398        0.008463   \n",
       "35       0.015594  5.175642e-05         0.065587        0.012737   \n",
       "19       0.020501  4.909014e-03         0.060198        0.010232   \n",
       "18       0.026041  7.365302e-03         0.225928        0.015710   \n",
       "31       0.018492  4.037168e-03         0.072425        0.003935   \n",
       "27       0.014542  5.143471e-03         0.069469        0.005101   \n",
       "30       0.025522  8.880613e-03         0.206241        0.007390   \n",
       "34       0.013058  1.265938e-02         0.208135        0.006631   \n",
       "26       0.021308  7.053365e-03         0.209767        0.006743   \n",
       "29       0.015629  1.083865e-06         0.087977        0.004355   \n",
       "21       0.025056  6.921844e-03         0.077110        0.005580   \n",
       "15       0.020974  4.229292e-03         0.051953        0.003602   \n",
       "17       0.026976  8.165500e-03         0.101153        0.010713   \n",
       "16       0.015630  1.685874e-06         0.254729        0.010156   \n",
       "33       0.021068  7.696746e-03         0.079030        0.008086   \n",
       "22       0.017624  1.040807e-02         0.203197        0.014126   \n",
       "32       0.016033  5.766813e-04         0.221712        0.004228   \n",
       "11       0.020593  3.542121e-03         0.048018        0.012364   \n",
       "25       0.018016  3.744881e-03         0.076633        0.007348   \n",
       "10       0.015947  4.549616e-04         0.190711        0.003566   \n",
       "24       0.020834  7.371540e-03         0.216490        0.012760   \n",
       "20       0.020836  7.362942e-03         0.220462        0.013763   \n",
       "13       0.022976  1.039274e-02         0.070590        0.005486   \n",
       "28       0.019010  2.418567e-03         0.236225        0.007368   \n",
       "14       0.026918  1.021751e-02         0.197339        0.015454   \n",
       "8        0.011646  5.627562e-03         0.210812        0.006938   \n",
       "9        0.016055  6.103443e-04         0.057780        0.005604   \n",
       "12       0.016155  6.795215e-03         0.219403        0.032389   \n",
       "3        0.020835  7.365527e-03         0.033207        0.009728   \n",
       "2        0.016505  1.243170e-03         0.167660        0.001240   \n",
       "7        0.013595  2.877787e-03         0.046407        0.002265   \n",
       "5        0.015624  1.474002e-06         0.053295        0.000558   \n",
       "1        0.015419  1.091633e-03         0.058312        0.017338   \n",
       "0        0.026043  7.366482e-03         0.184424        0.000090   \n",
       "6        0.020015  6.192732e-03         0.179435        0.014746   \n",
       "4        0.015622  7.867412e-07         0.198667        0.008081   \n",
       "\n",
       "   param_model_clf__n_neighbors param_model_clf__p param_model_clf__weights  \\\n",
       "23                            6                  2                 distance   \n",
       "35                            9                  2                 distance   \n",
       "19                            5                  2                 distance   \n",
       "18                            5                  2                  uniform   \n",
       "31                            8                  2                 distance   \n",
       "27                            7                  2                 distance   \n",
       "30                            8                  2                  uniform   \n",
       "34                            9                  2                  uniform   \n",
       "26                            7                  2                  uniform   \n",
       "29                            8                  1                 distance   \n",
       "21                            6                  1                 distance   \n",
       "15                            4                  2                 distance   \n",
       "17                            5                  1                 distance   \n",
       "16                            5                  1                  uniform   \n",
       "33                            9                  1                 distance   \n",
       "22                            6                  2                  uniform   \n",
       "32                            9                  1                  uniform   \n",
       "11                            3                  2                 distance   \n",
       "25                            7                  1                 distance   \n",
       "10                            3                  2                  uniform   \n",
       "24                            7                  1                  uniform   \n",
       "20                            6                  1                  uniform   \n",
       "13                            4                  1                 distance   \n",
       "28                            8                  1                  uniform   \n",
       "14                            4                  2                  uniform   \n",
       "8                             3                  1                  uniform   \n",
       "9                             3                  1                 distance   \n",
       "12                            4                  1                  uniform   \n",
       "3                             1                  2                 distance   \n",
       "2                             1                  2                  uniform   \n",
       "7                             2                  2                 distance   \n",
       "5                             2                  1                 distance   \n",
       "1                             1                  1                 distance   \n",
       "0                             1                  1                  uniform   \n",
       "6                             2                  2                  uniform   \n",
       "4                             2                  1                  uniform   \n",
       "\n",
       "                                               params  split0_test_score  \\\n",
       "23  {'model_clf__n_neighbors': 6, 'model_clf__p': ...           0.912840   \n",
       "35  {'model_clf__n_neighbors': 9, 'model_clf__p': ...           0.916589   \n",
       "19  {'model_clf__n_neighbors': 5, 'model_clf__p': ...           0.916589   \n",
       "18  {'model_clf__n_neighbors': 5, 'model_clf__p': ...           0.913777   \n",
       "31  {'model_clf__n_neighbors': 8, 'model_clf__p': ...           0.912840   \n",
       "27  {'model_clf__n_neighbors': 7, 'model_clf__p': ...           0.914714   \n",
       "30  {'model_clf__n_neighbors': 8, 'model_clf__p': ...           0.914714   \n",
       "34  {'model_clf__n_neighbors': 9, 'model_clf__p': ...           0.913777   \n",
       "26  {'model_clf__n_neighbors': 7, 'model_clf__p': ...           0.911903   \n",
       "29  {'model_clf__n_neighbors': 8, 'model_clf__p': ...           0.910965   \n",
       "21  {'model_clf__n_neighbors': 6, 'model_clf__p': ...           0.911903   \n",
       "15  {'model_clf__n_neighbors': 4, 'model_clf__p': ...           0.907216   \n",
       "17  {'model_clf__n_neighbors': 5, 'model_clf__p': ...           0.904405   \n",
       "16  {'model_clf__n_neighbors': 5, 'model_clf__p': ...           0.904405   \n",
       "33  {'model_clf__n_neighbors': 9, 'model_clf__p': ...           0.906279   \n",
       "22  {'model_clf__n_neighbors': 6, 'model_clf__p': ...           0.903468   \n",
       "32  {'model_clf__n_neighbors': 9, 'model_clf__p': ...           0.907216   \n",
       "11  {'model_clf__n_neighbors': 3, 'model_clf__p': ...           0.902530   \n",
       "25  {'model_clf__n_neighbors': 7, 'model_clf__p': ...           0.895970   \n",
       "10  {'model_clf__n_neighbors': 3, 'model_clf__p': ...           0.900656   \n",
       "24  {'model_clf__n_neighbors': 7, 'model_clf__p': ...           0.897844   \n",
       "20  {'model_clf__n_neighbors': 6, 'model_clf__p': ...           0.907216   \n",
       "13  {'model_clf__n_neighbors': 4, 'model_clf__p': ...           0.897844   \n",
       "28  {'model_clf__n_neighbors': 8, 'model_clf__p': ...           0.902530   \n",
       "14  {'model_clf__n_neighbors': 4, 'model_clf__p': ...           0.894096   \n",
       "8   {'model_clf__n_neighbors': 3, 'model_clf__p': ...           0.893158   \n",
       "9   {'model_clf__n_neighbors': 3, 'model_clf__p': ...           0.894096   \n",
       "12  {'model_clf__n_neighbors': 4, 'model_clf__p': ...           0.888472   \n",
       "3   {'model_clf__n_neighbors': 1, 'model_clf__p': ...           0.890347   \n",
       "2   {'model_clf__n_neighbors': 1, 'model_clf__p': ...           0.890347   \n",
       "7   {'model_clf__n_neighbors': 2, 'model_clf__p': ...           0.890347   \n",
       "5   {'model_clf__n_neighbors': 2, 'model_clf__p': ...           0.876289   \n",
       "1   {'model_clf__n_neighbors': 1, 'model_clf__p': ...           0.876289   \n",
       "0   {'model_clf__n_neighbors': 1, 'model_clf__p': ...           0.876289   \n",
       "6   {'model_clf__n_neighbors': 2, 'model_clf__p': ...           0.881912   \n",
       "4   {'model_clf__n_neighbors': 2, 'model_clf__p': ...           0.876289   \n",
       "\n",
       "    split1_test_score  split2_test_score  mean_test_score  std_test_score  \\\n",
       "23           0.896907           0.898687         0.902811        0.007128   \n",
       "35           0.895033           0.895872         0.902498        0.009969   \n",
       "19           0.891284           0.898687         0.902186        0.010623   \n",
       "18           0.891284           0.898687         0.901249        0.009360   \n",
       "31           0.894096           0.894934         0.900623        0.008645   \n",
       "27           0.892221           0.893996         0.900311        0.010211   \n",
       "30           0.893158           0.891182         0.899685        0.010658   \n",
       "34           0.890347           0.893996         0.899373        0.010293   \n",
       "26           0.890347           0.892120         0.898123        0.009770   \n",
       "29           0.889410           0.891182         0.897186        0.009771   \n",
       "21           0.885661           0.893058         0.896874        0.011048   \n",
       "15           0.889410           0.885553         0.894060        0.009435   \n",
       "17           0.881912           0.894934         0.893750        0.009221   \n",
       "16           0.880037           0.895872         0.893438        0.010096   \n",
       "33           0.886598           0.887430         0.893436        0.009088   \n",
       "22           0.889410           0.887430         0.893436        0.007140   \n",
       "32           0.880975           0.885553         0.891248        0.011445   \n",
       "11           0.878163           0.892120         0.890938        0.009983   \n",
       "25           0.886598           0.889306         0.890625        0.003938   \n",
       "10           0.878163           0.892120         0.890313        0.009271   \n",
       "24           0.884724           0.887430         0.889999        0.005656   \n",
       "20           0.879100           0.880863         0.889060        0.012859   \n",
       "13           0.886598           0.877111         0.887184        0.008475   \n",
       "28           0.874414           0.879925         0.885623        0.012165   \n",
       "14           0.882849           0.878049         0.884998        0.006725   \n",
       "8            0.879100           0.880863         0.884374        0.006253   \n",
       "9            0.879100           0.879925         0.884374        0.006883   \n",
       "12           0.872540           0.872420         0.877811        0.007539   \n",
       "3            0.872540           0.863977         0.875621        0.010984   \n",
       "2            0.872540           0.863977         0.875621        0.010984   \n",
       "7            0.872540           0.863977         0.875621        0.010984   \n",
       "5            0.867854           0.855535         0.866559        0.008522   \n",
       "1            0.867854           0.855535         0.866559        0.008522   \n",
       "0            0.867854           0.855535         0.866559        0.008522   \n",
       "6            0.851921           0.858349         0.864061        0.012893   \n",
       "4            0.849110           0.843340         0.856246        0.014367   \n",
       "\n",
       "    rank_test_score  \n",
       "23                1  \n",
       "35                2  \n",
       "19                3  \n",
       "18                4  \n",
       "31                5  \n",
       "27                6  \n",
       "30                7  \n",
       "34                8  \n",
       "26                9  \n",
       "29               10  \n",
       "21               11  \n",
       "15               12  \n",
       "17               13  \n",
       "16               14  \n",
       "33               15  \n",
       "22               15  \n",
       "32               17  \n",
       "11               18  \n",
       "25               19  \n",
       "10               20  \n",
       "24               21  \n",
       "20               22  \n",
       "13               23  \n",
       "28               24  \n",
       "14               25  \n",
       "8                26  \n",
       "9                27  \n",
       "12               28  \n",
       "3                29  \n",
       "2                29  \n",
       "7                29  \n",
       "5                32  \n",
       "1                32  \n",
       "0                32  \n",
       "6                35  \n",
       "4                36  "
      ]
     },
     "execution_count": 53,
     "metadata": {},
     "output_type": "execute_result"
    }
   ],
   "source": [
    "pd.DataFrame(model_grid.cv_results_).sort_values('rank_test_score')"
   ]
  },
  {
   "cell_type": "code",
   "execution_count": null,
   "metadata": {},
   "outputs": [
    {
     "name": "stderr",
     "output_type": "stream",
     "text": [
      "c:\\Users\\ARSY\\anaconda3\\envs\\myenv\\Lib\\site-packages\\seaborn\\_oldcore.py:1119: FutureWarning: use_inf_as_na option is deprecated and will be removed in a future version. Convert inf values to NaN before operating instead.\n",
      "  with pd.option_context('mode.use_inf_as_na', True):\n"
     ]
    },
    {
     "data": {
      "text/plain": [
       "<Axes: ylabel='Count'>"
      ]
     },
     "execution_count": 129,
     "metadata": {},
     "output_type": "execute_result"
    },
    {
     "data": {
      "image/png": "[encoded data removed]",
      "text/plain": [
       "<Figure size 640x480 with 1 Axes>"
      ]
     },
     "metadata": {},
     "output_type": "display_data"
    }
   ],
   "source": [
    "sns.histplot(X_train_scaled)"
   ]
  },
  {
   "cell_type": "code",
   "execution_count": null,
   "metadata": {},
   "outputs": [
    {
     "data": {
      "text/plain": [
       "<Axes: >"
      ]
     },
     "execution_count": 130,
     "metadata": {},
     "output_type": "execute_result"
    },
    {
     "data": {
      "image/png": "[encoded data removed]",
      "text/plain": [
       "<Figure size 640x480 with 1 Axes>"
      ]
     },
     "metadata": {},
     "output_type": "display_data"
    }
   ],
   "source": [
    "sns.boxplot(X_train_scaled)"
   ]
  },
  {
   "cell_type": "code",
   "execution_count": 58,
   "metadata": {},
   "outputs": [
    {
     "name": "stderr",
     "output_type": "stream",
     "text": [
      "C:\\Users\\ARSY\\AppData\\Local\\Temp\\ipykernel_8188\\3295641738.py:2: UserWarning: \n",
      "\n",
      "`distplot` is a deprecated function and will be removed in seaborn v0.14.0.\n",
      "\n",
      "Please adapt your code to use either `displot` (a figure-level function with\n",
      "similar flexibility) or `histplot` (an axes-level function for histograms).\n",
      "\n",
      "For a guide to updating your code to use the new functions, please see\n",
      "https://gist.github.com/mwaskom/de44147ed2974457ad6372750bbe5751\n",
      "\n",
      "  sns.distplot(apple_clear_df.Acidity[apple_clear_df.Label==0], color='b', label='bad')\n",
      "c:\\Users\\ARSY\\anaconda3\\envs\\myenv\\Lib\\site-packages\\seaborn\\_oldcore.py:1119: FutureWarning: use_inf_as_na option is deprecated and will be removed in a future version. Convert inf values to NaN before operating instead.\n",
      "  with pd.option_context('mode.use_inf_as_na', True):\n",
      "C:\\Users\\ARSY\\AppData\\Local\\Temp\\ipykernel_8188\\3295641738.py:3: UserWarning: \n",
      "\n",
      "`distplot` is a deprecated function and will be removed in seaborn v0.14.0.\n",
      "\n",
      "Please adapt your code to use either `displot` (a figure-level function with\n",
      "similar flexibility) or `histplot` (an axes-level function for histograms).\n",
      "\n",
      "For a guide to updating your code to use the new functions, please see\n",
      "https://gist.github.com/mwaskom/de44147ed2974457ad6372750bbe5751\n",
      "\n",
      "  sns.distplot(apple_clear_df.Acidity[apple_clear_df.Label==1], color='y', label='good')\n",
      "c:\\Users\\ARSY\\anaconda3\\envs\\myenv\\Lib\\site-packages\\seaborn\\_oldcore.py:1119: FutureWarning: use_inf_as_na option is deprecated and will be removed in a future version. Convert inf values to NaN before operating instead.\n",
      "  with pd.option_context('mode.use_inf_as_na', True):\n"
     ]
    },
    {
     "data": {
      "text/plain": [
       "<matplotlib.legend.Legend at 0x2bc7c2b3f90>"
      ]
     },
     "execution_count": 58,
     "metadata": {},
     "output_type": "execute_result"
    },
    {
     "data": {
      "image/png": "[encoded data removed]",
      "text/plain": [
       "<Figure size 1000x800 with 1 Axes>"
      ]
     },
     "metadata": {},
     "output_type": "display_data"
    }
   ],
   "source": [
    "plt.figure(figsize=(10, 8))\n",
    "sns.distplot(apple_clear_df.Acidity[apple_clear_df.Label==0], color='b', label='bad')\n",
    "sns.distplot(apple_clear_df.Acidity[apple_clear_df.Label==1], color='y', label='good')\n",
    "plt.legend()"
   ]
  },
  {
   "cell_type": "code",
   "execution_count": null,
   "metadata": {},
   "outputs": [],
   "source": []
  },
  {
   "cell_type": "code",
   "execution_count": null,
   "metadata": {},
   "outputs": [],
   "source": []
  }
 ],
 "metadata": {
  "kernelspec": {
   "display_name": "Python 3 (ipykernel)",
   "language": "python",
   "name": "python3"
  },
  "language_info": {
   "codemirror_mode": {
    "name": "ipython",
    "version": 3
   },
   "file_extension": ".py",
   "mimetype": "text/x-python",
   "name": "python",
   "nbconvert_exporter": "python",
   "pygments_lexer": "ipython3",
   "version": "3.11.4"
  }
 },
 "nbformat": 4,
 "nbformat_minor": 2
}
